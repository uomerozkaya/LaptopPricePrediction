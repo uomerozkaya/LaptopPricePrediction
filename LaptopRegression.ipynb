{
  "nbformat": 4,
  "nbformat_minor": 0,
  "metadata": {
    "colab": {
      "name": "LaptopRegression.ipynb",
      "provenance": [],
      "collapsed_sections": [
        "cjWPzwx5fRC3",
        "7odoZmHd1qBE",
        "d7LRL_qW_pdV",
        "LEYusAv0_1AU",
        "-lkG4_8lKIfu",
        "gNCgz0WTmO2i",
        "3DCohsSamYOB",
        "3FTRtGemmaj1",
        "g0dL2psQmdlN",
        "gumN0WUXwjZv",
        "QA3J-7mixMn3",
        "VSQTukAnxEJx",
        "HKsX8pfhf3Gy",
        "nKO3yBAOYBnq",
        "lvDp819gfCG7",
        "Av8yrYErYKOU",
        "2VGhIllDYWTZ"
      ],
      "toc_visible": true,
      "mount_file_id": "1DnOI_6k7l0HLAYun34J4nTFfY7f5AlNu",
      "authorship_tag": "ABX9TyPJqkDqKQcLhbW4jCBlb7C0",
      "include_colab_link": true
    },
    "kernelspec": {
      "name": "python3",
      "display_name": "Python 3"
    },
    "language_info": {
      "name": "python"
    }
  },
  "cells": [
    {
      "cell_type": "markdown",
      "metadata": {
        "id": "view-in-github",
        "colab_type": "text"
      },
      "source": [
        "<a href=\"https://colab.research.google.com/github/uomerozkaya/LaptopPricePrediction/blob/main/LaptopRegression.ipynb\" target=\"_parent\"><img src=\"https://colab.research.google.com/assets/colab-badge.svg\" alt=\"Open In Colab\"/></a>"
      ]
    },
    {
      "cell_type": "markdown",
      "metadata": {
        "id": "cjWPzwx5fRC3"
      },
      "source": [
        "#Data"
      ]
    },
    {
      "cell_type": "code",
      "metadata": {
        "colab": {
          "base_uri": "https://localhost:8080/",
          "height": 887
        },
        "id": "OF63HpVP68dF",
        "outputId": "c1fa2d4c-2529-476c-8c4f-b3bb0e5bfa56"
      },
      "source": [
        "import pandas as pd\n",
        "import numpy as np\n",
        "import matplotlib.pyplot as plt\n",
        "#xl_file = pd.ExcelFile(\"/content/drive/MyDrive/laptopx.xlsx\")\n",
        "df = pd.read_excel(\"/content/drive/MyDrive/laptopreg.xlsx\")\n",
        "df"
      ],
      "execution_count": null,
      "outputs": [
        {
          "output_type": "execute_result",
          "data": {
            "text/html": [
              "\n",
              "  <div id=\"df-469b35eb-95ef-4379-afae-5a1738c4d5df\">\n",
              "    <div class=\"colab-df-container\">\n",
              "      <div>\n",
              "<style scoped>\n",
              "    .dataframe tbody tr th:only-of-type {\n",
              "        vertical-align: middle;\n",
              "    }\n",
              "\n",
              "    .dataframe tbody tr th {\n",
              "        vertical-align: top;\n",
              "    }\n",
              "\n",
              "    .dataframe thead th {\n",
              "        text-align: right;\n",
              "    }\n",
              "</style>\n",
              "<table border=\"1\" class=\"dataframe\">\n",
              "  <thead>\n",
              "    <tr style=\"text-align: right;\">\n",
              "      <th></th>\n",
              "      <th>Unnamed: 0</th>\n",
              "      <th>[['İşlemci Tipi'</th>\n",
              "      <th>'Ram (Sistem Belleği)'</th>\n",
              "      <th>'SSD Kapasitesi'</th>\n",
              "      <th>'Ekran Kartı'</th>\n",
              "      <th>'Garanti Tipi'</th>\n",
              "      <th>'İşletim Sistemi'</th>\n",
              "      <th>'Kullanım Amacı'</th>\n",
              "      <th>'Optik Sürücü Tipi'</th>\n",
              "      <th>'Ekran Boyutu'</th>\n",
              "      <th>'Temel İşlemci Hızı (GHz)'</th>\n",
              "      <th>'Ekran Kartı Tipi'</th>\n",
              "      <th>'Kapasite'</th>\n",
              "      <th>'Ram (Sistem Belleği) Tipi'</th>\n",
              "      <th>'Ekran Kartı Hafızası'</th>\n",
              "      <th>'Cihaz Ağırlığı'</th>\n",
              "      <th>'Renk'</th>\n",
              "      <th>'Klavye'</th>\n",
              "      <th>'Ekran Kartı Bellek Tipi'</th>\n",
              "      <th>'İşlemci Nesli'</th>\n",
              "      <th>'İşlemci Çekirdek Sayısı'</th>\n",
              "      <th>'Çözünürlük Standartı'</th>\n",
              "      <th>'Dokunmatik Ekran'</th>\n",
              "      <th>'İşlemci Modeli'</th>\n",
              "      <th>'Hard Disk Kapasitesi'</th>\n",
              "      <th>'Ekran Yenileme Hızı'</th>\n",
              "      <th>'Çözünürlük']]</th>\n",
              "      <th>'Bağlantılar'</th>\n",
              "      <th>'Panel Tipi'</th>\n",
              "      <th>'Şarjlı Kullanım Süresi'</th>\n",
              "      <th>[['Garanti Tipi'</th>\n",
              "      <th>'İşlemci Tipi'</th>\n",
              "      <th>'Çözünürlük'</th>\n",
              "      <th>'Ekran Özelliği']]</th>\n",
              "      <th>'Arttırılabilir Azami Bellek'</th>\n",
              "      <th>'Kapasite']]</th>\n",
              "      <th>[['Kullanım Amacı'</th>\n",
              "      <th>'Ram (Sistem Belleği) Tipi']]</th>\n",
              "      <th>'Ekran Özelliği'</th>\n",
              "      <th>'HDMI']]</th>\n",
              "      <th>'HDMI'</th>\n",
              "      <th>'Maksimum İşlemci Hızı (GHz)'</th>\n",
              "      <th>'Kullanım Amacı']]</th>\n",
              "      <th>'Görüntü Kalitesi'</th>\n",
              "      <th>'Maksimum İşlemci Hızı (GHz)']]</th>\n",
              "      <th>'İşlemci Nesli']]</th>\n",
              "      <th>'Ekran Kartı']]</th>\n",
              "      <th>'Panel Tipi']]</th>\n",
              "      <th>'Ekran Kartı Tipi']]</th>\n",
              "      <th>'İşlemci Frekansı']]</th>\n",
              "      <th>'İşlemci Modeli']]</th>\n",
              "      <th>'Okula Dönüş'</th>\n",
              "      <th>'Renk']]</th>\n",
              "      <th>'Ekran Boyutu']]</th>\n",
              "      <th>[['Ram (Sistem Belleği)'</th>\n",
              "      <th>'Görüntü Kalitesi']]</th>\n",
              "      <th>[['Ekran Kartı'</th>\n",
              "      <th>'İşlemci Frekansı'</th>\n",
              "      <th>'Bağlantı Girişleri'</th>\n",
              "      <th>'Ekran Yenileme Hızı']]</th>\n",
              "      <th>'Optik Sürücü'</th>\n",
              "      <th>'Optik Sürücü']]</th>\n",
              "      <th>'Okula Dönüş']]</th>\n",
              "      <th>Ürün Fiyatı</th>\n",
              "    </tr>\n",
              "  </thead>\n",
              "  <tbody>\n",
              "    <tr>\n",
              "      <th>0</th>\n",
              "      <td>0</td>\n",
              "      <td>[['Intel Core i7'</td>\n",
              "      <td>'8 GB'</td>\n",
              "      <td>'256 GB'</td>\n",
              "      <td>'Paylaşımlı'</td>\n",
              "      <td>'Resmi Distribütör Garantili'</td>\n",
              "      <td>'Ubuntu'</td>\n",
              "      <td>'Ofis - İş'</td>\n",
              "      <td>'Yok'</td>\n",
              "      <td>'15,6 inç'</td>\n",
              "      <td>'2.8'</td>\n",
              "      <td>'Dahili'</td>\n",
              "      <td>'Yok'</td>\n",
              "      <td>'DDR4'</td>\n",
              "      <td>'Paylaşımlı'</td>\n",
              "      <td>'2 kg ve Altı'</td>\n",
              "      <td>'Siyah'</td>\n",
              "      <td>'Q Türkçe'</td>\n",
              "      <td>'GDDR5'</td>\n",
              "      <td>'11.Nesil'</td>\n",
              "      <td>'4'</td>\n",
              "      <td>'Full HD (FHD)'</td>\n",
              "      <td>'Yok'</td>\n",
              "      <td>'1165G7'</td>\n",
              "      <td>'Yok'</td>\n",
              "      <td>'Belirtilmemiş'</td>\n",
              "      <td>'1920 x 1080']]</td>\n",
              "      <td>NaN</td>\n",
              "      <td>NaN</td>\n",
              "      <td>NaN</td>\n",
              "      <td>NaN</td>\n",
              "      <td>NaN</td>\n",
              "      <td>NaN</td>\n",
              "      <td>NaN</td>\n",
              "      <td>NaN</td>\n",
              "      <td>NaN</td>\n",
              "      <td>NaN</td>\n",
              "      <td>NaN</td>\n",
              "      <td>NaN</td>\n",
              "      <td>NaN</td>\n",
              "      <td>NaN</td>\n",
              "      <td>NaN</td>\n",
              "      <td>NaN</td>\n",
              "      <td>NaN</td>\n",
              "      <td>NaN</td>\n",
              "      <td>NaN</td>\n",
              "      <td>NaN</td>\n",
              "      <td>NaN</td>\n",
              "      <td>NaN</td>\n",
              "      <td>NaN</td>\n",
              "      <td>NaN</td>\n",
              "      <td>NaN</td>\n",
              "      <td>NaN</td>\n",
              "      <td>NaN</td>\n",
              "      <td>NaN</td>\n",
              "      <td>NaN</td>\n",
              "      <td>NaN</td>\n",
              "      <td>NaN</td>\n",
              "      <td>NaN</td>\n",
              "      <td>NaN</td>\n",
              "      <td>NaN</td>\n",
              "      <td>NaN</td>\n",
              "      <td>NaN</td>\n",
              "      <td>14788.0</td>\n",
              "    </tr>\n",
              "    <tr>\n",
              "      <th>1</th>\n",
              "      <td>1</td>\n",
              "      <td>[['Intel Core i5'</td>\n",
              "      <td>'16 GB'</td>\n",
              "      <td>'512 GB'</td>\n",
              "      <td>'Nvidia GeForce MX330'</td>\n",
              "      <td>'Resmi Distribütör Garantili'</td>\n",
              "      <td>'Windows'</td>\n",
              "      <td>'Ev - Okul'</td>\n",
              "      <td>'Yok'</td>\n",
              "      <td>'14 inç'</td>\n",
              "      <td>'2.4'</td>\n",
              "      <td>'Harici'</td>\n",
              "      <td>NaN</td>\n",
              "      <td>'DDR4'</td>\n",
              "      <td>'2 GB'</td>\n",
              "      <td>'2 - 4 kg'</td>\n",
              "      <td>'Siyah'</td>\n",
              "      <td>'Q Türkçe'</td>\n",
              "      <td>'GDDR5'</td>\n",
              "      <td>'11.Nesil'</td>\n",
              "      <td>'4'</td>\n",
              "      <td>'Full HD (FHD)'</td>\n",
              "      <td>'Yok'</td>\n",
              "      <td>'1135G7'</td>\n",
              "      <td>'Yok'</td>\n",
              "      <td>'60 Hz'</td>\n",
              "      <td>'1920 x 1080']]</td>\n",
              "      <td>NaN</td>\n",
              "      <td>NaN</td>\n",
              "      <td>NaN</td>\n",
              "      <td>NaN</td>\n",
              "      <td>NaN</td>\n",
              "      <td>NaN</td>\n",
              "      <td>NaN</td>\n",
              "      <td>NaN</td>\n",
              "      <td>NaN</td>\n",
              "      <td>NaN</td>\n",
              "      <td>NaN</td>\n",
              "      <td>NaN</td>\n",
              "      <td>NaN</td>\n",
              "      <td>NaN</td>\n",
              "      <td>NaN</td>\n",
              "      <td>NaN</td>\n",
              "      <td>NaN</td>\n",
              "      <td>NaN</td>\n",
              "      <td>NaN</td>\n",
              "      <td>NaN</td>\n",
              "      <td>NaN</td>\n",
              "      <td>NaN</td>\n",
              "      <td>NaN</td>\n",
              "      <td>NaN</td>\n",
              "      <td>NaN</td>\n",
              "      <td>NaN</td>\n",
              "      <td>NaN</td>\n",
              "      <td>NaN</td>\n",
              "      <td>NaN</td>\n",
              "      <td>NaN</td>\n",
              "      <td>NaN</td>\n",
              "      <td>NaN</td>\n",
              "      <td>NaN</td>\n",
              "      <td>NaN</td>\n",
              "      <td>NaN</td>\n",
              "      <td>NaN</td>\n",
              "      <td>11009.0</td>\n",
              "    </tr>\n",
              "    <tr>\n",
              "      <th>2</th>\n",
              "      <td>2</td>\n",
              "      <td>[['Intel Core i5'</td>\n",
              "      <td>'8 GB'</td>\n",
              "      <td>'256 GB'</td>\n",
              "      <td>'Intel Iris Graphics'</td>\n",
              "      <td>'Resmi Distribütör Garantili'</td>\n",
              "      <td>'Windows'</td>\n",
              "      <td>'Ofis - İş'</td>\n",
              "      <td>'Yok'</td>\n",
              "      <td>'15,6 inç'</td>\n",
              "      <td>'4.2'</td>\n",
              "      <td>'Dahili'</td>\n",
              "      <td>'8 GB'</td>\n",
              "      <td>'DDR4'</td>\n",
              "      <td>'Paylaşımlı'</td>\n",
              "      <td>'2 kg ve Altı'</td>\n",
              "      <td>'Gümüş'</td>\n",
              "      <td>'Q Türkçe'</td>\n",
              "      <td>'DDR4'</td>\n",
              "      <td>'11.Nesil'</td>\n",
              "      <td>'4'</td>\n",
              "      <td>'Full HD (FHD)'</td>\n",
              "      <td>'Yok'</td>\n",
              "      <td>'1135G7'</td>\n",
              "      <td>'250 GB'</td>\n",
              "      <td>'60 Hz'</td>\n",
              "      <td>'1920 x 1080']]</td>\n",
              "      <td>'Bluetooth'</td>\n",
              "      <td>'VA'</td>\n",
              "      <td>'4 - 6 Saat'</td>\n",
              "      <td>NaN</td>\n",
              "      <td>NaN</td>\n",
              "      <td>NaN</td>\n",
              "      <td>NaN</td>\n",
              "      <td>NaN</td>\n",
              "      <td>NaN</td>\n",
              "      <td>NaN</td>\n",
              "      <td>NaN</td>\n",
              "      <td>NaN</td>\n",
              "      <td>NaN</td>\n",
              "      <td>NaN</td>\n",
              "      <td>NaN</td>\n",
              "      <td>NaN</td>\n",
              "      <td>NaN</td>\n",
              "      <td>NaN</td>\n",
              "      <td>NaN</td>\n",
              "      <td>NaN</td>\n",
              "      <td>NaN</td>\n",
              "      <td>NaN</td>\n",
              "      <td>NaN</td>\n",
              "      <td>NaN</td>\n",
              "      <td>NaN</td>\n",
              "      <td>NaN</td>\n",
              "      <td>NaN</td>\n",
              "      <td>NaN</td>\n",
              "      <td>NaN</td>\n",
              "      <td>NaN</td>\n",
              "      <td>NaN</td>\n",
              "      <td>NaN</td>\n",
              "      <td>NaN</td>\n",
              "      <td>NaN</td>\n",
              "      <td>NaN</td>\n",
              "      <td>NaN</td>\n",
              "      <td>9000.0</td>\n",
              "    </tr>\n",
              "    <tr>\n",
              "      <th>3</th>\n",
              "      <td>3</td>\n",
              "      <td>[['Intel Celeron'</td>\n",
              "      <td>'4 GB'</td>\n",
              "      <td>'128 GB'</td>\n",
              "      <td>'Paylaşımlı'</td>\n",
              "      <td>'Resmi Distribütör Garantili'</td>\n",
              "      <td>'Windows'</td>\n",
              "      <td>'Ofis - İş'</td>\n",
              "      <td>'Yok'</td>\n",
              "      <td>'14 inç'</td>\n",
              "      <td>'1.1'</td>\n",
              "      <td>'Dahili'</td>\n",
              "      <td>'Yok'</td>\n",
              "      <td>'DDR4'</td>\n",
              "      <td>'Paylaşımlı'</td>\n",
              "      <td>'2 kg ve Altı'</td>\n",
              "      <td>'Gri'</td>\n",
              "      <td>'Q Türkçe'</td>\n",
              "      <td>'SD'</td>\n",
              "      <td>'Yok'</td>\n",
              "      <td>'2'</td>\n",
              "      <td>'HD Ready (HD)'</td>\n",
              "      <td>'Yok'</td>\n",
              "      <td>'N3350'</td>\n",
              "      <td>'Yok'</td>\n",
              "      <td>'Yok'</td>\n",
              "      <td>'1366 x 768']]</td>\n",
              "      <td>NaN</td>\n",
              "      <td>NaN</td>\n",
              "      <td>NaN</td>\n",
              "      <td>NaN</td>\n",
              "      <td>NaN</td>\n",
              "      <td>NaN</td>\n",
              "      <td>NaN</td>\n",
              "      <td>NaN</td>\n",
              "      <td>NaN</td>\n",
              "      <td>NaN</td>\n",
              "      <td>NaN</td>\n",
              "      <td>NaN</td>\n",
              "      <td>NaN</td>\n",
              "      <td>NaN</td>\n",
              "      <td>NaN</td>\n",
              "      <td>NaN</td>\n",
              "      <td>NaN</td>\n",
              "      <td>NaN</td>\n",
              "      <td>NaN</td>\n",
              "      <td>NaN</td>\n",
              "      <td>NaN</td>\n",
              "      <td>NaN</td>\n",
              "      <td>NaN</td>\n",
              "      <td>NaN</td>\n",
              "      <td>NaN</td>\n",
              "      <td>NaN</td>\n",
              "      <td>NaN</td>\n",
              "      <td>NaN</td>\n",
              "      <td>NaN</td>\n",
              "      <td>NaN</td>\n",
              "      <td>NaN</td>\n",
              "      <td>NaN</td>\n",
              "      <td>NaN</td>\n",
              "      <td>NaN</td>\n",
              "      <td>NaN</td>\n",
              "      <td>NaN</td>\n",
              "      <td>2499.0</td>\n",
              "    </tr>\n",
              "    <tr>\n",
              "      <th>4</th>\n",
              "      <td>4</td>\n",
              "      <td>NaN</td>\n",
              "      <td>'4 GB'</td>\n",
              "      <td>'128 GB'</td>\n",
              "      <td>'Dahili Ekran Kartı'</td>\n",
              "      <td>NaN</td>\n",
              "      <td>'Windows'</td>\n",
              "      <td>'Ofis - İş'</td>\n",
              "      <td>'Yok'</td>\n",
              "      <td>'15,6 inç'</td>\n",
              "      <td>NaN</td>\n",
              "      <td>'Dahili'</td>\n",
              "      <td>'128 GB'</td>\n",
              "      <td>NaN</td>\n",
              "      <td>'Paylaşımlı'</td>\n",
              "      <td>'2 kg ve Altı'</td>\n",
              "      <td>'Gri'</td>\n",
              "      <td>'Q Türkçe'</td>\n",
              "      <td>'DDR4'</td>\n",
              "      <td>'10. Nesil'</td>\n",
              "      <td>'2'</td>\n",
              "      <td>'HD Ready (HD)'</td>\n",
              "      <td>'Yok'</td>\n",
              "      <td>'3250U'</td>\n",
              "      <td>NaN</td>\n",
              "      <td>NaN</td>\n",
              "      <td>NaN</td>\n",
              "      <td>NaN</td>\n",
              "      <td>NaN</td>\n",
              "      <td>NaN</td>\n",
              "      <td>[['Resmi Distribütör Garantili'</td>\n",
              "      <td>'AMD Ryzen 3'</td>\n",
              "      <td>'1920 x 1080'</td>\n",
              "      <td>'HD']]</td>\n",
              "      <td>NaN</td>\n",
              "      <td>NaN</td>\n",
              "      <td>NaN</td>\n",
              "      <td>NaN</td>\n",
              "      <td>NaN</td>\n",
              "      <td>NaN</td>\n",
              "      <td>NaN</td>\n",
              "      <td>NaN</td>\n",
              "      <td>NaN</td>\n",
              "      <td>NaN</td>\n",
              "      <td>NaN</td>\n",
              "      <td>NaN</td>\n",
              "      <td>NaN</td>\n",
              "      <td>NaN</td>\n",
              "      <td>NaN</td>\n",
              "      <td>NaN</td>\n",
              "      <td>NaN</td>\n",
              "      <td>NaN</td>\n",
              "      <td>NaN</td>\n",
              "      <td>NaN</td>\n",
              "      <td>NaN</td>\n",
              "      <td>NaN</td>\n",
              "      <td>NaN</td>\n",
              "      <td>NaN</td>\n",
              "      <td>NaN</td>\n",
              "      <td>NaN</td>\n",
              "      <td>NaN</td>\n",
              "      <td>NaN</td>\n",
              "      <td>NaN</td>\n",
              "      <td>5800.0</td>\n",
              "    </tr>\n",
              "    <tr>\n",
              "      <th>...</th>\n",
              "      <td>...</td>\n",
              "      <td>...</td>\n",
              "      <td>...</td>\n",
              "      <td>...</td>\n",
              "      <td>...</td>\n",
              "      <td>...</td>\n",
              "      <td>...</td>\n",
              "      <td>...</td>\n",
              "      <td>...</td>\n",
              "      <td>...</td>\n",
              "      <td>...</td>\n",
              "      <td>...</td>\n",
              "      <td>...</td>\n",
              "      <td>...</td>\n",
              "      <td>...</td>\n",
              "      <td>...</td>\n",
              "      <td>...</td>\n",
              "      <td>...</td>\n",
              "      <td>...</td>\n",
              "      <td>...</td>\n",
              "      <td>...</td>\n",
              "      <td>...</td>\n",
              "      <td>...</td>\n",
              "      <td>...</td>\n",
              "      <td>...</td>\n",
              "      <td>...</td>\n",
              "      <td>...</td>\n",
              "      <td>...</td>\n",
              "      <td>...</td>\n",
              "      <td>...</td>\n",
              "      <td>...</td>\n",
              "      <td>...</td>\n",
              "      <td>...</td>\n",
              "      <td>...</td>\n",
              "      <td>...</td>\n",
              "      <td>...</td>\n",
              "      <td>...</td>\n",
              "      <td>...</td>\n",
              "      <td>...</td>\n",
              "      <td>...</td>\n",
              "      <td>...</td>\n",
              "      <td>...</td>\n",
              "      <td>...</td>\n",
              "      <td>...</td>\n",
              "      <td>...</td>\n",
              "      <td>...</td>\n",
              "      <td>...</td>\n",
              "      <td>...</td>\n",
              "      <td>...</td>\n",
              "      <td>...</td>\n",
              "      <td>...</td>\n",
              "      <td>...</td>\n",
              "      <td>...</td>\n",
              "      <td>...</td>\n",
              "      <td>...</td>\n",
              "      <td>...</td>\n",
              "      <td>...</td>\n",
              "      <td>...</td>\n",
              "      <td>...</td>\n",
              "      <td>...</td>\n",
              "      <td>...</td>\n",
              "      <td>...</td>\n",
              "      <td>...</td>\n",
              "      <td>...</td>\n",
              "    </tr>\n",
              "    <tr>\n",
              "      <th>11995</th>\n",
              "      <td>11995</td>\n",
              "      <td>[['Intel Core i5'</td>\n",
              "      <td>'8 GB'</td>\n",
              "      <td>'256 GB'</td>\n",
              "      <td>'Nvidia GeForce MX130'</td>\n",
              "      <td>'Resmi Distribütör Garantili'</td>\n",
              "      <td>'Windows'</td>\n",
              "      <td>'Ofis - İş'</td>\n",
              "      <td>'Yok'</td>\n",
              "      <td>'15,6 inç'</td>\n",
              "      <td>'1.1'</td>\n",
              "      <td>'Harici'</td>\n",
              "      <td>NaN</td>\n",
              "      <td>'DDR4'</td>\n",
              "      <td>'2 GB'</td>\n",
              "      <td>'2 - 4 kg'</td>\n",
              "      <td>'Çok Renkli'</td>\n",
              "      <td>'Q Türkçe'</td>\n",
              "      <td>'GDDR5'</td>\n",
              "      <td>'10. Nesil'</td>\n",
              "      <td>'6'</td>\n",
              "      <td>'Full HD (FHD)'</td>\n",
              "      <td>'Yok'</td>\n",
              "      <td>'1035G1'</td>\n",
              "      <td>'Yok'</td>\n",
              "      <td>'60 Hz'</td>\n",
              "      <td>'1920 x 1080']]</td>\n",
              "      <td>NaN</td>\n",
              "      <td>NaN</td>\n",
              "      <td>NaN</td>\n",
              "      <td>NaN</td>\n",
              "      <td>NaN</td>\n",
              "      <td>NaN</td>\n",
              "      <td>NaN</td>\n",
              "      <td>NaN</td>\n",
              "      <td>NaN</td>\n",
              "      <td>NaN</td>\n",
              "      <td>NaN</td>\n",
              "      <td>NaN</td>\n",
              "      <td>NaN</td>\n",
              "      <td>NaN</td>\n",
              "      <td>NaN</td>\n",
              "      <td>NaN</td>\n",
              "      <td>NaN</td>\n",
              "      <td>NaN</td>\n",
              "      <td>NaN</td>\n",
              "      <td>NaN</td>\n",
              "      <td>NaN</td>\n",
              "      <td>NaN</td>\n",
              "      <td>NaN</td>\n",
              "      <td>NaN</td>\n",
              "      <td>NaN</td>\n",
              "      <td>NaN</td>\n",
              "      <td>NaN</td>\n",
              "      <td>NaN</td>\n",
              "      <td>NaN</td>\n",
              "      <td>NaN</td>\n",
              "      <td>NaN</td>\n",
              "      <td>NaN</td>\n",
              "      <td>NaN</td>\n",
              "      <td>NaN</td>\n",
              "      <td>NaN</td>\n",
              "      <td>NaN</td>\n",
              "      <td>8778.0</td>\n",
              "    </tr>\n",
              "    <tr>\n",
              "      <th>11996</th>\n",
              "      <td>11996</td>\n",
              "      <td>[['AMD Ryzen 5'</td>\n",
              "      <td>'16 GB'</td>\n",
              "      <td>'512 GB'</td>\n",
              "      <td>'AMD Radeon R5'</td>\n",
              "      <td>'Resmi Distribütör Garantili'</td>\n",
              "      <td>'Windows'</td>\n",
              "      <td>NaN</td>\n",
              "      <td>'Yok'</td>\n",
              "      <td>'16 inç'</td>\n",
              "      <td>NaN</td>\n",
              "      <td>'Dahili'</td>\n",
              "      <td>'512 GB'</td>\n",
              "      <td>'DDR4'</td>\n",
              "      <td>'Paylaşımlı'</td>\n",
              "      <td>'2 kg ve Altı'</td>\n",
              "      <td>NaN</td>\n",
              "      <td>'Q Türkçe'</td>\n",
              "      <td>'DDR4'</td>\n",
              "      <td>'Ryzen'</td>\n",
              "      <td>'Belirtilmemiş'</td>\n",
              "      <td>'Full HD (FHD)'</td>\n",
              "      <td>'Yok'</td>\n",
              "      <td>'Ryzen 5 5600'</td>\n",
              "      <td>'Yok'</td>\n",
              "      <td>'Belirtilmemiş'</td>\n",
              "      <td>NaN</td>\n",
              "      <td>NaN</td>\n",
              "      <td>NaN</td>\n",
              "      <td>NaN</td>\n",
              "      <td>NaN</td>\n",
              "      <td>NaN</td>\n",
              "      <td>'1920 x 1080'</td>\n",
              "      <td>NaN</td>\n",
              "      <td>NaN</td>\n",
              "      <td>NaN</td>\n",
              "      <td>NaN</td>\n",
              "      <td>NaN</td>\n",
              "      <td>NaN</td>\n",
              "      <td>NaN</td>\n",
              "      <td>NaN</td>\n",
              "      <td>'4.0'</td>\n",
              "      <td>'Oyun']]</td>\n",
              "      <td>NaN</td>\n",
              "      <td>NaN</td>\n",
              "      <td>NaN</td>\n",
              "      <td>NaN</td>\n",
              "      <td>NaN</td>\n",
              "      <td>NaN</td>\n",
              "      <td>NaN</td>\n",
              "      <td>NaN</td>\n",
              "      <td>NaN</td>\n",
              "      <td>NaN</td>\n",
              "      <td>NaN</td>\n",
              "      <td>NaN</td>\n",
              "      <td>NaN</td>\n",
              "      <td>NaN</td>\n",
              "      <td>NaN</td>\n",
              "      <td>NaN</td>\n",
              "      <td>NaN</td>\n",
              "      <td>NaN</td>\n",
              "      <td>NaN</td>\n",
              "      <td>NaN</td>\n",
              "      <td>10449.0</td>\n",
              "    </tr>\n",
              "    <tr>\n",
              "      <th>11997</th>\n",
              "      <td>11997</td>\n",
              "      <td>NaN</td>\n",
              "      <td>'4 GB'</td>\n",
              "      <td>'256 GB'</td>\n",
              "      <td>NaN</td>\n",
              "      <td>'Resmi Distribütör Garantili'</td>\n",
              "      <td>'Windows'</td>\n",
              "      <td>'Ev - Okul'</td>\n",
              "      <td>'Yok'</td>\n",
              "      <td>'15,6 inç'</td>\n",
              "      <td>'2 - 3'</td>\n",
              "      <td>'Dahili'</td>\n",
              "      <td>'256 GB'</td>\n",
              "      <td>NaN</td>\n",
              "      <td>'Paylaşımlı'</td>\n",
              "      <td>'2 - 4 kg'</td>\n",
              "      <td>'Gri'</td>\n",
              "      <td>'Q Türkçe'</td>\n",
              "      <td>'DDR'</td>\n",
              "      <td>NaN</td>\n",
              "      <td>NaN</td>\n",
              "      <td>'Full HD (FHD)'</td>\n",
              "      <td>'Yok'</td>\n",
              "      <td>'3500U'</td>\n",
              "      <td>NaN</td>\n",
              "      <td>NaN</td>\n",
              "      <td>NaN</td>\n",
              "      <td>'HDMI'</td>\n",
              "      <td>NaN</td>\n",
              "      <td>NaN</td>\n",
              "      <td>NaN</td>\n",
              "      <td>'AMD Ryzen 5'</td>\n",
              "      <td>'1366 x 768'</td>\n",
              "      <td>NaN</td>\n",
              "      <td>NaN</td>\n",
              "      <td>NaN</td>\n",
              "      <td>NaN</td>\n",
              "      <td>NaN</td>\n",
              "      <td>NaN</td>\n",
              "      <td>'Var']]</td>\n",
              "      <td>NaN</td>\n",
              "      <td>NaN</td>\n",
              "      <td>NaN</td>\n",
              "      <td>NaN</td>\n",
              "      <td>NaN</td>\n",
              "      <td>NaN</td>\n",
              "      <td>NaN</td>\n",
              "      <td>NaN</td>\n",
              "      <td>NaN</td>\n",
              "      <td>NaN</td>\n",
              "      <td>NaN</td>\n",
              "      <td>NaN</td>\n",
              "      <td>NaN</td>\n",
              "      <td>NaN</td>\n",
              "      <td>NaN</td>\n",
              "      <td>NaN</td>\n",
              "      <td>[['AMD Radeon Vega 8'</td>\n",
              "      <td>NaN</td>\n",
              "      <td>NaN</td>\n",
              "      <td>NaN</td>\n",
              "      <td>NaN</td>\n",
              "      <td>NaN</td>\n",
              "      <td>NaN</td>\n",
              "      <td>6999.0</td>\n",
              "    </tr>\n",
              "    <tr>\n",
              "      <th>11998</th>\n",
              "      <td>11998</td>\n",
              "      <td>[['Intel Core i7'</td>\n",
              "      <td>'16 GB'</td>\n",
              "      <td>'500 GB'</td>\n",
              "      <td>'Nvidia GeForce RTX3050Ti'</td>\n",
              "      <td>'Resmi Distribütör Garantili'</td>\n",
              "      <td>'Free Dos'</td>\n",
              "      <td>'Oyun'</td>\n",
              "      <td>'Yok'</td>\n",
              "      <td>'15,6 inç'</td>\n",
              "      <td>NaN</td>\n",
              "      <td>'Harici'</td>\n",
              "      <td>'Yok'</td>\n",
              "      <td>NaN</td>\n",
              "      <td>'4 GB'</td>\n",
              "      <td>'2 - 4 kg'</td>\n",
              "      <td>NaN</td>\n",
              "      <td>'Numerik Tuşlu Aydınlatmalı'</td>\n",
              "      <td>'GDDR6'</td>\n",
              "      <td>NaN</td>\n",
              "      <td>NaN</td>\n",
              "      <td>'Full HD (FHD)'</td>\n",
              "      <td>'Yok'</td>\n",
              "      <td>'11800H'</td>\n",
              "      <td>NaN</td>\n",
              "      <td>NaN</td>\n",
              "      <td>NaN</td>\n",
              "      <td>'Bluetooth'</td>\n",
              "      <td>NaN</td>\n",
              "      <td>'3 Saat ve Altı'</td>\n",
              "      <td>NaN</td>\n",
              "      <td>NaN</td>\n",
              "      <td>'1920 x 1080'</td>\n",
              "      <td>NaN</td>\n",
              "      <td>NaN</td>\n",
              "      <td>NaN</td>\n",
              "      <td>NaN</td>\n",
              "      <td>NaN</td>\n",
              "      <td>'Full HD'</td>\n",
              "      <td>NaN</td>\n",
              "      <td>NaN</td>\n",
              "      <td>NaN</td>\n",
              "      <td>NaN</td>\n",
              "      <td>'Full HD'</td>\n",
              "      <td>NaN</td>\n",
              "      <td>NaN</td>\n",
              "      <td>NaN</td>\n",
              "      <td>'VA']]</td>\n",
              "      <td>NaN</td>\n",
              "      <td>NaN</td>\n",
              "      <td>NaN</td>\n",
              "      <td>NaN</td>\n",
              "      <td>NaN</td>\n",
              "      <td>NaN</td>\n",
              "      <td>NaN</td>\n",
              "      <td>NaN</td>\n",
              "      <td>NaN</td>\n",
              "      <td>NaN</td>\n",
              "      <td>NaN</td>\n",
              "      <td>NaN</td>\n",
              "      <td>NaN</td>\n",
              "      <td>NaN</td>\n",
              "      <td>NaN</td>\n",
              "      <td>16899.0</td>\n",
              "    </tr>\n",
              "    <tr>\n",
              "      <th>11999</th>\n",
              "      <td>11999</td>\n",
              "      <td>[['AMD Ryzen 7'</td>\n",
              "      <td>'16 GB'</td>\n",
              "      <td>'512 GB'</td>\n",
              "      <td>'AMD Radeon Graphics'</td>\n",
              "      <td>'Resmi Distribütör Garantili'</td>\n",
              "      <td>'Free Dos'</td>\n",
              "      <td>'Ofis - İş'</td>\n",
              "      <td>'Yok'</td>\n",
              "      <td>'14 inç'</td>\n",
              "      <td>NaN</td>\n",
              "      <td>'Dahili'</td>\n",
              "      <td>NaN</td>\n",
              "      <td>NaN</td>\n",
              "      <td>'Paylaşımlı'</td>\n",
              "      <td>'2 kg ve Altı'</td>\n",
              "      <td>'Siyah'</td>\n",
              "      <td>'Aydınlatmalı'</td>\n",
              "      <td>'SD'</td>\n",
              "      <td>NaN</td>\n",
              "      <td>NaN</td>\n",
              "      <td>'Full HD (FHD)'</td>\n",
              "      <td>'Yok'</td>\n",
              "      <td>'5700U'</td>\n",
              "      <td>NaN</td>\n",
              "      <td>NaN</td>\n",
              "      <td>NaN</td>\n",
              "      <td>NaN</td>\n",
              "      <td>NaN</td>\n",
              "      <td>NaN</td>\n",
              "      <td>NaN</td>\n",
              "      <td>NaN</td>\n",
              "      <td>'1920 x 1080'</td>\n",
              "      <td>NaN</td>\n",
              "      <td>NaN</td>\n",
              "      <td>'Yok']]</td>\n",
              "      <td>NaN</td>\n",
              "      <td>NaN</td>\n",
              "      <td>NaN</td>\n",
              "      <td>NaN</td>\n",
              "      <td>NaN</td>\n",
              "      <td>NaN</td>\n",
              "      <td>NaN</td>\n",
              "      <td>NaN</td>\n",
              "      <td>NaN</td>\n",
              "      <td>NaN</td>\n",
              "      <td>NaN</td>\n",
              "      <td>NaN</td>\n",
              "      <td>NaN</td>\n",
              "      <td>NaN</td>\n",
              "      <td>NaN</td>\n",
              "      <td>NaN</td>\n",
              "      <td>NaN</td>\n",
              "      <td>NaN</td>\n",
              "      <td>NaN</td>\n",
              "      <td>NaN</td>\n",
              "      <td>NaN</td>\n",
              "      <td>NaN</td>\n",
              "      <td>NaN</td>\n",
              "      <td>NaN</td>\n",
              "      <td>NaN</td>\n",
              "      <td>NaN</td>\n",
              "      <td>NaN</td>\n",
              "      <td>12907.0</td>\n",
              "    </tr>\n",
              "  </tbody>\n",
              "</table>\n",
              "<p>12000 rows × 64 columns</p>\n",
              "</div>\n",
              "      <button class=\"colab-df-convert\" onclick=\"convertToInteractive('df-469b35eb-95ef-4379-afae-5a1738c4d5df')\"\n",
              "              title=\"Convert this dataframe to an interactive table.\"\n",
              "              style=\"display:none;\">\n",
              "        \n",
              "  <svg xmlns=\"http://www.w3.org/2000/svg\" height=\"24px\"viewBox=\"0 0 24 24\"\n",
              "       width=\"24px\">\n",
              "    <path d=\"M0 0h24v24H0V0z\" fill=\"none\"/>\n",
              "    <path d=\"M18.56 5.44l.94 2.06.94-2.06 2.06-.94-2.06-.94-.94-2.06-.94 2.06-2.06.94zm-11 1L8.5 8.5l.94-2.06 2.06-.94-2.06-.94L8.5 2.5l-.94 2.06-2.06.94zm10 10l.94 2.06.94-2.06 2.06-.94-2.06-.94-.94-2.06-.94 2.06-2.06.94z\"/><path d=\"M17.41 7.96l-1.37-1.37c-.4-.4-.92-.59-1.43-.59-.52 0-1.04.2-1.43.59L10.3 9.45l-7.72 7.72c-.78.78-.78 2.05 0 2.83L4 21.41c.39.39.9.59 1.41.59.51 0 1.02-.2 1.41-.59l7.78-7.78 2.81-2.81c.8-.78.8-2.07 0-2.86zM5.41 20L4 18.59l7.72-7.72 1.47 1.35L5.41 20z\"/>\n",
              "  </svg>\n",
              "      </button>\n",
              "      \n",
              "  <style>\n",
              "    .colab-df-container {\n",
              "      display:flex;\n",
              "      flex-wrap:wrap;\n",
              "      gap: 12px;\n",
              "    }\n",
              "\n",
              "    .colab-df-convert {\n",
              "      background-color: #E8F0FE;\n",
              "      border: none;\n",
              "      border-radius: 50%;\n",
              "      cursor: pointer;\n",
              "      display: none;\n",
              "      fill: #1967D2;\n",
              "      height: 32px;\n",
              "      padding: 0 0 0 0;\n",
              "      width: 32px;\n",
              "    }\n",
              "\n",
              "    .colab-df-convert:hover {\n",
              "      background-color: #E2EBFA;\n",
              "      box-shadow: 0px 1px 2px rgba(60, 64, 67, 0.3), 0px 1px 3px 1px rgba(60, 64, 67, 0.15);\n",
              "      fill: #174EA6;\n",
              "    }\n",
              "\n",
              "    [theme=dark] .colab-df-convert {\n",
              "      background-color: #3B4455;\n",
              "      fill: #D2E3FC;\n",
              "    }\n",
              "\n",
              "    [theme=dark] .colab-df-convert:hover {\n",
              "      background-color: #434B5C;\n",
              "      box-shadow: 0px 1px 3px 1px rgba(0, 0, 0, 0.15);\n",
              "      filter: drop-shadow(0px 1px 2px rgba(0, 0, 0, 0.3));\n",
              "      fill: #FFFFFF;\n",
              "    }\n",
              "  </style>\n",
              "\n",
              "      <script>\n",
              "        const buttonEl =\n",
              "          document.querySelector('#df-469b35eb-95ef-4379-afae-5a1738c4d5df button.colab-df-convert');\n",
              "        buttonEl.style.display =\n",
              "          google.colab.kernel.accessAllowed ? 'block' : 'none';\n",
              "\n",
              "        async function convertToInteractive(key) {\n",
              "          const element = document.querySelector('#df-469b35eb-95ef-4379-afae-5a1738c4d5df');\n",
              "          const dataTable =\n",
              "            await google.colab.kernel.invokeFunction('convertToInteractive',\n",
              "                                                     [key], {});\n",
              "          if (!dataTable) return;\n",
              "\n",
              "          const docLinkHtml = 'Like what you see? Visit the ' +\n",
              "            '<a target=\"_blank\" href=https://colab.research.google.com/notebooks/data_table.ipynb>data table notebook</a>'\n",
              "            + ' to learn more about interactive tables.';\n",
              "          element.innerHTML = '';\n",
              "          dataTable['output_type'] = 'display_data';\n",
              "          await google.colab.output.renderOutput(dataTable, element);\n",
              "          const docLink = document.createElement('div');\n",
              "          docLink.innerHTML = docLinkHtml;\n",
              "          element.appendChild(docLink);\n",
              "        }\n",
              "      </script>\n",
              "    </div>\n",
              "  </div>\n",
              "  "
            ],
            "text/plain": [
              "       Unnamed: 0   [['İşlemci Tipi'  ... 'Okula Dönüş']] Ürün Fiyatı\n",
              "0               0  [['Intel Core i7'  ...             NaN     14788.0\n",
              "1               1  [['Intel Core i5'  ...             NaN     11009.0\n",
              "2               2  [['Intel Core i5'  ...             NaN      9000.0\n",
              "3               3  [['Intel Celeron'  ...             NaN      2499.0\n",
              "4               4                NaN  ...             NaN      5800.0\n",
              "...           ...                ...  ...             ...         ...\n",
              "11995       11995  [['Intel Core i5'  ...             NaN      8778.0\n",
              "11996       11996    [['AMD Ryzen 5'  ...             NaN     10449.0\n",
              "11997       11997                NaN  ...             NaN      6999.0\n",
              "11998       11998  [['Intel Core i7'  ...             NaN     16899.0\n",
              "11999       11999    [['AMD Ryzen 7'  ...             NaN     12907.0\n",
              "\n",
              "[12000 rows x 64 columns]"
            ]
          },
          "metadata": {},
          "execution_count": 1
        }
      ]
    },
    {
      "cell_type": "code",
      "source": [
        "len(df.columns)"
      ],
      "metadata": {
        "colab": {
          "base_uri": "https://localhost:8080/"
        },
        "id": "2r8TNjf6ydRT",
        "outputId": "fb2ccfa7-b79c-4f59-a9e7-3ea2cf003515"
      },
      "execution_count": null,
      "outputs": [
        {
          "output_type": "execute_result",
          "data": {
            "text/plain": [
              "64"
            ]
          },
          "metadata": {},
          "execution_count": 2
        }
      ]
    },
    {
      "cell_type": "code",
      "metadata": {
        "id": "Wfcy4HND8vmo"
      },
      "source": [
        "#i = 0\n",
        "#while i <= 60:\n",
        "#  plt.figure(figsize=(30, 20))\n",
        "#  plt.title(df.columns[i],fontsize = 20)\n",
        "#  df[df.columns[i]].hist()  \n",
        "#  i = i + 1 "
      ],
      "execution_count": null,
      "outputs": []
    },
    {
      "cell_type": "markdown",
      "metadata": {
        "id": "7odoZmHd1qBE"
      },
      "source": [
        "# kolon düzen"
      ]
    },
    {
      "cell_type": "code",
      "metadata": {
        "colab": {
          "base_uri": "https://localhost:8080/",
          "height": 887
        },
        "id": "OjtTZPGw8P1F",
        "outputId": "8847575e-357d-46e3-9fbd-b822cf5ec18f"
      },
      "source": [
        "del df['Unnamed: 0']\n",
        "df"
      ],
      "execution_count": null,
      "outputs": [
        {
          "output_type": "execute_result",
          "data": {
            "text/html": [
              "\n",
              "  <div id=\"df-03d0e449-69e1-454d-ba18-c0f34cdca224\">\n",
              "    <div class=\"colab-df-container\">\n",
              "      <div>\n",
              "<style scoped>\n",
              "    .dataframe tbody tr th:only-of-type {\n",
              "        vertical-align: middle;\n",
              "    }\n",
              "\n",
              "    .dataframe tbody tr th {\n",
              "        vertical-align: top;\n",
              "    }\n",
              "\n",
              "    .dataframe thead th {\n",
              "        text-align: right;\n",
              "    }\n",
              "</style>\n",
              "<table border=\"1\" class=\"dataframe\">\n",
              "  <thead>\n",
              "    <tr style=\"text-align: right;\">\n",
              "      <th></th>\n",
              "      <th>[['İşlemci Tipi'</th>\n",
              "      <th>'Ram (Sistem Belleği)'</th>\n",
              "      <th>'SSD Kapasitesi'</th>\n",
              "      <th>'Ekran Kartı'</th>\n",
              "      <th>'Garanti Tipi'</th>\n",
              "      <th>'İşletim Sistemi'</th>\n",
              "      <th>'Kullanım Amacı'</th>\n",
              "      <th>'Optik Sürücü Tipi'</th>\n",
              "      <th>'Ekran Boyutu'</th>\n",
              "      <th>'Temel İşlemci Hızı (GHz)'</th>\n",
              "      <th>'Ekran Kartı Tipi'</th>\n",
              "      <th>'Kapasite'</th>\n",
              "      <th>'Ram (Sistem Belleği) Tipi'</th>\n",
              "      <th>'Ekran Kartı Hafızası'</th>\n",
              "      <th>'Cihaz Ağırlığı'</th>\n",
              "      <th>'Renk'</th>\n",
              "      <th>'Klavye'</th>\n",
              "      <th>'Ekran Kartı Bellek Tipi'</th>\n",
              "      <th>'İşlemci Nesli'</th>\n",
              "      <th>'İşlemci Çekirdek Sayısı'</th>\n",
              "      <th>'Çözünürlük Standartı'</th>\n",
              "      <th>'Dokunmatik Ekran'</th>\n",
              "      <th>'İşlemci Modeli'</th>\n",
              "      <th>'Hard Disk Kapasitesi'</th>\n",
              "      <th>'Ekran Yenileme Hızı'</th>\n",
              "      <th>'Çözünürlük']]</th>\n",
              "      <th>'Bağlantılar'</th>\n",
              "      <th>'Panel Tipi'</th>\n",
              "      <th>'Şarjlı Kullanım Süresi'</th>\n",
              "      <th>[['Garanti Tipi'</th>\n",
              "      <th>'İşlemci Tipi'</th>\n",
              "      <th>'Çözünürlük'</th>\n",
              "      <th>'Ekran Özelliği']]</th>\n",
              "      <th>'Arttırılabilir Azami Bellek'</th>\n",
              "      <th>'Kapasite']]</th>\n",
              "      <th>[['Kullanım Amacı'</th>\n",
              "      <th>'Ram (Sistem Belleği) Tipi']]</th>\n",
              "      <th>'Ekran Özelliği'</th>\n",
              "      <th>'HDMI']]</th>\n",
              "      <th>'HDMI'</th>\n",
              "      <th>'Maksimum İşlemci Hızı (GHz)'</th>\n",
              "      <th>'Kullanım Amacı']]</th>\n",
              "      <th>'Görüntü Kalitesi'</th>\n",
              "      <th>'Maksimum İşlemci Hızı (GHz)']]</th>\n",
              "      <th>'İşlemci Nesli']]</th>\n",
              "      <th>'Ekran Kartı']]</th>\n",
              "      <th>'Panel Tipi']]</th>\n",
              "      <th>'Ekran Kartı Tipi']]</th>\n",
              "      <th>'İşlemci Frekansı']]</th>\n",
              "      <th>'İşlemci Modeli']]</th>\n",
              "      <th>'Okula Dönüş'</th>\n",
              "      <th>'Renk']]</th>\n",
              "      <th>'Ekran Boyutu']]</th>\n",
              "      <th>[['Ram (Sistem Belleği)'</th>\n",
              "      <th>'Görüntü Kalitesi']]</th>\n",
              "      <th>[['Ekran Kartı'</th>\n",
              "      <th>'İşlemci Frekansı'</th>\n",
              "      <th>'Bağlantı Girişleri'</th>\n",
              "      <th>'Ekran Yenileme Hızı']]</th>\n",
              "      <th>'Optik Sürücü'</th>\n",
              "      <th>'Optik Sürücü']]</th>\n",
              "      <th>'Okula Dönüş']]</th>\n",
              "      <th>Ürün Fiyatı</th>\n",
              "    </tr>\n",
              "  </thead>\n",
              "  <tbody>\n",
              "    <tr>\n",
              "      <th>0</th>\n",
              "      <td>[['Intel Core i7'</td>\n",
              "      <td>'8 GB'</td>\n",
              "      <td>'256 GB'</td>\n",
              "      <td>'Paylaşımlı'</td>\n",
              "      <td>'Resmi Distribütör Garantili'</td>\n",
              "      <td>'Ubuntu'</td>\n",
              "      <td>'Ofis - İş'</td>\n",
              "      <td>'Yok'</td>\n",
              "      <td>'15,6 inç'</td>\n",
              "      <td>'2.8'</td>\n",
              "      <td>'Dahili'</td>\n",
              "      <td>'Yok'</td>\n",
              "      <td>'DDR4'</td>\n",
              "      <td>'Paylaşımlı'</td>\n",
              "      <td>'2 kg ve Altı'</td>\n",
              "      <td>'Siyah'</td>\n",
              "      <td>'Q Türkçe'</td>\n",
              "      <td>'GDDR5'</td>\n",
              "      <td>'11.Nesil'</td>\n",
              "      <td>'4'</td>\n",
              "      <td>'Full HD (FHD)'</td>\n",
              "      <td>'Yok'</td>\n",
              "      <td>'1165G7'</td>\n",
              "      <td>'Yok'</td>\n",
              "      <td>'Belirtilmemiş'</td>\n",
              "      <td>'1920 x 1080']]</td>\n",
              "      <td>NaN</td>\n",
              "      <td>NaN</td>\n",
              "      <td>NaN</td>\n",
              "      <td>NaN</td>\n",
              "      <td>NaN</td>\n",
              "      <td>NaN</td>\n",
              "      <td>NaN</td>\n",
              "      <td>NaN</td>\n",
              "      <td>NaN</td>\n",
              "      <td>NaN</td>\n",
              "      <td>NaN</td>\n",
              "      <td>NaN</td>\n",
              "      <td>NaN</td>\n",
              "      <td>NaN</td>\n",
              "      <td>NaN</td>\n",
              "      <td>NaN</td>\n",
              "      <td>NaN</td>\n",
              "      <td>NaN</td>\n",
              "      <td>NaN</td>\n",
              "      <td>NaN</td>\n",
              "      <td>NaN</td>\n",
              "      <td>NaN</td>\n",
              "      <td>NaN</td>\n",
              "      <td>NaN</td>\n",
              "      <td>NaN</td>\n",
              "      <td>NaN</td>\n",
              "      <td>NaN</td>\n",
              "      <td>NaN</td>\n",
              "      <td>NaN</td>\n",
              "      <td>NaN</td>\n",
              "      <td>NaN</td>\n",
              "      <td>NaN</td>\n",
              "      <td>NaN</td>\n",
              "      <td>NaN</td>\n",
              "      <td>NaN</td>\n",
              "      <td>NaN</td>\n",
              "      <td>14788.0</td>\n",
              "    </tr>\n",
              "    <tr>\n",
              "      <th>1</th>\n",
              "      <td>[['Intel Core i5'</td>\n",
              "      <td>'16 GB'</td>\n",
              "      <td>'512 GB'</td>\n",
              "      <td>'Nvidia GeForce MX330'</td>\n",
              "      <td>'Resmi Distribütör Garantili'</td>\n",
              "      <td>'Windows'</td>\n",
              "      <td>'Ev - Okul'</td>\n",
              "      <td>'Yok'</td>\n",
              "      <td>'14 inç'</td>\n",
              "      <td>'2.4'</td>\n",
              "      <td>'Harici'</td>\n",
              "      <td>NaN</td>\n",
              "      <td>'DDR4'</td>\n",
              "      <td>'2 GB'</td>\n",
              "      <td>'2 - 4 kg'</td>\n",
              "      <td>'Siyah'</td>\n",
              "      <td>'Q Türkçe'</td>\n",
              "      <td>'GDDR5'</td>\n",
              "      <td>'11.Nesil'</td>\n",
              "      <td>'4'</td>\n",
              "      <td>'Full HD (FHD)'</td>\n",
              "      <td>'Yok'</td>\n",
              "      <td>'1135G7'</td>\n",
              "      <td>'Yok'</td>\n",
              "      <td>'60 Hz'</td>\n",
              "      <td>'1920 x 1080']]</td>\n",
              "      <td>NaN</td>\n",
              "      <td>NaN</td>\n",
              "      <td>NaN</td>\n",
              "      <td>NaN</td>\n",
              "      <td>NaN</td>\n",
              "      <td>NaN</td>\n",
              "      <td>NaN</td>\n",
              "      <td>NaN</td>\n",
              "      <td>NaN</td>\n",
              "      <td>NaN</td>\n",
              "      <td>NaN</td>\n",
              "      <td>NaN</td>\n",
              "      <td>NaN</td>\n",
              "      <td>NaN</td>\n",
              "      <td>NaN</td>\n",
              "      <td>NaN</td>\n",
              "      <td>NaN</td>\n",
              "      <td>NaN</td>\n",
              "      <td>NaN</td>\n",
              "      <td>NaN</td>\n",
              "      <td>NaN</td>\n",
              "      <td>NaN</td>\n",
              "      <td>NaN</td>\n",
              "      <td>NaN</td>\n",
              "      <td>NaN</td>\n",
              "      <td>NaN</td>\n",
              "      <td>NaN</td>\n",
              "      <td>NaN</td>\n",
              "      <td>NaN</td>\n",
              "      <td>NaN</td>\n",
              "      <td>NaN</td>\n",
              "      <td>NaN</td>\n",
              "      <td>NaN</td>\n",
              "      <td>NaN</td>\n",
              "      <td>NaN</td>\n",
              "      <td>NaN</td>\n",
              "      <td>11009.0</td>\n",
              "    </tr>\n",
              "    <tr>\n",
              "      <th>2</th>\n",
              "      <td>[['Intel Core i5'</td>\n",
              "      <td>'8 GB'</td>\n",
              "      <td>'256 GB'</td>\n",
              "      <td>'Intel Iris Graphics'</td>\n",
              "      <td>'Resmi Distribütör Garantili'</td>\n",
              "      <td>'Windows'</td>\n",
              "      <td>'Ofis - İş'</td>\n",
              "      <td>'Yok'</td>\n",
              "      <td>'15,6 inç'</td>\n",
              "      <td>'4.2'</td>\n",
              "      <td>'Dahili'</td>\n",
              "      <td>'8 GB'</td>\n",
              "      <td>'DDR4'</td>\n",
              "      <td>'Paylaşımlı'</td>\n",
              "      <td>'2 kg ve Altı'</td>\n",
              "      <td>'Gümüş'</td>\n",
              "      <td>'Q Türkçe'</td>\n",
              "      <td>'DDR4'</td>\n",
              "      <td>'11.Nesil'</td>\n",
              "      <td>'4'</td>\n",
              "      <td>'Full HD (FHD)'</td>\n",
              "      <td>'Yok'</td>\n",
              "      <td>'1135G7'</td>\n",
              "      <td>'250 GB'</td>\n",
              "      <td>'60 Hz'</td>\n",
              "      <td>'1920 x 1080']]</td>\n",
              "      <td>'Bluetooth'</td>\n",
              "      <td>'VA'</td>\n",
              "      <td>'4 - 6 Saat'</td>\n",
              "      <td>NaN</td>\n",
              "      <td>NaN</td>\n",
              "      <td>NaN</td>\n",
              "      <td>NaN</td>\n",
              "      <td>NaN</td>\n",
              "      <td>NaN</td>\n",
              "      <td>NaN</td>\n",
              "      <td>NaN</td>\n",
              "      <td>NaN</td>\n",
              "      <td>NaN</td>\n",
              "      <td>NaN</td>\n",
              "      <td>NaN</td>\n",
              "      <td>NaN</td>\n",
              "      <td>NaN</td>\n",
              "      <td>NaN</td>\n",
              "      <td>NaN</td>\n",
              "      <td>NaN</td>\n",
              "      <td>NaN</td>\n",
              "      <td>NaN</td>\n",
              "      <td>NaN</td>\n",
              "      <td>NaN</td>\n",
              "      <td>NaN</td>\n",
              "      <td>NaN</td>\n",
              "      <td>NaN</td>\n",
              "      <td>NaN</td>\n",
              "      <td>NaN</td>\n",
              "      <td>NaN</td>\n",
              "      <td>NaN</td>\n",
              "      <td>NaN</td>\n",
              "      <td>NaN</td>\n",
              "      <td>NaN</td>\n",
              "      <td>NaN</td>\n",
              "      <td>NaN</td>\n",
              "      <td>9000.0</td>\n",
              "    </tr>\n",
              "    <tr>\n",
              "      <th>3</th>\n",
              "      <td>[['Intel Celeron'</td>\n",
              "      <td>'4 GB'</td>\n",
              "      <td>'128 GB'</td>\n",
              "      <td>'Paylaşımlı'</td>\n",
              "      <td>'Resmi Distribütör Garantili'</td>\n",
              "      <td>'Windows'</td>\n",
              "      <td>'Ofis - İş'</td>\n",
              "      <td>'Yok'</td>\n",
              "      <td>'14 inç'</td>\n",
              "      <td>'1.1'</td>\n",
              "      <td>'Dahili'</td>\n",
              "      <td>'Yok'</td>\n",
              "      <td>'DDR4'</td>\n",
              "      <td>'Paylaşımlı'</td>\n",
              "      <td>'2 kg ve Altı'</td>\n",
              "      <td>'Gri'</td>\n",
              "      <td>'Q Türkçe'</td>\n",
              "      <td>'SD'</td>\n",
              "      <td>'Yok'</td>\n",
              "      <td>'2'</td>\n",
              "      <td>'HD Ready (HD)'</td>\n",
              "      <td>'Yok'</td>\n",
              "      <td>'N3350'</td>\n",
              "      <td>'Yok'</td>\n",
              "      <td>'Yok'</td>\n",
              "      <td>'1366 x 768']]</td>\n",
              "      <td>NaN</td>\n",
              "      <td>NaN</td>\n",
              "      <td>NaN</td>\n",
              "      <td>NaN</td>\n",
              "      <td>NaN</td>\n",
              "      <td>NaN</td>\n",
              "      <td>NaN</td>\n",
              "      <td>NaN</td>\n",
              "      <td>NaN</td>\n",
              "      <td>NaN</td>\n",
              "      <td>NaN</td>\n",
              "      <td>NaN</td>\n",
              "      <td>NaN</td>\n",
              "      <td>NaN</td>\n",
              "      <td>NaN</td>\n",
              "      <td>NaN</td>\n",
              "      <td>NaN</td>\n",
              "      <td>NaN</td>\n",
              "      <td>NaN</td>\n",
              "      <td>NaN</td>\n",
              "      <td>NaN</td>\n",
              "      <td>NaN</td>\n",
              "      <td>NaN</td>\n",
              "      <td>NaN</td>\n",
              "      <td>NaN</td>\n",
              "      <td>NaN</td>\n",
              "      <td>NaN</td>\n",
              "      <td>NaN</td>\n",
              "      <td>NaN</td>\n",
              "      <td>NaN</td>\n",
              "      <td>NaN</td>\n",
              "      <td>NaN</td>\n",
              "      <td>NaN</td>\n",
              "      <td>NaN</td>\n",
              "      <td>NaN</td>\n",
              "      <td>NaN</td>\n",
              "      <td>2499.0</td>\n",
              "    </tr>\n",
              "    <tr>\n",
              "      <th>4</th>\n",
              "      <td>NaN</td>\n",
              "      <td>'4 GB'</td>\n",
              "      <td>'128 GB'</td>\n",
              "      <td>'Dahili Ekran Kartı'</td>\n",
              "      <td>NaN</td>\n",
              "      <td>'Windows'</td>\n",
              "      <td>'Ofis - İş'</td>\n",
              "      <td>'Yok'</td>\n",
              "      <td>'15,6 inç'</td>\n",
              "      <td>NaN</td>\n",
              "      <td>'Dahili'</td>\n",
              "      <td>'128 GB'</td>\n",
              "      <td>NaN</td>\n",
              "      <td>'Paylaşımlı'</td>\n",
              "      <td>'2 kg ve Altı'</td>\n",
              "      <td>'Gri'</td>\n",
              "      <td>'Q Türkçe'</td>\n",
              "      <td>'DDR4'</td>\n",
              "      <td>'10. Nesil'</td>\n",
              "      <td>'2'</td>\n",
              "      <td>'HD Ready (HD)'</td>\n",
              "      <td>'Yok'</td>\n",
              "      <td>'3250U'</td>\n",
              "      <td>NaN</td>\n",
              "      <td>NaN</td>\n",
              "      <td>NaN</td>\n",
              "      <td>NaN</td>\n",
              "      <td>NaN</td>\n",
              "      <td>NaN</td>\n",
              "      <td>[['Resmi Distribütör Garantili'</td>\n",
              "      <td>'AMD Ryzen 3'</td>\n",
              "      <td>'1920 x 1080'</td>\n",
              "      <td>'HD']]</td>\n",
              "      <td>NaN</td>\n",
              "      <td>NaN</td>\n",
              "      <td>NaN</td>\n",
              "      <td>NaN</td>\n",
              "      <td>NaN</td>\n",
              "      <td>NaN</td>\n",
              "      <td>NaN</td>\n",
              "      <td>NaN</td>\n",
              "      <td>NaN</td>\n",
              "      <td>NaN</td>\n",
              "      <td>NaN</td>\n",
              "      <td>NaN</td>\n",
              "      <td>NaN</td>\n",
              "      <td>NaN</td>\n",
              "      <td>NaN</td>\n",
              "      <td>NaN</td>\n",
              "      <td>NaN</td>\n",
              "      <td>NaN</td>\n",
              "      <td>NaN</td>\n",
              "      <td>NaN</td>\n",
              "      <td>NaN</td>\n",
              "      <td>NaN</td>\n",
              "      <td>NaN</td>\n",
              "      <td>NaN</td>\n",
              "      <td>NaN</td>\n",
              "      <td>NaN</td>\n",
              "      <td>NaN</td>\n",
              "      <td>NaN</td>\n",
              "      <td>NaN</td>\n",
              "      <td>5800.0</td>\n",
              "    </tr>\n",
              "    <tr>\n",
              "      <th>...</th>\n",
              "      <td>...</td>\n",
              "      <td>...</td>\n",
              "      <td>...</td>\n",
              "      <td>...</td>\n",
              "      <td>...</td>\n",
              "      <td>...</td>\n",
              "      <td>...</td>\n",
              "      <td>...</td>\n",
              "      <td>...</td>\n",
              "      <td>...</td>\n",
              "      <td>...</td>\n",
              "      <td>...</td>\n",
              "      <td>...</td>\n",
              "      <td>...</td>\n",
              "      <td>...</td>\n",
              "      <td>...</td>\n",
              "      <td>...</td>\n",
              "      <td>...</td>\n",
              "      <td>...</td>\n",
              "      <td>...</td>\n",
              "      <td>...</td>\n",
              "      <td>...</td>\n",
              "      <td>...</td>\n",
              "      <td>...</td>\n",
              "      <td>...</td>\n",
              "      <td>...</td>\n",
              "      <td>...</td>\n",
              "      <td>...</td>\n",
              "      <td>...</td>\n",
              "      <td>...</td>\n",
              "      <td>...</td>\n",
              "      <td>...</td>\n",
              "      <td>...</td>\n",
              "      <td>...</td>\n",
              "      <td>...</td>\n",
              "      <td>...</td>\n",
              "      <td>...</td>\n",
              "      <td>...</td>\n",
              "      <td>...</td>\n",
              "      <td>...</td>\n",
              "      <td>...</td>\n",
              "      <td>...</td>\n",
              "      <td>...</td>\n",
              "      <td>...</td>\n",
              "      <td>...</td>\n",
              "      <td>...</td>\n",
              "      <td>...</td>\n",
              "      <td>...</td>\n",
              "      <td>...</td>\n",
              "      <td>...</td>\n",
              "      <td>...</td>\n",
              "      <td>...</td>\n",
              "      <td>...</td>\n",
              "      <td>...</td>\n",
              "      <td>...</td>\n",
              "      <td>...</td>\n",
              "      <td>...</td>\n",
              "      <td>...</td>\n",
              "      <td>...</td>\n",
              "      <td>...</td>\n",
              "      <td>...</td>\n",
              "      <td>...</td>\n",
              "      <td>...</td>\n",
              "    </tr>\n",
              "    <tr>\n",
              "      <th>11995</th>\n",
              "      <td>[['Intel Core i5'</td>\n",
              "      <td>'8 GB'</td>\n",
              "      <td>'256 GB'</td>\n",
              "      <td>'Nvidia GeForce MX130'</td>\n",
              "      <td>'Resmi Distribütör Garantili'</td>\n",
              "      <td>'Windows'</td>\n",
              "      <td>'Ofis - İş'</td>\n",
              "      <td>'Yok'</td>\n",
              "      <td>'15,6 inç'</td>\n",
              "      <td>'1.1'</td>\n",
              "      <td>'Harici'</td>\n",
              "      <td>NaN</td>\n",
              "      <td>'DDR4'</td>\n",
              "      <td>'2 GB'</td>\n",
              "      <td>'2 - 4 kg'</td>\n",
              "      <td>'Çok Renkli'</td>\n",
              "      <td>'Q Türkçe'</td>\n",
              "      <td>'GDDR5'</td>\n",
              "      <td>'10. Nesil'</td>\n",
              "      <td>'6'</td>\n",
              "      <td>'Full HD (FHD)'</td>\n",
              "      <td>'Yok'</td>\n",
              "      <td>'1035G1'</td>\n",
              "      <td>'Yok'</td>\n",
              "      <td>'60 Hz'</td>\n",
              "      <td>'1920 x 1080']]</td>\n",
              "      <td>NaN</td>\n",
              "      <td>NaN</td>\n",
              "      <td>NaN</td>\n",
              "      <td>NaN</td>\n",
              "      <td>NaN</td>\n",
              "      <td>NaN</td>\n",
              "      <td>NaN</td>\n",
              "      <td>NaN</td>\n",
              "      <td>NaN</td>\n",
              "      <td>NaN</td>\n",
              "      <td>NaN</td>\n",
              "      <td>NaN</td>\n",
              "      <td>NaN</td>\n",
              "      <td>NaN</td>\n",
              "      <td>NaN</td>\n",
              "      <td>NaN</td>\n",
              "      <td>NaN</td>\n",
              "      <td>NaN</td>\n",
              "      <td>NaN</td>\n",
              "      <td>NaN</td>\n",
              "      <td>NaN</td>\n",
              "      <td>NaN</td>\n",
              "      <td>NaN</td>\n",
              "      <td>NaN</td>\n",
              "      <td>NaN</td>\n",
              "      <td>NaN</td>\n",
              "      <td>NaN</td>\n",
              "      <td>NaN</td>\n",
              "      <td>NaN</td>\n",
              "      <td>NaN</td>\n",
              "      <td>NaN</td>\n",
              "      <td>NaN</td>\n",
              "      <td>NaN</td>\n",
              "      <td>NaN</td>\n",
              "      <td>NaN</td>\n",
              "      <td>NaN</td>\n",
              "      <td>8778.0</td>\n",
              "    </tr>\n",
              "    <tr>\n",
              "      <th>11996</th>\n",
              "      <td>[['AMD Ryzen 5'</td>\n",
              "      <td>'16 GB'</td>\n",
              "      <td>'512 GB'</td>\n",
              "      <td>'AMD Radeon R5'</td>\n",
              "      <td>'Resmi Distribütör Garantili'</td>\n",
              "      <td>'Windows'</td>\n",
              "      <td>NaN</td>\n",
              "      <td>'Yok'</td>\n",
              "      <td>'16 inç'</td>\n",
              "      <td>NaN</td>\n",
              "      <td>'Dahili'</td>\n",
              "      <td>'512 GB'</td>\n",
              "      <td>'DDR4'</td>\n",
              "      <td>'Paylaşımlı'</td>\n",
              "      <td>'2 kg ve Altı'</td>\n",
              "      <td>NaN</td>\n",
              "      <td>'Q Türkçe'</td>\n",
              "      <td>'DDR4'</td>\n",
              "      <td>'Ryzen'</td>\n",
              "      <td>'Belirtilmemiş'</td>\n",
              "      <td>'Full HD (FHD)'</td>\n",
              "      <td>'Yok'</td>\n",
              "      <td>'Ryzen 5 5600'</td>\n",
              "      <td>'Yok'</td>\n",
              "      <td>'Belirtilmemiş'</td>\n",
              "      <td>NaN</td>\n",
              "      <td>NaN</td>\n",
              "      <td>NaN</td>\n",
              "      <td>NaN</td>\n",
              "      <td>NaN</td>\n",
              "      <td>NaN</td>\n",
              "      <td>'1920 x 1080'</td>\n",
              "      <td>NaN</td>\n",
              "      <td>NaN</td>\n",
              "      <td>NaN</td>\n",
              "      <td>NaN</td>\n",
              "      <td>NaN</td>\n",
              "      <td>NaN</td>\n",
              "      <td>NaN</td>\n",
              "      <td>NaN</td>\n",
              "      <td>'4.0'</td>\n",
              "      <td>'Oyun']]</td>\n",
              "      <td>NaN</td>\n",
              "      <td>NaN</td>\n",
              "      <td>NaN</td>\n",
              "      <td>NaN</td>\n",
              "      <td>NaN</td>\n",
              "      <td>NaN</td>\n",
              "      <td>NaN</td>\n",
              "      <td>NaN</td>\n",
              "      <td>NaN</td>\n",
              "      <td>NaN</td>\n",
              "      <td>NaN</td>\n",
              "      <td>NaN</td>\n",
              "      <td>NaN</td>\n",
              "      <td>NaN</td>\n",
              "      <td>NaN</td>\n",
              "      <td>NaN</td>\n",
              "      <td>NaN</td>\n",
              "      <td>NaN</td>\n",
              "      <td>NaN</td>\n",
              "      <td>NaN</td>\n",
              "      <td>10449.0</td>\n",
              "    </tr>\n",
              "    <tr>\n",
              "      <th>11997</th>\n",
              "      <td>NaN</td>\n",
              "      <td>'4 GB'</td>\n",
              "      <td>'256 GB'</td>\n",
              "      <td>NaN</td>\n",
              "      <td>'Resmi Distribütör Garantili'</td>\n",
              "      <td>'Windows'</td>\n",
              "      <td>'Ev - Okul'</td>\n",
              "      <td>'Yok'</td>\n",
              "      <td>'15,6 inç'</td>\n",
              "      <td>'2 - 3'</td>\n",
              "      <td>'Dahili'</td>\n",
              "      <td>'256 GB'</td>\n",
              "      <td>NaN</td>\n",
              "      <td>'Paylaşımlı'</td>\n",
              "      <td>'2 - 4 kg'</td>\n",
              "      <td>'Gri'</td>\n",
              "      <td>'Q Türkçe'</td>\n",
              "      <td>'DDR'</td>\n",
              "      <td>NaN</td>\n",
              "      <td>NaN</td>\n",
              "      <td>'Full HD (FHD)'</td>\n",
              "      <td>'Yok'</td>\n",
              "      <td>'3500U'</td>\n",
              "      <td>NaN</td>\n",
              "      <td>NaN</td>\n",
              "      <td>NaN</td>\n",
              "      <td>'HDMI'</td>\n",
              "      <td>NaN</td>\n",
              "      <td>NaN</td>\n",
              "      <td>NaN</td>\n",
              "      <td>'AMD Ryzen 5'</td>\n",
              "      <td>'1366 x 768'</td>\n",
              "      <td>NaN</td>\n",
              "      <td>NaN</td>\n",
              "      <td>NaN</td>\n",
              "      <td>NaN</td>\n",
              "      <td>NaN</td>\n",
              "      <td>NaN</td>\n",
              "      <td>'Var']]</td>\n",
              "      <td>NaN</td>\n",
              "      <td>NaN</td>\n",
              "      <td>NaN</td>\n",
              "      <td>NaN</td>\n",
              "      <td>NaN</td>\n",
              "      <td>NaN</td>\n",
              "      <td>NaN</td>\n",
              "      <td>NaN</td>\n",
              "      <td>NaN</td>\n",
              "      <td>NaN</td>\n",
              "      <td>NaN</td>\n",
              "      <td>NaN</td>\n",
              "      <td>NaN</td>\n",
              "      <td>NaN</td>\n",
              "      <td>NaN</td>\n",
              "      <td>NaN</td>\n",
              "      <td>[['AMD Radeon Vega 8'</td>\n",
              "      <td>NaN</td>\n",
              "      <td>NaN</td>\n",
              "      <td>NaN</td>\n",
              "      <td>NaN</td>\n",
              "      <td>NaN</td>\n",
              "      <td>NaN</td>\n",
              "      <td>6999.0</td>\n",
              "    </tr>\n",
              "    <tr>\n",
              "      <th>11998</th>\n",
              "      <td>[['Intel Core i7'</td>\n",
              "      <td>'16 GB'</td>\n",
              "      <td>'500 GB'</td>\n",
              "      <td>'Nvidia GeForce RTX3050Ti'</td>\n",
              "      <td>'Resmi Distribütör Garantili'</td>\n",
              "      <td>'Free Dos'</td>\n",
              "      <td>'Oyun'</td>\n",
              "      <td>'Yok'</td>\n",
              "      <td>'15,6 inç'</td>\n",
              "      <td>NaN</td>\n",
              "      <td>'Harici'</td>\n",
              "      <td>'Yok'</td>\n",
              "      <td>NaN</td>\n",
              "      <td>'4 GB'</td>\n",
              "      <td>'2 - 4 kg'</td>\n",
              "      <td>NaN</td>\n",
              "      <td>'Numerik Tuşlu Aydınlatmalı'</td>\n",
              "      <td>'GDDR6'</td>\n",
              "      <td>NaN</td>\n",
              "      <td>NaN</td>\n",
              "      <td>'Full HD (FHD)'</td>\n",
              "      <td>'Yok'</td>\n",
              "      <td>'11800H'</td>\n",
              "      <td>NaN</td>\n",
              "      <td>NaN</td>\n",
              "      <td>NaN</td>\n",
              "      <td>'Bluetooth'</td>\n",
              "      <td>NaN</td>\n",
              "      <td>'3 Saat ve Altı'</td>\n",
              "      <td>NaN</td>\n",
              "      <td>NaN</td>\n",
              "      <td>'1920 x 1080'</td>\n",
              "      <td>NaN</td>\n",
              "      <td>NaN</td>\n",
              "      <td>NaN</td>\n",
              "      <td>NaN</td>\n",
              "      <td>NaN</td>\n",
              "      <td>'Full HD'</td>\n",
              "      <td>NaN</td>\n",
              "      <td>NaN</td>\n",
              "      <td>NaN</td>\n",
              "      <td>NaN</td>\n",
              "      <td>'Full HD'</td>\n",
              "      <td>NaN</td>\n",
              "      <td>NaN</td>\n",
              "      <td>NaN</td>\n",
              "      <td>'VA']]</td>\n",
              "      <td>NaN</td>\n",
              "      <td>NaN</td>\n",
              "      <td>NaN</td>\n",
              "      <td>NaN</td>\n",
              "      <td>NaN</td>\n",
              "      <td>NaN</td>\n",
              "      <td>NaN</td>\n",
              "      <td>NaN</td>\n",
              "      <td>NaN</td>\n",
              "      <td>NaN</td>\n",
              "      <td>NaN</td>\n",
              "      <td>NaN</td>\n",
              "      <td>NaN</td>\n",
              "      <td>NaN</td>\n",
              "      <td>NaN</td>\n",
              "      <td>16899.0</td>\n",
              "    </tr>\n",
              "    <tr>\n",
              "      <th>11999</th>\n",
              "      <td>[['AMD Ryzen 7'</td>\n",
              "      <td>'16 GB'</td>\n",
              "      <td>'512 GB'</td>\n",
              "      <td>'AMD Radeon Graphics'</td>\n",
              "      <td>'Resmi Distribütör Garantili'</td>\n",
              "      <td>'Free Dos'</td>\n",
              "      <td>'Ofis - İş'</td>\n",
              "      <td>'Yok'</td>\n",
              "      <td>'14 inç'</td>\n",
              "      <td>NaN</td>\n",
              "      <td>'Dahili'</td>\n",
              "      <td>NaN</td>\n",
              "      <td>NaN</td>\n",
              "      <td>'Paylaşımlı'</td>\n",
              "      <td>'2 kg ve Altı'</td>\n",
              "      <td>'Siyah'</td>\n",
              "      <td>'Aydınlatmalı'</td>\n",
              "      <td>'SD'</td>\n",
              "      <td>NaN</td>\n",
              "      <td>NaN</td>\n",
              "      <td>'Full HD (FHD)'</td>\n",
              "      <td>'Yok'</td>\n",
              "      <td>'5700U'</td>\n",
              "      <td>NaN</td>\n",
              "      <td>NaN</td>\n",
              "      <td>NaN</td>\n",
              "      <td>NaN</td>\n",
              "      <td>NaN</td>\n",
              "      <td>NaN</td>\n",
              "      <td>NaN</td>\n",
              "      <td>NaN</td>\n",
              "      <td>'1920 x 1080'</td>\n",
              "      <td>NaN</td>\n",
              "      <td>NaN</td>\n",
              "      <td>'Yok']]</td>\n",
              "      <td>NaN</td>\n",
              "      <td>NaN</td>\n",
              "      <td>NaN</td>\n",
              "      <td>NaN</td>\n",
              "      <td>NaN</td>\n",
              "      <td>NaN</td>\n",
              "      <td>NaN</td>\n",
              "      <td>NaN</td>\n",
              "      <td>NaN</td>\n",
              "      <td>NaN</td>\n",
              "      <td>NaN</td>\n",
              "      <td>NaN</td>\n",
              "      <td>NaN</td>\n",
              "      <td>NaN</td>\n",
              "      <td>NaN</td>\n",
              "      <td>NaN</td>\n",
              "      <td>NaN</td>\n",
              "      <td>NaN</td>\n",
              "      <td>NaN</td>\n",
              "      <td>NaN</td>\n",
              "      <td>NaN</td>\n",
              "      <td>NaN</td>\n",
              "      <td>NaN</td>\n",
              "      <td>NaN</td>\n",
              "      <td>NaN</td>\n",
              "      <td>NaN</td>\n",
              "      <td>NaN</td>\n",
              "      <td>12907.0</td>\n",
              "    </tr>\n",
              "  </tbody>\n",
              "</table>\n",
              "<p>12000 rows × 63 columns</p>\n",
              "</div>\n",
              "      <button class=\"colab-df-convert\" onclick=\"convertToInteractive('df-03d0e449-69e1-454d-ba18-c0f34cdca224')\"\n",
              "              title=\"Convert this dataframe to an interactive table.\"\n",
              "              style=\"display:none;\">\n",
              "        \n",
              "  <svg xmlns=\"http://www.w3.org/2000/svg\" height=\"24px\"viewBox=\"0 0 24 24\"\n",
              "       width=\"24px\">\n",
              "    <path d=\"M0 0h24v24H0V0z\" fill=\"none\"/>\n",
              "    <path d=\"M18.56 5.44l.94 2.06.94-2.06 2.06-.94-2.06-.94-.94-2.06-.94 2.06-2.06.94zm-11 1L8.5 8.5l.94-2.06 2.06-.94-2.06-.94L8.5 2.5l-.94 2.06-2.06.94zm10 10l.94 2.06.94-2.06 2.06-.94-2.06-.94-.94-2.06-.94 2.06-2.06.94z\"/><path d=\"M17.41 7.96l-1.37-1.37c-.4-.4-.92-.59-1.43-.59-.52 0-1.04.2-1.43.59L10.3 9.45l-7.72 7.72c-.78.78-.78 2.05 0 2.83L4 21.41c.39.39.9.59 1.41.59.51 0 1.02-.2 1.41-.59l7.78-7.78 2.81-2.81c.8-.78.8-2.07 0-2.86zM5.41 20L4 18.59l7.72-7.72 1.47 1.35L5.41 20z\"/>\n",
              "  </svg>\n",
              "      </button>\n",
              "      \n",
              "  <style>\n",
              "    .colab-df-container {\n",
              "      display:flex;\n",
              "      flex-wrap:wrap;\n",
              "      gap: 12px;\n",
              "    }\n",
              "\n",
              "    .colab-df-convert {\n",
              "      background-color: #E8F0FE;\n",
              "      border: none;\n",
              "      border-radius: 50%;\n",
              "      cursor: pointer;\n",
              "      display: none;\n",
              "      fill: #1967D2;\n",
              "      height: 32px;\n",
              "      padding: 0 0 0 0;\n",
              "      width: 32px;\n",
              "    }\n",
              "\n",
              "    .colab-df-convert:hover {\n",
              "      background-color: #E2EBFA;\n",
              "      box-shadow: 0px 1px 2px rgba(60, 64, 67, 0.3), 0px 1px 3px 1px rgba(60, 64, 67, 0.15);\n",
              "      fill: #174EA6;\n",
              "    }\n",
              "\n",
              "    [theme=dark] .colab-df-convert {\n",
              "      background-color: #3B4455;\n",
              "      fill: #D2E3FC;\n",
              "    }\n",
              "\n",
              "    [theme=dark] .colab-df-convert:hover {\n",
              "      background-color: #434B5C;\n",
              "      box-shadow: 0px 1px 3px 1px rgba(0, 0, 0, 0.15);\n",
              "      filter: drop-shadow(0px 1px 2px rgba(0, 0, 0, 0.3));\n",
              "      fill: #FFFFFF;\n",
              "    }\n",
              "  </style>\n",
              "\n",
              "      <script>\n",
              "        const buttonEl =\n",
              "          document.querySelector('#df-03d0e449-69e1-454d-ba18-c0f34cdca224 button.colab-df-convert');\n",
              "        buttonEl.style.display =\n",
              "          google.colab.kernel.accessAllowed ? 'block' : 'none';\n",
              "\n",
              "        async function convertToInteractive(key) {\n",
              "          const element = document.querySelector('#df-03d0e449-69e1-454d-ba18-c0f34cdca224');\n",
              "          const dataTable =\n",
              "            await google.colab.kernel.invokeFunction('convertToInteractive',\n",
              "                                                     [key], {});\n",
              "          if (!dataTable) return;\n",
              "\n",
              "          const docLinkHtml = 'Like what you see? Visit the ' +\n",
              "            '<a target=\"_blank\" href=https://colab.research.google.com/notebooks/data_table.ipynb>data table notebook</a>'\n",
              "            + ' to learn more about interactive tables.';\n",
              "          element.innerHTML = '';\n",
              "          dataTable['output_type'] = 'display_data';\n",
              "          await google.colab.output.renderOutput(dataTable, element);\n",
              "          const docLink = document.createElement('div');\n",
              "          docLink.innerHTML = docLinkHtml;\n",
              "          element.appendChild(docLink);\n",
              "        }\n",
              "      </script>\n",
              "    </div>\n",
              "  </div>\n",
              "  "
            ],
            "text/plain": [
              "        [['İşlemci Tipi' 'Ram (Sistem Belleği)'  ... 'Okula Dönüş']] Ürün Fiyatı\n",
              "0      [['Intel Core i7'                 '8 GB'  ...             NaN     14788.0\n",
              "1      [['Intel Core i5'                '16 GB'  ...             NaN     11009.0\n",
              "2      [['Intel Core i5'                 '8 GB'  ...             NaN      9000.0\n",
              "3      [['Intel Celeron'                 '4 GB'  ...             NaN      2499.0\n",
              "4                    NaN                 '4 GB'  ...             NaN      5800.0\n",
              "...                  ...                    ...  ...             ...         ...\n",
              "11995  [['Intel Core i5'                 '8 GB'  ...             NaN      8778.0\n",
              "11996    [['AMD Ryzen 5'                '16 GB'  ...             NaN     10449.0\n",
              "11997                NaN                 '4 GB'  ...             NaN      6999.0\n",
              "11998  [['Intel Core i7'                '16 GB'  ...             NaN     16899.0\n",
              "11999    [['AMD Ryzen 7'                '16 GB'  ...             NaN     12907.0\n",
              "\n",
              "[12000 rows x 63 columns]"
            ]
          },
          "metadata": {},
          "execution_count": 4
        }
      ]
    },
    {
      "cell_type": "code",
      "source": [
        "df.columns"
      ],
      "metadata": {
        "colab": {
          "base_uri": "https://localhost:8080/"
        },
        "id": "MQekPIk56ihf",
        "outputId": "7186b216-65ff-4241-8014-dca6cf74a28e"
      },
      "execution_count": null,
      "outputs": [
        {
          "output_type": "execute_result",
          "data": {
            "text/plain": [
              "Index(['[['İşlemci Tipi'', ''Ram (Sistem Belleği)'', ''SSD Kapasitesi'',\n",
              "       ''Ekran Kartı'', ''Garanti Tipi'', ''İşletim Sistemi'',\n",
              "       ''Kullanım Amacı'', ''Optik Sürücü Tipi'', ''Ekran Boyutu'',\n",
              "       ''Temel İşlemci Hızı (GHz)'', ''Ekran Kartı Tipi'', ''Kapasite'',\n",
              "       ''Ram (Sistem Belleği) Tipi'', ''Ekran Kartı Hafızası'',\n",
              "       ''Cihaz Ağırlığı'', ''Renk'', ''Klavye'', ''Ekran Kartı Bellek Tipi'',\n",
              "       ''İşlemci Nesli'', ''İşlemci Çekirdek Sayısı'',\n",
              "       ''Çözünürlük Standartı'', ''Dokunmatik Ekran'', ''İşlemci Modeli'',\n",
              "       ''Hard Disk Kapasitesi'', ''Ekran Yenileme Hızı'', ''Çözünürlük']]',\n",
              "       ''Bağlantılar'', ''Panel Tipi'', ''Şarjlı Kullanım Süresi'',\n",
              "       '[['Garanti Tipi'', ''İşlemci Tipi'', ''Çözünürlük'',\n",
              "       ''Ekran Özelliği']]', ''Arttırılabilir Azami Bellek'', ''Kapasite']]',\n",
              "       '[['Kullanım Amacı'', ''Ram (Sistem Belleği) Tipi']]',\n",
              "       ''Ekran Özelliği'', ''HDMI']]', ''HDMI'',\n",
              "       ''Maksimum İşlemci Hızı (GHz)'', ''Kullanım Amacı']]',\n",
              "       ''Görüntü Kalitesi'', ''Maksimum İşlemci Hızı (GHz)']]',\n",
              "       ''İşlemci Nesli']]', ''Ekran Kartı']]', ''Panel Tipi']]',\n",
              "       ''Ekran Kartı Tipi']]', ''İşlemci Frekansı']]', ''İşlemci Modeli']]',\n",
              "       ''Okula Dönüş'', ''Renk']]', ''Ekran Boyutu']]',\n",
              "       '[['Ram (Sistem Belleği)'', ''Görüntü Kalitesi']]', '[['Ekran Kartı'',\n",
              "       ''İşlemci Frekansı'', ''Bağlantı Girişleri'', ''Ekran Yenileme Hızı']]',\n",
              "       ''Optik Sürücü'', ''Optik Sürücü']]', ''Okula Dönüş']]', 'Ürün Fiyatı'],\n",
              "      dtype='object')"
            ]
          },
          "metadata": {},
          "execution_count": 5
        }
      ]
    },
    {
      "cell_type": "code",
      "metadata": {
        "id": "BS3wBap68jjQ"
      },
      "source": [
        "df.columns = ['İşlemci Tipi', 'Ram (Sistem Belleği)', 'SSD Kapasitesi',\n",
        "       'Ekran Kartı', 'Garanti Tipi', 'İşletim Sistemi',\n",
        "       'Kullanım Amacı', 'Optik Sürücü Tipi', 'Ekran Boyutu',\n",
        "       'Temel İşlemci Hızı (GHz)', 'Ekran Kartı Tipi', 'Kapasite',\n",
        "       'Ram (Sistem Belleği) Tipi', 'Ekran Kartı Hafızası',\n",
        "       'Cihaz Ağırlığı', 'Renk', 'Klavye', 'Ekran Kartı Bellek Tipi',\n",
        "       'İşlemci Nesli', 'İşlemci Çekirdek Sayısı',\n",
        "       'Çözünürlük Standartı', 'Dokunmatik Ekran', 'İşlemci Modeli',\n",
        "       'Hard Disk Kapasitesi', 'Ekran Yenileme Hızı (Hz)', 'Çözünürlük',\n",
        "       'Bağlantılar', 'Panel Tipi', 'Şarjlı Kullanım Süresi',\n",
        "       'Garanti Tipix', 'İşlemci Tipix', 'Çözünürlükx',\n",
        "       'Ekran Özelliği', 'Arttırılabilir Azami Bellek', 'Kapasitex',\n",
        "       'Kullanım Amacıx', 'Ram (Sistem Belleği) Tipix',\n",
        "       'Ekran Özelliğix', 'HDMIx', 'HDMI',\n",
        "       'Maksimum İşlemci Hızı (GHz)', 'Kullanım Amacıy',\n",
        "       'Görüntü Kalitesi', 'Maksimum İşlemci Hızı (GHz)x',\n",
        "       'İşlemci Neslix', 'Ekran Kartıx', 'Panel Tipix',\n",
        "       'Ekran Kartı Tipix', 'İşlemci Frekansıx', 'İşlemci Modelix',\n",
        "       'Okula Dönüş', 'Renkx', 'Ekran Boyutux',\n",
        "       'Ram (Sistem Belleği)x', 'Görüntü Kalitesix', 'Ekran Kartıy',\n",
        "       'İşlemci Frekansı', 'Bağlantı Girişleri', 'Ekran Yenileme Hızıx',\n",
        "       'Optik Sürücü', 'Optik Sürücü', 'Okula Dönüşx', 'Ürün Fiyatı']\n"
      ],
      "execution_count": null,
      "outputs": []
    },
    {
      "cell_type": "code",
      "source": [
        "df['Maksimum İşlemci Hızı (GHz)'].value_counts()"
      ],
      "metadata": {
        "colab": {
          "base_uri": "https://localhost:8080/"
        },
        "id": "PtrVKzl2HpI0",
        "outputId": "5ce959e8-663c-45a7-9073-df108df16dc5"
      },
      "execution_count": null,
      "outputs": [
        {
          "output_type": "execute_result",
          "data": {
            "text/plain": [
              "'2.7'    362\n",
              "'1.1'    355\n",
              "'4.0'    267\n",
              "'4.7'     54\n",
              "'4.6'      6\n",
              "'5.0'      6\n",
              "'4.2'      5\n",
              "'4.3'      5\n",
              "'4.4'      4\n",
              "'4.5'      2\n",
              "'4.8'      2\n",
              "'4.9'      1\n",
              "'3.5'      1\n",
              "'3.6'      1\n",
              "'2.6'      1\n",
              "'4.1'      1\n",
              "'2.5'      1\n",
              "'1.4'      1\n",
              "Name: Maksimum İşlemci Hızı (GHz), dtype: int64"
            ]
          },
          "metadata": {},
          "execution_count": 7
        }
      ]
    },
    {
      "cell_type": "code",
      "metadata": {
        "colab": {
          "base_uri": "https://localhost:8080/"
        },
        "id": "mXwQALQTtOrU",
        "outputId": "f77dd913-d80b-43d4-d0f5-bc6c78f35caf"
      },
      "source": [
        "df = df.drop(['İşlemci Tipix','Ram (Sistem Belleği)x','Ekran Kartıx','Ekran Kartıy','Garanti Tipix','Kullanım Amacıy','Kullanım Amacıx','Ekran Boyutux'\n",
        ",'Ekran Kartı Tipix','Kapasitex', 'Ram (Sistem Belleği) Tipix', 'Renkx','İşlemci Neslix', 'İşlemci Modelix','Ekran Yenileme Hızıx','Çözünürlükx',\n",
        "'Ekran Özelliğix','HDMIx', 'Maksimum İşlemci Hızı (GHz)x','Panel Tipix','İşlemci Frekansıx', 'Bağlantı Girişleri','Optik Sürücü', 'Optik Sürücü','Görüntü Kalitesix','Okula Dönüşx'],axis = 1)\n",
        "df.columns"
      ],
      "execution_count": null,
      "outputs": [
        {
          "output_type": "execute_result",
          "data": {
            "text/plain": [
              "Index(['İşlemci Tipi', 'Ram (Sistem Belleği)', 'SSD Kapasitesi', 'Ekran Kartı',\n",
              "       'Garanti Tipi', 'İşletim Sistemi', 'Kullanım Amacı',\n",
              "       'Optik Sürücü Tipi', 'Ekran Boyutu', 'Temel İşlemci Hızı (GHz)',\n",
              "       'Ekran Kartı Tipi', 'Kapasite', 'Ram (Sistem Belleği) Tipi',\n",
              "       'Ekran Kartı Hafızası', 'Cihaz Ağırlığı', 'Renk', 'Klavye',\n",
              "       'Ekran Kartı Bellek Tipi', 'İşlemci Nesli', 'İşlemci Çekirdek Sayısı',\n",
              "       'Çözünürlük Standartı', 'Dokunmatik Ekran', 'İşlemci Modeli',\n",
              "       'Hard Disk Kapasitesi', 'Ekran Yenileme Hızı (Hz)', 'Çözünürlük',\n",
              "       'Bağlantılar', 'Panel Tipi', 'Şarjlı Kullanım Süresi', 'Ekran Özelliği',\n",
              "       'Arttırılabilir Azami Bellek', 'HDMI', 'Maksimum İşlemci Hızı (GHz)',\n",
              "       'Görüntü Kalitesi', 'Okula Dönüş', 'İşlemci Frekansı', 'Ürün Fiyatı'],\n",
              "      dtype='object')"
            ]
          },
          "metadata": {},
          "execution_count": 8
        }
      ]
    },
    {
      "cell_type": "code",
      "source": [
        "df.columns"
      ],
      "metadata": {
        "colab": {
          "base_uri": "https://localhost:8080/"
        },
        "id": "xBN10pcN5lV_",
        "outputId": "85643d14-64f5-433e-9c73-68fb8fb1c8fa"
      },
      "execution_count": null,
      "outputs": [
        {
          "output_type": "execute_result",
          "data": {
            "text/plain": [
              "Index(['İşlemci Tipi', 'Ram (Sistem Belleği)', 'SSD Kapasitesi', 'Ekran Kartı',\n",
              "       'Garanti Tipi', 'İşletim Sistemi', 'Kullanım Amacı',\n",
              "       'Optik Sürücü Tipi', 'Ekran Boyutu', 'Temel İşlemci Hızı (GHz)',\n",
              "       'Ekran Kartı Tipi', 'Kapasite', 'Ram (Sistem Belleği) Tipi',\n",
              "       'Ekran Kartı Hafızası', 'Cihaz Ağırlığı', 'Renk', 'Klavye',\n",
              "       'Ekran Kartı Bellek Tipi', 'İşlemci Nesli', 'İşlemci Çekirdek Sayısı',\n",
              "       'Çözünürlük Standartı', 'Dokunmatik Ekran', 'İşlemci Modeli',\n",
              "       'Hard Disk Kapasitesi', 'Ekran Yenileme Hızı (Hz)', 'Çözünürlük',\n",
              "       'Bağlantılar', 'Panel Tipi', 'Şarjlı Kullanım Süresi', 'Ekran Özelliği',\n",
              "       'Arttırılabilir Azami Bellek', 'HDMI', 'Maksimum İşlemci Hızı (GHz)',\n",
              "       'Görüntü Kalitesi', 'Okula Dönüş', 'İşlemci Frekansı', 'Ürün Fiyatı'],\n",
              "      dtype='object')"
            ]
          },
          "metadata": {},
          "execution_count": 9
        }
      ]
    },
    {
      "cell_type": "markdown",
      "source": [
        "#içerik düzenleme"
      ],
      "metadata": {
        "id": "d7LRL_qW_pdV"
      }
    },
    {
      "cell_type": "code",
      "metadata": {
        "id": "U_s9ok7AJ6B6",
        "colab": {
          "base_uri": "https://localhost:8080/"
        },
        "outputId": "2ba465a6-da4c-4594-9fbf-d46675b81e08"
      },
      "source": [
        "df.replace({\"'Var']]\": \"Var\"}, inplace = True)\n",
        "df.replace({\"'3.00 GHz üstü'\": \"3.00 GHz üstü\"}, inplace = True)\n",
        "df.replace({\"'Belirtilmemiş'\": np.nan}, inplace = True)\n",
        "df.replace({\"'Casper Türkiye Garantili'\": \"'Resmi Distribütör Garantili'\"}, inplace = True)\n",
        "df.replace({\"'Ofis - İş'\": \"Ofis - İş\"}, inplace = True)\n",
        "df.replace({\"'Oyun'\": \"Oyun\"}, inplace = True)\n",
        "df.replace({\"'Ev - Okul'\": \"Ev - Okul\"}, inplace = True)\n",
        "df.replace({\"'Tasarım'\": \"Tasarım\"}, inplace = True)\n",
        "df.replace({\"'1 GB'\": int(1)}, inplace = True)\n",
        "df.replace({\"'128 GB'\": int(128)}, inplace = True)\n",
        "df.replace({\"'36 GB'\": int(36)}, inplace = True)\n",
        "df.replace({\"'3 GB'\": int(3)}, inplace = True)\n",
        "df.replace({\"'2 GB'\": int(2)}, inplace = True)\n",
        "df.replace({\"'12 GB'\": int(12)}, inplace = True)\n",
        "df.replace({\"'8 GB'\": int(8)}, inplace = True)\n",
        "df.replace({\"'4 GB'\": int(4)}, inplace = True)\n",
        "df.replace({\"'16 GB'\": int(16)}, inplace = True)\n",
        "df.replace({\"'32 GB'\": int(32)}, inplace = True)\n",
        "df.replace({\"'40 GB'\": int(40)}, inplace = True)\n",
        "df.replace({\"'48 GB'\": int(48)}, inplace = True)\n",
        "df.replace({\"'20 GB'\": int(20)}, inplace = True)\n",
        "df.replace({\"'24 GB'\": int(24)}, inplace = True)\n",
        "df.replace({\"'64 GB'\": int(64)}, inplace = True)\n",
        "df.replace({\"[['Intel Core i3'\": \"Intel Core i3\"}, inplace = True)\n",
        "df.replace({\"[['Intel Core i7'\": \"Intel Core i7\"}, inplace = True)\n",
        "df.replace({\"[['Intel Core i5'\": \"Intel Core i5\"}, inplace = True)\n",
        "df.replace({\"[['Apple M1'\": \"Apple M1\"}, inplace = True)\n",
        "df.replace({\"[['AMD Ryzen 5'\": \"AMD Ryzen 5\"}, inplace = True)\n",
        "df.replace({\"[['AMD Ryzen 7'\": \"AMD Ryzen 7\"}, inplace = True)\n",
        "df.replace({\"[['Intel Celeron'\": \"Intel Celeron\"}, inplace = True)\n",
        "df.replace({\"[['AMD'\": \"AMD\"}, inplace = True)\n",
        "df.replace({\"[['AMD Ryzen 3'\": \"AMD Ryzen 3\"}, inplace = True)\n",
        "df.replace({\"[['AMD Athlon'\": \"AMD Athlon\"}, inplace = True)\n",
        "df.replace({\"[['AMD E'\": \"AMD E\"}, inplace = True)\n",
        "df.replace({\"[['Intel Xeon'\": \"Intel Xeon\"}, inplace = True)\n",
        "df.replace({\"[['AMD A9'\": \"AMD A9\"}, inplace = True)\n",
        "df.replace({\"[['Intel Core i9'\": \"Intel Core i9\"}, inplace = True)\n",
        "df.replace({\"[['AMD Ryzen 9'\": \"AMD Ryzen 9\"}, inplace = True)\n",
        "df.replace({\"[['Intel Atom'\": \"Intel Atom\"}, inplace = True)\n",
        "df.replace({\"[['AMD 10'\": \"AMD 10\"}, inplace = True)\n",
        "df.replace({\"[['Intel Xeon W Serisi'\": \"Intel Xeon W Serisi\"}, inplace = True)\n",
        "df.replace({\"[['Intel Core 10.Nesil'\": \"Intel Core 10.Nesil\"}, inplace = True)\n",
        "df.replace({\"[['AMD A6'\": \"AMD A6\"}, inplace = True)\n",
        "df.replace({\"[['AMD A4'\": \"AMD A4\"}, inplace = True)\n",
        "df.replace({\"'256 GB'\": int(256)}, inplace = True)\n",
        "df.replace({\"'500 GB'\": int(500)}, inplace = True)\n",
        "df.replace({\"'512 GB'\": int(512)}, inplace = True)\n",
        "df.replace({\"'240 GB'\": int(240)}, inplace = True)\n",
        "df.replace({\"'750 GB'\": int(750)}, inplace = True)\n",
        "df.replace({\"'1 TB'\": int(1024)}, inplace = True)\n",
        "df.replace({\"'2 TB'\": int(2048)}, inplace = True)\n",
        "df.replace({\"'120 GB'\": int(120)}, inplace = True)\n",
        "df.replace({\"'Yok'\": np.nan}, inplace = True)\n",
        "df.replace({\"'250 GB'\": int(250)}, inplace = True)\n",
        "df.replace({\"'4 TB'\": int(4096)}, inplace = True)\n",
        "df.replace({\"'6 TB'\": int(6144)}, inplace = True)\n",
        "df.replace({\"'250 GB'\": int(250)}, inplace = True)\n",
        "df.replace({\"'480 GB'\": int(480)}, inplace = True)\n",
        "df.replace({\"'Resmi Distribütör Garantili'\": \"Resmi Distribütör Garantili\"}, inplace = True)\n",
        "df.replace({\"'İthalatçı Garantili'\": \"İthalatçı Garantili\"}, inplace = True)\n",
        "df.replace({\"'Free Dos'\": \"Free Dos\"}, inplace = True)\n",
        "df.replace({\"'Windows'\": \"Windows\"}, inplace = True)\n",
        "df.replace({\"'Mac Os'\": \"Mac Os\"}, inplace = True)\n",
        "df.replace({\"'Ubuntu'\": \"Ubuntu\"}, inplace = True)\n",
        "df.replace({\"'Linux'\": \"Linux\"}, inplace = True)\n",
        "df.replace({\"'Windows 11'\": \"Windows 11\"}, inplace = True)\n",
        "df.replace({\"'Android'\": \"Android\"}, inplace = True)\n",
        "df.replace({\"'DVD Yazıcı'\": \"DVD Yazıcı\"}, inplace = True)\n",
        "df.replace({\"'DVD Okuyucu'\": \"DVD Okuyucu\"}, inplace = True)\n",
        "df.replace({\"'DVD RW'\": \"DVD RW\"}, inplace = True)\n",
        "df.replace({\"'Çoklu Kopyalama Sistemleri'\": \"Çoklu Kopyalama Sistemleri\"}, inplace = True)\n",
        "df.replace({\"'DVD Super Multi'\": \"DVD Super Multi\"}, inplace = True)\n",
        "df.replace({\"'Blu-Ray Okuyucu'\": \"Blu-Ray Okuyucu\"}, inplace = True)\n",
        "df.replace({\"'15,6 inç'\": 15.6}, inplace = True)\n",
        "df.replace({\"'14 inç'\": 14}, inplace = True)\n",
        "df.replace({\"'13,3 inç'\": 13.3}, inplace = True)\n",
        "df.replace({\"'16 inç'\": 16}, inplace = True)\n",
        "df.replace({\"'17,3 inç'\": 17.3}, inplace = True)\n",
        "df.replace({\"'15 inç'\": 15}, inplace = True)\n",
        "df.replace({\"'14,1 inç'\": 14.1}, inplace = True)\n",
        "df.replace({\"'17 inç'\": 17}, inplace = True)\n",
        "df.replace({\"'16,1 inç'\": 16.1}, inplace = True)\n",
        "df.replace({\"'12,3 inç'\": 12.3}, inplace = True)\n",
        "df.replace({\"'13 inç'\": 13}, inplace = True)\n",
        "df.replace({\"'11,6 inç'\": 11.6}, inplace = True)\n",
        "df.replace({\"'10,1 inç'\": 10.1}, inplace = True)\n",
        "df.replace({\"'10 inç'\": 10}, inplace = True)\n",
        "df.replace({\"'12 inç'\": 12}, inplace = True)\n",
        "df.replace({\"'11 inç'\": 11}, inplace = True)\n",
        "df.replace({\"'18,4 inç'\": 18.4}, inplace = True)\n",
        "df.replace({\"'Dahili'\": \"Dahili\"}, inplace = True)\n",
        "df.replace({\"'Yüksek Seviye Harici Ekran Kartı'\": \"Harici\"}, inplace = True)\n",
        "df.replace({\"'Harici'\": \"Harici\"}, inplace = True)\n",
        "df.replace({\"'Nvidia GeForce MX450'\": \"Harici\"}, inplace = True)\n",
        "df.replace({\"'AMD Radeon RX5600M'\": \"Harici\"}, inplace = True)\n",
        "#bellek tipleri\n",
        "df.replace({\"'DDR4'\": \"DDR4\"}, inplace = True)\n",
        "df.replace({\"'LPDDR4'\": \"LPDDR4\"}, inplace = True)\n",
        "df.replace({\"'DDR3'\": \"DDR3\"}, inplace = True)\n",
        "df.replace({\"'DDR5'\": \"DDR5\"}, inplace = True)\n",
        "df.replace({\"'LPDDR4X'\": \"LPDDR4X\"}, inplace = True)\n",
        "df.replace({\"'DDR2'\": \"DDR2\"}, inplace = True)\n",
        "df.replace({\"'GDDR6'\": \"GDDR6\"}, inplace = True)\n",
        "df.replace({\"'DDR'\": \"DDR\"}, inplace = True)\n",
        "df.replace({\"'GDDR5'\": \"GDDR5\"}, inplace = True)\n",
        "df.replace({\"'SD'\": \"SD\"}, inplace = True)\n",
        "df.replace({\"'DDR2 + DDR3'\": \"DDR2 + DDR3\"}, inplace = True)\n",
        "df.replace({\"'GDDR4'\": \"GDDR4\"}, inplace = True)\n",
        "df.replace({\"'GDDR5X'\": \"GDDR5X\"}, inplace = True)\n",
        "df.replace({\"'DDR1'\": \"DDR1\"}, inplace = True)\n",
        "#'Cihaz Ağırlığı'\n",
        "df.replace({\"'2 kg ve Altı'\": \"2 kg ve Altı\"}, inplace = True)\n",
        "df.replace({\"'2 - 4 kg'\": \"2 - 4 kg\"}, inplace = True)\n",
        "df.replace({\"'4 kg ve Üstü'\": \"4 kg ve Üstü\"}, inplace = True)\n",
        "#renk\n",
        "df.replace({\"'Gri'\": \"Gri\"}, inplace = True)\n",
        "df.replace({\"'Siyah'\": \"Siyah\"}, inplace = True)\n",
        "df.replace({\"'Gümüş'\": \"Gümüş\"}, inplace = True)\n",
        "df.replace({\"'Beyaz'\": \"Beyaz\"}, inplace = True)\n",
        "df.replace({\"'Metalik'\": \"Metalik\"}, inplace = True)\n",
        "df.replace({\"'Çok Renkli'\": \"Çok Renkli\"}, inplace = True)\n",
        "df.replace({\"'Beyaz'\": \"Beyaz\"}, inplace = True)\n",
        "df.replace({\"'Altın'\": \"Altın\"}, inplace = True)\n",
        "df.replace({\"'Mavi'\": \"Mavi\"}, inplace = True)\n",
        "df.replace({\"'Lacivert'\": \"Lacivert\"}, inplace = True)\n",
        "df.replace({\"'Bej'\": \"Bej\"}, inplace = True)\n",
        "df.replace({\"'Yeşil'\": \"Yeşil\"}, inplace = True)\n",
        "df.replace({\"'Sarı'\": \"Sarı\"}, inplace = True)\n",
        "df.replace({\"'Kırmızı'\": \"Kırmızı\"}, inplace = True)\n",
        "df.replace({\"'Turuncu'\": \"Turuncu\"}, inplace = True)\n",
        "df.replace({\"'SİYAH'\": \"Siyah\"}, inplace = True)\n",
        "#klavye\n",
        "df.replace({\"'Q Türkçe'\": \"Q Türkçe\"}, inplace = True)\n",
        "df.replace({\"'Numerik Tuşlu Aydınlatmalı'\": \"Numerik Tuşlu Aydınlatmalı\"}, inplace = True)\n",
        "df.replace({\"'Aydınlatmalı'\": \"Aydınlatmalı\"}, inplace = True)\n",
        "df.replace({\"'Q İngilizce'\": \"Q İngilizce\"}, inplace = True)\n",
        "df.replace({\"'Numerik Tuşlu'\": \"Numerik Tuşlu\"}, inplace = True)\n",
        "df.replace({\"'Numerik Tuşlar Yok'\": \"Numerik Tuşlar Yok\"}, inplace = True)\n",
        "df.replace({\"'RGB Türkçe'\": \"RGB Türkçe\"}, inplace = True)\n",
        "df.replace({\"'RGB'\": \"RGB\"}, inplace = True)\n",
        "df.replace({\"'F Klavye'\": \"F Klavye\"}, inplace = True)\n",
        "df.replace({\"'RGB İngilizce'\": \"RGB İngilizce\"}, inplace = True)"
      ],
      "execution_count": null,
      "outputs": [
        {
          "output_type": "stream",
          "name": "stderr",
          "text": [
            "/usr/local/lib/python3.7/dist-packages/pandas/core/frame.py:4389: SettingWithCopyWarning: \n",
            "A value is trying to be set on a copy of a slice from a DataFrame\n",
            "\n",
            "See the caveats in the documentation: https://pandas.pydata.org/pandas-docs/stable/user_guide/indexing.html#returning-a-view-versus-a-copy\n",
            "  method=method,\n"
          ]
        }
      ]
    },
    {
      "cell_type": "code",
      "source": [
        "#'Temel İşlemci Hızı (GHz)'\n",
        "df.replace({\"'1.6'\": 1.6}, inplace = True)\n",
        "df.replace({\"'1.1'\": 1.1}, inplace = True)\n",
        "df.replace({\"'1 - 2'\": 1.0}, inplace = True)\n",
        "df.replace({\"'2.1'\": 2.1}, inplace = True)\n",
        "df.replace({\"'4 +'\": 4.0}, inplace = True)\n",
        "df.replace({\"'1.3'\": 1.3}, inplace = True)\n",
        "df.replace({\"'2.9'\": 2.9}, inplace = True)\n",
        "df.replace({\"'2.8'\": 2.8}, inplace = True)\n",
        "df.replace({\"'2.4'\": 2.4}, inplace = True)\n",
        "df.replace({\"'2.3'\": 2.3}, inplace = True)\n",
        "df.replace({\"'2.6'\": 2.6}, inplace = True)\n",
        "df.replace({\"'2 - 3'\": 2.0}, inplace = True)\n",
        "df.replace({\"'1.2'\": 1.2}, inplace = True)\n",
        "df.replace({\"'3.3'\": 3.3}, inplace = True)\n",
        "df.replace({\"'3'\": 3}, inplace = True)\n",
        "df.replace({\"'1.4'\": 1.4}, inplace = True)\n",
        "df.replace({\"'1.0'\": 1.0}, inplace = True)\n",
        "df.replace({\"'2.7'\": 2.7}, inplace = True)\n",
        "df.replace({\"'3.2'\": 3.2}, inplace = True)\n",
        "df.replace({\"'3.1'\": 3.1}, inplace = True)\n",
        "df.replace({\"'3 - 4'\": 3.0}, inplace = True)\n",
        "df.replace({\"'1.9'\": 1.9}, inplace = True)\n",
        "df.replace({\"'2.2'\": 2.2}, inplace = True)\n",
        "df.replace({\"'2'\": 2.0}, inplace = True)\n",
        "df.replace({\"'4.2'\": 4.2}, inplace = True)\n",
        "df.replace({\"'43497'\": np.nan}, inplace = True)\n",
        "df.replace({\"'1.5'\": 1.5}, inplace = True)\n",
        "df.replace({\"'3.6'\": 3.6}, inplace = True)\n",
        "df.replace({\"'3.5'\":  3.5}, inplace = True)\n",
        "df.replace({\"'43558'\": np.nan}, inplace = True)\n",
        "df.replace({\"'1.7'\": 1.7}, inplace = True)\n",
        "df.replace({\"'2.5'\": 2.5}, inplace = True)\n",
        "df.replace({\"'1.8'\": 1.8}, inplace = True)\n",
        "df.replace({\"'3.4'\": 3.4}, inplace = True)\n",
        "#'İşlemci Nesli'\n",
        "df.replace({\"'10. Nesil'\": '10. Nesil'}, inplace = True)\n",
        "df.replace({\"'11.Nesil'\": '11.Nesil'}, inplace = True)\n",
        "df.replace({\"'Ryzen'\": 'Ryzen'}, inplace = True)\n",
        "df.replace({\"'4. Nesil'\": '4. Nesil'}, inplace = True)\n",
        "df.replace({\"'5. Nesil'\": '5. Nesil'}, inplace = True)\n",
        "df.replace({\"'3. Nesil'\": '3. Nesil'}, inplace = True)\n",
        "df.replace({\"'7. Nesil'\": '7. Nesil'}, inplace = True)\n",
        "df.replace({\"'9. Nesil'\": '9. Nesil'}, inplace = True)\n",
        "df.replace({\"'6. Nesil'\": '6. Nesil'}, inplace = True)\n",
        "df.replace({\"'1. Nesil'\": '1. Nesil'}, inplace = True)\n",
        "df.replace({\"'8. Nesil'\": '8. Nesil'}, inplace = True)\n",
        "df.replace({\"'2. Nesil'\": '2. Nesil'}, inplace = True)\n",
        "#'İşlemci Çekirdek Sayısı'\n",
        "df.replace({\"'4'\": 4}, inplace = True)\n",
        "df.replace({\"'8'\": 8}, inplace = True)\n",
        "df.replace({\"'6'\": 6}, inplace = True)\n",
        "df.replace({\"'1'\": 1}, inplace = True)\n",
        "#'Çözünürlük Standartı'\n",
        "df.replace({\"'Full HD (FHD)'\": 'Full HD (FHD)'}, inplace = True)\n",
        "df.replace({\"'Retina'\": 'Retina'}, inplace = True)\n",
        "df.replace({\"'HD Ready (HD)'\": 'HD Ready (HD)'}, inplace = True)\n",
        "df.replace({\"'Ultra HD 4K (UHD)'\": 'Ultra HD 4K (UHD)'}, inplace = True)\n",
        "df.replace({\"'WQHD'\": 'WQHD'}, inplace = True)\n",
        "df.replace({\"'FHD+'\": 'FHD+'}, inplace = True)\n",
        "df.replace({\"'QHD'\": 'QHD'}, inplace = True)\n",
        "df.replace({\"'WQXGA'\": 'WQXGA'}, inplace = True)\n",
        "df.replace({\"'WUXGA'\": 'WUXGA'}, inplace = True)             \n",
        "\n",
        "#'Dokunmatik Ekran'\n",
        "df.replace({\"'Var'\": 'Var'}, inplace = True)\n",
        "#'Ekran Yenileme Hızı (Hz)'\n",
        "df.replace({\"'60 Hz'\": 60}, inplace = True)\n",
        "df.replace({\"'120 Hz'\": 120}, inplace = True)\n",
        "df.replace({\"'144 Hz'\": 144}, inplace = True)\n",
        "df.replace({\"'90 Hz'\": 90}, inplace = True)\n",
        "df.replace({\"'165 Hz'\": 165}, inplace = True)\n",
        "df.replace({\"'300 Hz'\": 300}, inplace = True)\n",
        "df.replace({\"'240 Hz'\": 240}, inplace = True)\n",
        "#'Çözünürlük'\n",
        "df.replace({\"'1920 x 1080']]\": '1920 x 1080'}, inplace = True)\n",
        "df.replace({\"'2560 x 1600']]\": '2560 x 1600'}, inplace = True)\n",
        "df.replace({\"'2160 x 1440']]\": '2160 x 1440'}, inplace = True)\n",
        "df.replace({\"'1366 x 768']]\": '1366 x 768'}, inplace = True)\n",
        "df.replace({\"'1920 x 1200']]\": '1920 x 1200'}, inplace = True)\n",
        "df.replace({\"'3840 x 2160']]\": '3840 x 2160'}, inplace = True)\n",
        "df.replace({\"'1280 x 800']]\": '1280 x 800'}, inplace = True)\n",
        "df.replace({\"'2736 x 1824']]\": '2736 x 1824'}, inplace = True)\n",
        "df.replace({\"'2560 x 1440']]\": '2560 x 1440'}, inplace = True)\n",
        "#'Maksimum İşlemci Hızı (GHz)'\n",
        "df.replace({\"'4.0'\": int(4.0)}, inplace = True)\n",
        "df.replace({\"'4.6'\": int(4.6)}, inplace = True)\n",
        "df.replace({\"'4.7'\": int(4.7)}, inplace = True)\n",
        "df.replace({\"'4.3'\": int(4.3)}, inplace = True)\n",
        "df.replace({\"'4.4'\": int(4.4)}, inplace = True)\n",
        "df.replace({\"'5.0'\": int(5.0)}, inplace = True)\n",
        "df.replace({\"'4.5'\": int(4.5)}, inplace = True)\n",
        "df.replace({\"'4.1'\": int(4.1)}, inplace = True)\n",
        "df.replace({\"'4.8'\": int(4.8)}, inplace = True)\n",
        "df.replace({\"'+5'\": int(5.0)}, inplace = True)\n",
        "df.replace({\"'4.9'\": int(4.9)}, inplace = True)\n",
        "#'Panel Tipi'\n",
        "df.replace({\"'TN'\": \"TN\"}, inplace = True)\n",
        "df.replace({\"'IPS'\": \"IPS\"}, inplace = True)\n",
        "df.replace({\"'VA'\": \"VA\"}, inplace = True)\n",
        "df.replace({\"'Anti-Glare'\": \"Anti-Glare\"}, inplace = True)\n",
        "#'Şarjlı Kullanım Süresi'\n",
        "df.replace({\"'3 Saat ve Altı'\": \"3 Saat ve Altı\"}, inplace = True)\n",
        "df.replace({\"'4 - 6 Saat'\": \"4 - 6 Saat\"}, inplace = True)\n",
        "df.replace({\"'6 Saat ve Üstü'\": \"6 Saat ve Üstü\"}, inplace = True)\n",
        "#'Kapasite'\n",
        "df.replace({\"'4 TB ve üstü'\": int(4)}, inplace = True)\n",
        "df.replace({\"'240'\": int(240)}, inplace = True)\n",
        "df.replace({\"'120'\": int(120)}, inplace = True)\n",
        "df.replace({\"'320 GB'\": int(320)}, inplace = True)\n",
        "df.replace({\"'250 GB altı'\": int(250)}, inplace = True)\n",
        "#'Bağlantılar'\n",
        "df.replace({\"'Bluetooth'\": \"Bluetooth\"}, inplace = True)\n",
        "df.replace({\"'USB'\": \"USB\"}, inplace = True)\n",
        "df.replace({\"'HDMI'\": \"HDMI\"}, inplace = True)\n",
        "#'Görüntü Kalitesi'\n",
        "df.replace({\"'Full HD'\": \"Full HD\"}, inplace = True)\n",
        "df.replace({\"'HD Ready'\": \"HD Ready\"}, inplace = True)\n",
        "#Ekran Özelliği\n",
        "df.replace({\"'HD']]\": \"HD\"}, inplace = True)\n",
        "df.replace({\"'4K Ultra HD']]\": \"4K Ultra HD\"}, inplace = True)\n",
        "df.replace({\"'Full HD']]\": \"Full HD\"}, inplace = True)\n",
        "#'Okula Dönüş'\n",
        "df.replace({\"'Evde Eğitim'\": \"Evde Eğitim\"}, inplace = True)\n",
        "df.replace({\"'Üniversite'\": \"Üniversite\"}, inplace = True)\n",
        "df.replace({\"'Ortaokul'\": \"Ortaokul\"}, inplace = True)\n",
        "df.replace({\"'Okul Öncesi'\": \"Okul Öncesi\"}, inplace = True)\n",
        "#'Ekran Kartı Hafızası'\n",
        "df.replace({\"'Paylaşımlı'\": np.nan}, inplace = True)\n",
        "df.replace({\"'6 GB'\": int(6)}, inplace = True)\n",
        "df.replace({\"'4 GB ve altı'\": int(4)}, inplace = True)\n",
        "df.replace({\"'Paylaşımsız'\": np.nan}, inplace = True)\n",
        "\n",
        "\n"
      ],
      "metadata": {
        "colab": {
          "base_uri": "https://localhost:8080/"
        },
        "id": "zbiKvK6rCI_5",
        "outputId": "22ed9225-9a8b-43ee-c7ab-b3aba32785e8"
      },
      "execution_count": null,
      "outputs": [
        {
          "output_type": "stream",
          "name": "stderr",
          "text": [
            "/usr/local/lib/python3.7/dist-packages/pandas/core/frame.py:4389: SettingWithCopyWarning: \n",
            "A value is trying to be set on a copy of a slice from a DataFrame\n",
            "\n",
            "See the caveats in the documentation: https://pandas.pydata.org/pandas-docs/stable/user_guide/indexing.html#returning-a-view-versus-a-copy\n",
            "  method=method,\n"
          ]
        }
      ]
    },
    {
      "cell_type": "code",
      "source": [
        "df.replace({\"'3.00 GHz üstü'\": '3.00 GHz üstü'}, inplace = True)\n"
      ],
      "metadata": {
        "colab": {
          "base_uri": "https://localhost:8080/"
        },
        "id": "lSIPHtQfLMq7",
        "outputId": "c8d5497b-8344-43b8-a4fc-1deb2691e39c"
      },
      "execution_count": null,
      "outputs": [
        {
          "output_type": "stream",
          "name": "stderr",
          "text": [
            "/usr/local/lib/python3.7/dist-packages/pandas/core/frame.py:4389: SettingWithCopyWarning: \n",
            "A value is trying to be set on a copy of a slice from a DataFrame\n",
            "\n",
            "See the caveats in the documentation: https://pandas.pydata.org/pandas-docs/stable/user_guide/indexing.html#returning-a-view-versus-a-copy\n",
            "  method=method,\n"
          ]
        }
      ]
    },
    {
      "cell_type": "code",
      "metadata": {
        "colab": {
          "base_uri": "https://localhost:8080/"
        },
        "id": "NHSEeSK2fhhd",
        "outputId": "e97c6b00-4f70-476e-93ed-4385ac3ba153"
      },
      "source": [
        "df.columns"
      ],
      "execution_count": null,
      "outputs": [
        {
          "output_type": "execute_result",
          "data": {
            "text/plain": [
              "Index(['İşlemci Tipi', 'Ram (Sistem Belleği)', 'SSD Kapasitesi', 'Ekran Kartı',\n",
              "       'Garanti Tipi', 'İşletim Sistemi', 'Kullanım Amacı',\n",
              "       'Optik Sürücü Tipi', 'Ekran Boyutu', 'Temel İşlemci Hızı (GHz)',\n",
              "       'Ekran Kartı Tipi', 'Kapasite', 'Ram (Sistem Belleği) Tipi',\n",
              "       'Ekran Kartı Hafızası', 'Cihaz Ağırlığı', 'Renk', 'Klavye',\n",
              "       'Ekran Kartı Bellek Tipi', 'İşlemci Nesli', 'İşlemci Çekirdek Sayısı',\n",
              "       'Çözünürlük Standartı', 'Dokunmatik Ekran', 'İşlemci Modeli',\n",
              "       'Hard Disk Kapasitesi', 'Ekran Yenileme Hızı (Hz)', 'Çözünürlük',\n",
              "       'Bağlantılar', 'Panel Tipi', 'Şarjlı Kullanım Süresi', 'Ekran Özelliği',\n",
              "       'Arttırılabilir Azami Bellek', 'HDMI', 'Maksimum İşlemci Hızı (GHz)',\n",
              "       'Görüntü Kalitesi', 'Okula Dönüş', 'İşlemci Frekansı', 'Ürün Fiyatı'],\n",
              "      dtype='object')"
            ]
          },
          "metadata": {},
          "execution_count": 13
        }
      ]
    },
    {
      "cell_type": "code",
      "metadata": {
        "colab": {
          "base_uri": "https://localhost:8080/"
        },
        "id": "KCLgv6eu2wWl",
        "outputId": "590ddd5b-b82d-4bc6-ff1c-5627b30a0bb0"
      },
      "source": [
        "i = 19\n",
        "df[df.columns[i]].value_counts()\n",
        "#df[df['Ekran Özelliği'] == '4K Ultra HD']"
      ],
      "execution_count": null,
      "outputs": [
        {
          "output_type": "execute_result",
          "data": {
            "text/plain": [
              "8.0    2870\n",
              "4.0    2388\n",
              "2.0    1339\n",
              "6.0    1226\n",
              "1.0      27\n",
              "Name: İşlemci Çekirdek Sayısı, dtype: int64"
            ]
          },
          "metadata": {},
          "execution_count": 14
        }
      ]
    },
    {
      "cell_type": "code",
      "metadata": {
        "colab": {
          "base_uri": "https://localhost:8080/"
        },
        "id": "KSogzD23ez6q",
        "outputId": "4c291590-5a89-4961-acbf-f1f82f4af9a5"
      },
      "source": [
        "df['Okula Dönüş'].isnull().value_counts()"
      ],
      "execution_count": null,
      "outputs": [
        {
          "output_type": "execute_result",
          "data": {
            "text/plain": [
              "True     11960\n",
              "False       40\n",
              "Name: Okula Dönüş, dtype: int64"
            ]
          },
          "metadata": {},
          "execution_count": 15
        }
      ]
    },
    {
      "cell_type": "code",
      "source": [
        "col = df.columns\n",
        "for i in col:\n",
        "  nan_value = sum(df[i].isnull())\n",
        "  if(nan_value/len(df))>0.8:\n",
        "    df = df.drop(i,axis=1)\n"
      ],
      "metadata": {
        "id": "jX3GK8c7we0u"
      },
      "execution_count": null,
      "outputs": []
    },
    {
      "cell_type": "code",
      "metadata": {
        "colab": {
          "base_uri": "https://localhost:8080/",
          "height": 869
        },
        "id": "fNNGGWBuKAwD",
        "outputId": "60759ace-0f10-49ba-dd81-357f567f8d36"
      },
      "source": [
        "df"
      ],
      "execution_count": null,
      "outputs": [
        {
          "output_type": "execute_result",
          "data": {
            "text/html": [
              "\n",
              "  <div id=\"df-8114fd54-8073-427e-a709-59e2aba66b09\">\n",
              "    <div class=\"colab-df-container\">\n",
              "      <div>\n",
              "<style scoped>\n",
              "    .dataframe tbody tr th:only-of-type {\n",
              "        vertical-align: middle;\n",
              "    }\n",
              "\n",
              "    .dataframe tbody tr th {\n",
              "        vertical-align: top;\n",
              "    }\n",
              "\n",
              "    .dataframe thead th {\n",
              "        text-align: right;\n",
              "    }\n",
              "</style>\n",
              "<table border=\"1\" class=\"dataframe\">\n",
              "  <thead>\n",
              "    <tr style=\"text-align: right;\">\n",
              "      <th></th>\n",
              "      <th>İşlemci Tipi</th>\n",
              "      <th>Ram (Sistem Belleği)</th>\n",
              "      <th>SSD Kapasitesi</th>\n",
              "      <th>Ekran Kartı</th>\n",
              "      <th>Garanti Tipi</th>\n",
              "      <th>İşletim Sistemi</th>\n",
              "      <th>Kullanım Amacı</th>\n",
              "      <th>Ekran Boyutu</th>\n",
              "      <th>Temel İşlemci Hızı (GHz)</th>\n",
              "      <th>Ekran Kartı Tipi</th>\n",
              "      <th>Kapasite</th>\n",
              "      <th>Ram (Sistem Belleği) Tipi</th>\n",
              "      <th>Ekran Kartı Hafızası</th>\n",
              "      <th>Cihaz Ağırlığı</th>\n",
              "      <th>Renk</th>\n",
              "      <th>Klavye</th>\n",
              "      <th>Ekran Kartı Bellek Tipi</th>\n",
              "      <th>İşlemci Nesli</th>\n",
              "      <th>İşlemci Çekirdek Sayısı</th>\n",
              "      <th>Çözünürlük Standartı</th>\n",
              "      <th>İşlemci Modeli</th>\n",
              "      <th>Çözünürlük</th>\n",
              "      <th>Bağlantılar</th>\n",
              "      <th>Panel Tipi</th>\n",
              "      <th>Şarjlı Kullanım Süresi</th>\n",
              "      <th>Görüntü Kalitesi</th>\n",
              "      <th>Ürün Fiyatı</th>\n",
              "    </tr>\n",
              "  </thead>\n",
              "  <tbody>\n",
              "    <tr>\n",
              "      <th>0</th>\n",
              "      <td>Intel Core i7</td>\n",
              "      <td>8.0</td>\n",
              "      <td>256.0</td>\n",
              "      <td>NaN</td>\n",
              "      <td>Resmi Distribütör Garantili</td>\n",
              "      <td>Ubuntu</td>\n",
              "      <td>Ofis - İş</td>\n",
              "      <td>15.6</td>\n",
              "      <td>2.8</td>\n",
              "      <td>Dahili</td>\n",
              "      <td>NaN</td>\n",
              "      <td>DDR4</td>\n",
              "      <td>NaN</td>\n",
              "      <td>2 kg ve Altı</td>\n",
              "      <td>Siyah</td>\n",
              "      <td>Q Türkçe</td>\n",
              "      <td>GDDR5</td>\n",
              "      <td>11.Nesil</td>\n",
              "      <td>4.0</td>\n",
              "      <td>Full HD (FHD)</td>\n",
              "      <td>'1165G7'</td>\n",
              "      <td>1920 x 1080</td>\n",
              "      <td>NaN</td>\n",
              "      <td>NaN</td>\n",
              "      <td>NaN</td>\n",
              "      <td>NaN</td>\n",
              "      <td>14788.0</td>\n",
              "    </tr>\n",
              "    <tr>\n",
              "      <th>1</th>\n",
              "      <td>Intel Core i5</td>\n",
              "      <td>16.0</td>\n",
              "      <td>512.0</td>\n",
              "      <td>'Nvidia GeForce MX330'</td>\n",
              "      <td>Resmi Distribütör Garantili</td>\n",
              "      <td>Windows</td>\n",
              "      <td>Ev - Okul</td>\n",
              "      <td>14.0</td>\n",
              "      <td>2.4</td>\n",
              "      <td>Harici</td>\n",
              "      <td>NaN</td>\n",
              "      <td>DDR4</td>\n",
              "      <td>2.0</td>\n",
              "      <td>2 - 4 kg</td>\n",
              "      <td>Siyah</td>\n",
              "      <td>Q Türkçe</td>\n",
              "      <td>GDDR5</td>\n",
              "      <td>11.Nesil</td>\n",
              "      <td>4.0</td>\n",
              "      <td>Full HD (FHD)</td>\n",
              "      <td>'1135G7'</td>\n",
              "      <td>1920 x 1080</td>\n",
              "      <td>NaN</td>\n",
              "      <td>NaN</td>\n",
              "      <td>NaN</td>\n",
              "      <td>NaN</td>\n",
              "      <td>11009.0</td>\n",
              "    </tr>\n",
              "    <tr>\n",
              "      <th>2</th>\n",
              "      <td>Intel Core i5</td>\n",
              "      <td>8.0</td>\n",
              "      <td>256.0</td>\n",
              "      <td>'Intel Iris Graphics'</td>\n",
              "      <td>Resmi Distribütör Garantili</td>\n",
              "      <td>Windows</td>\n",
              "      <td>Ofis - İş</td>\n",
              "      <td>15.6</td>\n",
              "      <td>4.2</td>\n",
              "      <td>Dahili</td>\n",
              "      <td>8.0</td>\n",
              "      <td>DDR4</td>\n",
              "      <td>NaN</td>\n",
              "      <td>2 kg ve Altı</td>\n",
              "      <td>Gümüş</td>\n",
              "      <td>Q Türkçe</td>\n",
              "      <td>DDR4</td>\n",
              "      <td>11.Nesil</td>\n",
              "      <td>4.0</td>\n",
              "      <td>Full HD (FHD)</td>\n",
              "      <td>'1135G7'</td>\n",
              "      <td>1920 x 1080</td>\n",
              "      <td>Bluetooth</td>\n",
              "      <td>VA</td>\n",
              "      <td>4 - 6 Saat</td>\n",
              "      <td>NaN</td>\n",
              "      <td>9000.0</td>\n",
              "    </tr>\n",
              "    <tr>\n",
              "      <th>3</th>\n",
              "      <td>Intel Celeron</td>\n",
              "      <td>4.0</td>\n",
              "      <td>128.0</td>\n",
              "      <td>NaN</td>\n",
              "      <td>Resmi Distribütör Garantili</td>\n",
              "      <td>Windows</td>\n",
              "      <td>Ofis - İş</td>\n",
              "      <td>14.0</td>\n",
              "      <td>1.1</td>\n",
              "      <td>Dahili</td>\n",
              "      <td>NaN</td>\n",
              "      <td>DDR4</td>\n",
              "      <td>NaN</td>\n",
              "      <td>2 kg ve Altı</td>\n",
              "      <td>Gri</td>\n",
              "      <td>Q Türkçe</td>\n",
              "      <td>SD</td>\n",
              "      <td>NaN</td>\n",
              "      <td>2.0</td>\n",
              "      <td>HD Ready (HD)</td>\n",
              "      <td>'N3350'</td>\n",
              "      <td>1366 x 768</td>\n",
              "      <td>NaN</td>\n",
              "      <td>NaN</td>\n",
              "      <td>NaN</td>\n",
              "      <td>NaN</td>\n",
              "      <td>2499.0</td>\n",
              "    </tr>\n",
              "    <tr>\n",
              "      <th>4</th>\n",
              "      <td>NaN</td>\n",
              "      <td>4.0</td>\n",
              "      <td>128.0</td>\n",
              "      <td>'Dahili Ekran Kartı'</td>\n",
              "      <td>NaN</td>\n",
              "      <td>Windows</td>\n",
              "      <td>Ofis - İş</td>\n",
              "      <td>15.6</td>\n",
              "      <td>NaN</td>\n",
              "      <td>Dahili</td>\n",
              "      <td>128.0</td>\n",
              "      <td>NaN</td>\n",
              "      <td>NaN</td>\n",
              "      <td>2 kg ve Altı</td>\n",
              "      <td>Gri</td>\n",
              "      <td>Q Türkçe</td>\n",
              "      <td>DDR4</td>\n",
              "      <td>10. Nesil</td>\n",
              "      <td>2.0</td>\n",
              "      <td>HD Ready (HD)</td>\n",
              "      <td>'3250U'</td>\n",
              "      <td>NaN</td>\n",
              "      <td>NaN</td>\n",
              "      <td>NaN</td>\n",
              "      <td>NaN</td>\n",
              "      <td>NaN</td>\n",
              "      <td>5800.0</td>\n",
              "    </tr>\n",
              "    <tr>\n",
              "      <th>...</th>\n",
              "      <td>...</td>\n",
              "      <td>...</td>\n",
              "      <td>...</td>\n",
              "      <td>...</td>\n",
              "      <td>...</td>\n",
              "      <td>...</td>\n",
              "      <td>...</td>\n",
              "      <td>...</td>\n",
              "      <td>...</td>\n",
              "      <td>...</td>\n",
              "      <td>...</td>\n",
              "      <td>...</td>\n",
              "      <td>...</td>\n",
              "      <td>...</td>\n",
              "      <td>...</td>\n",
              "      <td>...</td>\n",
              "      <td>...</td>\n",
              "      <td>...</td>\n",
              "      <td>...</td>\n",
              "      <td>...</td>\n",
              "      <td>...</td>\n",
              "      <td>...</td>\n",
              "      <td>...</td>\n",
              "      <td>...</td>\n",
              "      <td>...</td>\n",
              "      <td>...</td>\n",
              "      <td>...</td>\n",
              "    </tr>\n",
              "    <tr>\n",
              "      <th>11995</th>\n",
              "      <td>Intel Core i5</td>\n",
              "      <td>8.0</td>\n",
              "      <td>256.0</td>\n",
              "      <td>'Nvidia GeForce MX130'</td>\n",
              "      <td>Resmi Distribütör Garantili</td>\n",
              "      <td>Windows</td>\n",
              "      <td>Ofis - İş</td>\n",
              "      <td>15.6</td>\n",
              "      <td>1.1</td>\n",
              "      <td>Harici</td>\n",
              "      <td>NaN</td>\n",
              "      <td>DDR4</td>\n",
              "      <td>2.0</td>\n",
              "      <td>2 - 4 kg</td>\n",
              "      <td>Çok Renkli</td>\n",
              "      <td>Q Türkçe</td>\n",
              "      <td>GDDR5</td>\n",
              "      <td>10. Nesil</td>\n",
              "      <td>6.0</td>\n",
              "      <td>Full HD (FHD)</td>\n",
              "      <td>'1035G1'</td>\n",
              "      <td>1920 x 1080</td>\n",
              "      <td>NaN</td>\n",
              "      <td>NaN</td>\n",
              "      <td>NaN</td>\n",
              "      <td>NaN</td>\n",
              "      <td>8778.0</td>\n",
              "    </tr>\n",
              "    <tr>\n",
              "      <th>11996</th>\n",
              "      <td>AMD Ryzen 5</td>\n",
              "      <td>16.0</td>\n",
              "      <td>512.0</td>\n",
              "      <td>'AMD Radeon R5'</td>\n",
              "      <td>Resmi Distribütör Garantili</td>\n",
              "      <td>Windows</td>\n",
              "      <td>NaN</td>\n",
              "      <td>16.0</td>\n",
              "      <td>NaN</td>\n",
              "      <td>Dahili</td>\n",
              "      <td>512.0</td>\n",
              "      <td>DDR4</td>\n",
              "      <td>NaN</td>\n",
              "      <td>2 kg ve Altı</td>\n",
              "      <td>NaN</td>\n",
              "      <td>Q Türkçe</td>\n",
              "      <td>DDR4</td>\n",
              "      <td>Ryzen</td>\n",
              "      <td>NaN</td>\n",
              "      <td>Full HD (FHD)</td>\n",
              "      <td>'Ryzen 5 5600'</td>\n",
              "      <td>NaN</td>\n",
              "      <td>NaN</td>\n",
              "      <td>NaN</td>\n",
              "      <td>NaN</td>\n",
              "      <td>NaN</td>\n",
              "      <td>10449.0</td>\n",
              "    </tr>\n",
              "    <tr>\n",
              "      <th>11997</th>\n",
              "      <td>NaN</td>\n",
              "      <td>4.0</td>\n",
              "      <td>256.0</td>\n",
              "      <td>NaN</td>\n",
              "      <td>Resmi Distribütör Garantili</td>\n",
              "      <td>Windows</td>\n",
              "      <td>Ev - Okul</td>\n",
              "      <td>15.6</td>\n",
              "      <td>2.0</td>\n",
              "      <td>Dahili</td>\n",
              "      <td>256.0</td>\n",
              "      <td>NaN</td>\n",
              "      <td>NaN</td>\n",
              "      <td>2 - 4 kg</td>\n",
              "      <td>Gri</td>\n",
              "      <td>Q Türkçe</td>\n",
              "      <td>DDR</td>\n",
              "      <td>NaN</td>\n",
              "      <td>NaN</td>\n",
              "      <td>Full HD (FHD)</td>\n",
              "      <td>'3500U'</td>\n",
              "      <td>NaN</td>\n",
              "      <td>HDMI</td>\n",
              "      <td>NaN</td>\n",
              "      <td>NaN</td>\n",
              "      <td>NaN</td>\n",
              "      <td>6999.0</td>\n",
              "    </tr>\n",
              "    <tr>\n",
              "      <th>11998</th>\n",
              "      <td>Intel Core i7</td>\n",
              "      <td>16.0</td>\n",
              "      <td>500.0</td>\n",
              "      <td>'Nvidia GeForce RTX3050Ti'</td>\n",
              "      <td>Resmi Distribütör Garantili</td>\n",
              "      <td>Free Dos</td>\n",
              "      <td>Oyun</td>\n",
              "      <td>15.6</td>\n",
              "      <td>NaN</td>\n",
              "      <td>Harici</td>\n",
              "      <td>NaN</td>\n",
              "      <td>NaN</td>\n",
              "      <td>4.0</td>\n",
              "      <td>2 - 4 kg</td>\n",
              "      <td>NaN</td>\n",
              "      <td>Numerik Tuşlu Aydınlatmalı</td>\n",
              "      <td>GDDR6</td>\n",
              "      <td>NaN</td>\n",
              "      <td>NaN</td>\n",
              "      <td>Full HD (FHD)</td>\n",
              "      <td>'11800H'</td>\n",
              "      <td>NaN</td>\n",
              "      <td>Bluetooth</td>\n",
              "      <td>NaN</td>\n",
              "      <td>3 Saat ve Altı</td>\n",
              "      <td>Full HD</td>\n",
              "      <td>16899.0</td>\n",
              "    </tr>\n",
              "    <tr>\n",
              "      <th>11999</th>\n",
              "      <td>AMD Ryzen 7</td>\n",
              "      <td>16.0</td>\n",
              "      <td>512.0</td>\n",
              "      <td>'AMD Radeon Graphics'</td>\n",
              "      <td>Resmi Distribütör Garantili</td>\n",
              "      <td>Free Dos</td>\n",
              "      <td>Ofis - İş</td>\n",
              "      <td>14.0</td>\n",
              "      <td>NaN</td>\n",
              "      <td>Dahili</td>\n",
              "      <td>NaN</td>\n",
              "      <td>NaN</td>\n",
              "      <td>NaN</td>\n",
              "      <td>2 kg ve Altı</td>\n",
              "      <td>Siyah</td>\n",
              "      <td>Aydınlatmalı</td>\n",
              "      <td>SD</td>\n",
              "      <td>NaN</td>\n",
              "      <td>NaN</td>\n",
              "      <td>Full HD (FHD)</td>\n",
              "      <td>'5700U'</td>\n",
              "      <td>NaN</td>\n",
              "      <td>NaN</td>\n",
              "      <td>NaN</td>\n",
              "      <td>NaN</td>\n",
              "      <td>NaN</td>\n",
              "      <td>12907.0</td>\n",
              "    </tr>\n",
              "  </tbody>\n",
              "</table>\n",
              "<p>12000 rows × 27 columns</p>\n",
              "</div>\n",
              "      <button class=\"colab-df-convert\" onclick=\"convertToInteractive('df-8114fd54-8073-427e-a709-59e2aba66b09')\"\n",
              "              title=\"Convert this dataframe to an interactive table.\"\n",
              "              style=\"display:none;\">\n",
              "        \n",
              "  <svg xmlns=\"http://www.w3.org/2000/svg\" height=\"24px\"viewBox=\"0 0 24 24\"\n",
              "       width=\"24px\">\n",
              "    <path d=\"M0 0h24v24H0V0z\" fill=\"none\"/>\n",
              "    <path d=\"M18.56 5.44l.94 2.06.94-2.06 2.06-.94-2.06-.94-.94-2.06-.94 2.06-2.06.94zm-11 1L8.5 8.5l.94-2.06 2.06-.94-2.06-.94L8.5 2.5l-.94 2.06-2.06.94zm10 10l.94 2.06.94-2.06 2.06-.94-2.06-.94-.94-2.06-.94 2.06-2.06.94z\"/><path d=\"M17.41 7.96l-1.37-1.37c-.4-.4-.92-.59-1.43-.59-.52 0-1.04.2-1.43.59L10.3 9.45l-7.72 7.72c-.78.78-.78 2.05 0 2.83L4 21.41c.39.39.9.59 1.41.59.51 0 1.02-.2 1.41-.59l7.78-7.78 2.81-2.81c.8-.78.8-2.07 0-2.86zM5.41 20L4 18.59l7.72-7.72 1.47 1.35L5.41 20z\"/>\n",
              "  </svg>\n",
              "      </button>\n",
              "      \n",
              "  <style>\n",
              "    .colab-df-container {\n",
              "      display:flex;\n",
              "      flex-wrap:wrap;\n",
              "      gap: 12px;\n",
              "    }\n",
              "\n",
              "    .colab-df-convert {\n",
              "      background-color: #E8F0FE;\n",
              "      border: none;\n",
              "      border-radius: 50%;\n",
              "      cursor: pointer;\n",
              "      display: none;\n",
              "      fill: #1967D2;\n",
              "      height: 32px;\n",
              "      padding: 0 0 0 0;\n",
              "      width: 32px;\n",
              "    }\n",
              "\n",
              "    .colab-df-convert:hover {\n",
              "      background-color: #E2EBFA;\n",
              "      box-shadow: 0px 1px 2px rgba(60, 64, 67, 0.3), 0px 1px 3px 1px rgba(60, 64, 67, 0.15);\n",
              "      fill: #174EA6;\n",
              "    }\n",
              "\n",
              "    [theme=dark] .colab-df-convert {\n",
              "      background-color: #3B4455;\n",
              "      fill: #D2E3FC;\n",
              "    }\n",
              "\n",
              "    [theme=dark] .colab-df-convert:hover {\n",
              "      background-color: #434B5C;\n",
              "      box-shadow: 0px 1px 3px 1px rgba(0, 0, 0, 0.15);\n",
              "      filter: drop-shadow(0px 1px 2px rgba(0, 0, 0, 0.3));\n",
              "      fill: #FFFFFF;\n",
              "    }\n",
              "  </style>\n",
              "\n",
              "      <script>\n",
              "        const buttonEl =\n",
              "          document.querySelector('#df-8114fd54-8073-427e-a709-59e2aba66b09 button.colab-df-convert');\n",
              "        buttonEl.style.display =\n",
              "          google.colab.kernel.accessAllowed ? 'block' : 'none';\n",
              "\n",
              "        async function convertToInteractive(key) {\n",
              "          const element = document.querySelector('#df-8114fd54-8073-427e-a709-59e2aba66b09');\n",
              "          const dataTable =\n",
              "            await google.colab.kernel.invokeFunction('convertToInteractive',\n",
              "                                                     [key], {});\n",
              "          if (!dataTable) return;\n",
              "\n",
              "          const docLinkHtml = 'Like what you see? Visit the ' +\n",
              "            '<a target=\"_blank\" href=https://colab.research.google.com/notebooks/data_table.ipynb>data table notebook</a>'\n",
              "            + ' to learn more about interactive tables.';\n",
              "          element.innerHTML = '';\n",
              "          dataTable['output_type'] = 'display_data';\n",
              "          await google.colab.output.renderOutput(dataTable, element);\n",
              "          const docLink = document.createElement('div');\n",
              "          docLink.innerHTML = docLinkHtml;\n",
              "          element.appendChild(docLink);\n",
              "        }\n",
              "      </script>\n",
              "    </div>\n",
              "  </div>\n",
              "  "
            ],
            "text/plain": [
              "        İşlemci Tipi  Ram (Sistem Belleği)  ...  Görüntü Kalitesi Ürün Fiyatı\n",
              "0      Intel Core i7                   8.0  ...               NaN     14788.0\n",
              "1      Intel Core i5                  16.0  ...               NaN     11009.0\n",
              "2      Intel Core i5                   8.0  ...               NaN      9000.0\n",
              "3      Intel Celeron                   4.0  ...               NaN      2499.0\n",
              "4                NaN                   4.0  ...               NaN      5800.0\n",
              "...              ...                   ...  ...               ...         ...\n",
              "11995  Intel Core i5                   8.0  ...               NaN      8778.0\n",
              "11996    AMD Ryzen 5                  16.0  ...               NaN     10449.0\n",
              "11997            NaN                   4.0  ...               NaN      6999.0\n",
              "11998  Intel Core i7                  16.0  ...           Full HD     16899.0\n",
              "11999    AMD Ryzen 7                  16.0  ...               NaN     12907.0\n",
              "\n",
              "[12000 rows x 27 columns]"
            ]
          },
          "metadata": {},
          "execution_count": 17
        }
      ]
    },
    {
      "cell_type": "code",
      "source": [
        "len(df.columns)"
      ],
      "metadata": {
        "colab": {
          "base_uri": "https://localhost:8080/"
        },
        "id": "qA1nYx5LQ8Id",
        "outputId": "937bb139-ebc9-4e20-f7f9-1318fc96f317"
      },
      "execution_count": null,
      "outputs": [
        {
          "output_type": "execute_result",
          "data": {
            "text/plain": [
              "27"
            ]
          },
          "metadata": {},
          "execution_count": 18
        }
      ]
    },
    {
      "cell_type": "markdown",
      "source": [
        "#LabelEncoder()"
      ],
      "metadata": {
        "id": "LEYusAv0_1AU"
      }
    },
    {
      "cell_type": "code",
      "metadata": {
        "id": "Vo8LlDTvwZOS"
      },
      "source": [
        "from sklearn import preprocessing\n",
        "le = preprocessing.LabelEncoder()\n",
        "le.fit(df['İşlemci Tipi'])\n",
        "df['İşlemci Tipi'] = le.transform(df['İşlemci Tipi'])"
      ],
      "execution_count": null,
      "outputs": []
    },
    {
      "cell_type": "code",
      "source": [
        "le1 = preprocessing.LabelEncoder()\n",
        "le1.fit(df['Ekran Kartı'])\n",
        "df['Ekran Kartı'] = le1.transform(df['Ekran Kartı'])"
      ],
      "metadata": {
        "id": "SYyrZ0nYQ931"
      },
      "execution_count": null,
      "outputs": []
    },
    {
      "cell_type": "code",
      "source": [
        "le2 = preprocessing.LabelEncoder()\n",
        "le2.fit(df['Garanti Tipi'])\n",
        "df['Garanti Tipi'] = le2.transform(df['Garanti Tipi'])"
      ],
      "metadata": {
        "id": "W2mBDciwRpuk"
      },
      "execution_count": null,
      "outputs": []
    },
    {
      "cell_type": "code",
      "source": [
        "le4 = preprocessing.LabelEncoder()\n",
        "le4.fit(df['İşletim Sistemi'])\n",
        "df['İşletim Sistemi'] = le4.transform(df['İşletim Sistemi'])"
      ],
      "metadata": {
        "id": "mwni19nfcBFp"
      },
      "execution_count": null,
      "outputs": []
    },
    {
      "cell_type": "code",
      "source": [
        "le5 = preprocessing.LabelEncoder()\n",
        "le5.fit(df['Kullanım Amacı'])\n",
        "df['Kullanım Amacı'] = le5.transform(df['Kullanım Amacı'])"
      ],
      "metadata": {
        "id": "XC6q1ujojN84"
      },
      "execution_count": null,
      "outputs": []
    },
    {
      "cell_type": "code",
      "source": [
        "le7 = preprocessing.LabelEncoder()\n",
        "le7.fit(df['Ekran Kartı Tipi'])\n",
        "df['Ekran Kartı Tipi'] = le7.transform(df['Ekran Kartı Tipi'])"
      ],
      "metadata": {
        "id": "UdPZjMghjqni"
      },
      "execution_count": null,
      "outputs": []
    },
    {
      "cell_type": "code",
      "source": [
        "le8 = preprocessing.LabelEncoder()\n",
        "le8.fit(df['Ram (Sistem Belleği) Tipi'])\n",
        "df['Ram (Sistem Belleği) Tipi'] = le8.transform(df['Ram (Sistem Belleği) Tipi'])"
      ],
      "metadata": {
        "id": "8S3wowuqj3PD"
      },
      "execution_count": null,
      "outputs": []
    },
    {
      "cell_type": "code",
      "source": [
        "le9 = preprocessing.LabelEncoder()\n",
        "le9.fit(df['Cihaz Ağırlığı'])\n",
        "df['Cihaz Ağırlığı'] = le9.transform(df['Cihaz Ağırlığı'])"
      ],
      "metadata": {
        "id": "Zh0FJYCUnlKD"
      },
      "execution_count": null,
      "outputs": []
    },
    {
      "cell_type": "code",
      "source": [
        "le10 = preprocessing.LabelEncoder()\n",
        "le10.fit(df['Renk'])\n",
        "df['Renk'] = le10.transform(df['Renk'])"
      ],
      "metadata": {
        "id": "mg6OcNn2nyKj"
      },
      "execution_count": null,
      "outputs": []
    },
    {
      "cell_type": "code",
      "source": [
        "le11 = preprocessing.LabelEncoder()\n",
        "le11.fit(df['Klavye'])\n",
        "df['Klavye'] = le11.transform(df['Klavye'])"
      ],
      "metadata": {
        "id": "c9pkqY6xn5QX"
      },
      "execution_count": null,
      "outputs": []
    },
    {
      "cell_type": "code",
      "source": [
        "le12 = preprocessing.LabelEncoder()\n",
        "le12.fit(df['Ekran Kartı Bellek Tipi'])\n",
        "df['Ekran Kartı Bellek Tipi'] = le12.transform(df['Ekran Kartı Bellek Tipi'])"
      ],
      "metadata": {
        "id": "Pb8zxxSloBW8"
      },
      "execution_count": null,
      "outputs": []
    },
    {
      "cell_type": "code",
      "source": [
        "le13 = preprocessing.LabelEncoder()\n",
        "le13.fit(df['İşlemci Nesli'])\n",
        "df['İşlemci Nesli'] = le13.transform(df['İşlemci Nesli'])"
      ],
      "metadata": {
        "id": "Vz_39Q9ioEH9"
      },
      "execution_count": null,
      "outputs": []
    },
    {
      "cell_type": "code",
      "source": [
        "le14 = preprocessing.LabelEncoder()\n",
        "le14.fit(df['Çözünürlük Standartı'])\n",
        "df['Çözünürlük Standartı'] = le14.transform(df['Çözünürlük Standartı'])"
      ],
      "metadata": {
        "id": "2RbEaBKUobvY"
      },
      "execution_count": null,
      "outputs": []
    },
    {
      "cell_type": "code",
      "source": [
        "le16 = preprocessing.LabelEncoder()\n",
        "le16.fit(df['İşlemci Modeli'])\n",
        "df['İşlemci Modeli'] = le16.transform(df['İşlemci Modeli'])"
      ],
      "metadata": {
        "id": "3_DVfkzyoKR9"
      },
      "execution_count": null,
      "outputs": []
    },
    {
      "cell_type": "code",
      "source": [
        "le17 = preprocessing.LabelEncoder()\n",
        "le17.fit(df['Çözünürlük'])\n",
        "df['Çözünürlük'] = le17.transform(df['Çözünürlük'])"
      ],
      "metadata": {
        "id": "2U-4jefkpDcE"
      },
      "execution_count": null,
      "outputs": []
    },
    {
      "cell_type": "code",
      "source": [
        "le18 = preprocessing.LabelEncoder()\n",
        "le18.fit(df['Panel Tipi'])\n",
        "df['Panel Tipi'] = le18.transform(df['Panel Tipi'])"
      ],
      "metadata": {
        "id": "pJowxHAnpDRB"
      },
      "execution_count": null,
      "outputs": []
    },
    {
      "cell_type": "code",
      "source": [
        "le19 = preprocessing.LabelEncoder()\n",
        "le19.fit(df['Şarjlı Kullanım Süresi'])\n",
        "df['Şarjlı Kullanım Süresi'] = le19.transform(df['Şarjlı Kullanım Süresi'])"
      ],
      "metadata": {
        "id": "xtBR8scRABaV"
      },
      "execution_count": null,
      "outputs": []
    },
    {
      "cell_type": "code",
      "source": [
        "le20 = preprocessing.LabelEncoder()\n",
        "le20.fit(df['Bağlantılar'])\n",
        "df['Bağlantılar'] = le20.transform(df['Bağlantılar'])"
      ],
      "metadata": {
        "id": "gkiNcujMABsx"
      },
      "execution_count": null,
      "outputs": []
    },
    {
      "cell_type": "code",
      "source": [
        "le21 = preprocessing.LabelEncoder()\n",
        "le21.fit(df['Görüntü Kalitesi'])\n",
        "df['Görüntü Kalitesi'] = le21.transform(df['Görüntü Kalitesi'])"
      ],
      "metadata": {
        "id": "L0VO_auhAOdq"
      },
      "execution_count": null,
      "outputs": []
    },
    {
      "cell_type": "code",
      "metadata": {
        "colab": {
          "base_uri": "https://localhost:8080/",
          "height": 540
        },
        "id": "IgNw9BA9woqZ",
        "outputId": "8c7ac876-b14f-4dbd-ca79-fa62d4454430"
      },
      "source": [
        "#df['İşlemci Tipi'] = le.transform(df['İşlemci Tipi'])\n",
        "df"
      ],
      "execution_count": null,
      "outputs": [
        {
          "output_type": "execute_result",
          "data": {
            "text/html": [
              "\n",
              "  <div id=\"df-29af7156-0670-46f6-b60f-e66f281cfae5\">\n",
              "    <div class=\"colab-df-container\">\n",
              "      <div>\n",
              "<style scoped>\n",
              "    .dataframe tbody tr th:only-of-type {\n",
              "        vertical-align: middle;\n",
              "    }\n",
              "\n",
              "    .dataframe tbody tr th {\n",
              "        vertical-align: top;\n",
              "    }\n",
              "\n",
              "    .dataframe thead th {\n",
              "        text-align: right;\n",
              "    }\n",
              "</style>\n",
              "<table border=\"1\" class=\"dataframe\">\n",
              "  <thead>\n",
              "    <tr style=\"text-align: right;\">\n",
              "      <th></th>\n",
              "      <th>İşlemci Tipi</th>\n",
              "      <th>Ram (Sistem Belleği)</th>\n",
              "      <th>SSD Kapasitesi</th>\n",
              "      <th>Ekran Kartı</th>\n",
              "      <th>Garanti Tipi</th>\n",
              "      <th>İşletim Sistemi</th>\n",
              "      <th>Kullanım Amacı</th>\n",
              "      <th>Ekran Boyutu</th>\n",
              "      <th>Temel İşlemci Hızı (GHz)</th>\n",
              "      <th>Ekran Kartı Tipi</th>\n",
              "      <th>Kapasite</th>\n",
              "      <th>Ram (Sistem Belleği) Tipi</th>\n",
              "      <th>Ekran Kartı Hafızası</th>\n",
              "      <th>Cihaz Ağırlığı</th>\n",
              "      <th>Renk</th>\n",
              "      <th>Klavye</th>\n",
              "      <th>Ekran Kartı Bellek Tipi</th>\n",
              "      <th>İşlemci Nesli</th>\n",
              "      <th>İşlemci Çekirdek Sayısı</th>\n",
              "      <th>Çözünürlük Standartı</th>\n",
              "      <th>İşlemci Modeli</th>\n",
              "      <th>Çözünürlük</th>\n",
              "      <th>Bağlantılar</th>\n",
              "      <th>Panel Tipi</th>\n",
              "      <th>Şarjlı Kullanım Süresi</th>\n",
              "      <th>Görüntü Kalitesi</th>\n",
              "      <th>Ürün Fiyatı</th>\n",
              "    </tr>\n",
              "  </thead>\n",
              "  <tbody>\n",
              "    <tr>\n",
              "      <th>0</th>\n",
              "      <td>15</td>\n",
              "      <td>8.0</td>\n",
              "      <td>256.0</td>\n",
              "      <td>69</td>\n",
              "      <td>0</td>\n",
              "      <td>4</td>\n",
              "      <td>1</td>\n",
              "      <td>15.6</td>\n",
              "      <td>2.8</td>\n",
              "      <td>0</td>\n",
              "      <td>NaN</td>\n",
              "      <td>2</td>\n",
              "      <td>NaN</td>\n",
              "      <td>1</td>\n",
              "      <td>9</td>\n",
              "      <td>5</td>\n",
              "      <td>7</td>\n",
              "      <td>2</td>\n",
              "      <td>4.0</td>\n",
              "      <td>1</td>\n",
              "      <td>29</td>\n",
              "      <td>2</td>\n",
              "      <td>3</td>\n",
              "      <td>4</td>\n",
              "      <td>3</td>\n",
              "      <td>2</td>\n",
              "      <td>14788.0</td>\n",
              "    </tr>\n",
              "    <tr>\n",
              "      <th>1</th>\n",
              "      <td>14</td>\n",
              "      <td>16.0</td>\n",
              "      <td>512.0</td>\n",
              "      <td>42</td>\n",
              "      <td>0</td>\n",
              "      <td>5</td>\n",
              "      <td>0</td>\n",
              "      <td>14.0</td>\n",
              "      <td>2.4</td>\n",
              "      <td>1</td>\n",
              "      <td>NaN</td>\n",
              "      <td>2</td>\n",
              "      <td>2.0</td>\n",
              "      <td>0</td>\n",
              "      <td>9</td>\n",
              "      <td>5</td>\n",
              "      <td>7</td>\n",
              "      <td>2</td>\n",
              "      <td>4.0</td>\n",
              "      <td>1</td>\n",
              "      <td>26</td>\n",
              "      <td>2</td>\n",
              "      <td>3</td>\n",
              "      <td>4</td>\n",
              "      <td>3</td>\n",
              "      <td>2</td>\n",
              "      <td>11009.0</td>\n",
              "    </tr>\n",
              "    <tr>\n",
              "      <th>2</th>\n",
              "      <td>14</td>\n",
              "      <td>8.0</td>\n",
              "      <td>256.0</td>\n",
              "      <td>18</td>\n",
              "      <td>0</td>\n",
              "      <td>5</td>\n",
              "      <td>1</td>\n",
              "      <td>15.6</td>\n",
              "      <td>4.2</td>\n",
              "      <td>0</td>\n",
              "      <td>8.0</td>\n",
              "      <td>2</td>\n",
              "      <td>NaN</td>\n",
              "      <td>1</td>\n",
              "      <td>4</td>\n",
              "      <td>5</td>\n",
              "      <td>4</td>\n",
              "      <td>2</td>\n",
              "      <td>4.0</td>\n",
              "      <td>1</td>\n",
              "      <td>26</td>\n",
              "      <td>2</td>\n",
              "      <td>0</td>\n",
              "      <td>3</td>\n",
              "      <td>1</td>\n",
              "      <td>2</td>\n",
              "      <td>9000.0</td>\n",
              "    </tr>\n",
              "    <tr>\n",
              "      <th>3</th>\n",
              "      <td>12</td>\n",
              "      <td>4.0</td>\n",
              "      <td>128.0</td>\n",
              "      <td>69</td>\n",
              "      <td>0</td>\n",
              "      <td>5</td>\n",
              "      <td>1</td>\n",
              "      <td>14.0</td>\n",
              "      <td>1.1</td>\n",
              "      <td>0</td>\n",
              "      <td>NaN</td>\n",
              "      <td>2</td>\n",
              "      <td>NaN</td>\n",
              "      <td>1</td>\n",
              "      <td>3</td>\n",
              "      <td>5</td>\n",
              "      <td>10</td>\n",
              "      <td>12</td>\n",
              "      <td>2.0</td>\n",
              "      <td>2</td>\n",
              "      <td>89</td>\n",
              "      <td>1</td>\n",
              "      <td>3</td>\n",
              "      <td>4</td>\n",
              "      <td>3</td>\n",
              "      <td>2</td>\n",
              "      <td>2499.0</td>\n",
              "    </tr>\n",
              "    <tr>\n",
              "      <th>4</th>\n",
              "      <td>19</td>\n",
              "      <td>4.0</td>\n",
              "      <td>128.0</td>\n",
              "      <td>11</td>\n",
              "      <td>2</td>\n",
              "      <td>5</td>\n",
              "      <td>1</td>\n",
              "      <td>15.6</td>\n",
              "      <td>NaN</td>\n",
              "      <td>0</td>\n",
              "      <td>128.0</td>\n",
              "      <td>5</td>\n",
              "      <td>NaN</td>\n",
              "      <td>1</td>\n",
              "      <td>3</td>\n",
              "      <td>5</td>\n",
              "      <td>4</td>\n",
              "      <td>1</td>\n",
              "      <td>2.0</td>\n",
              "      <td>2</td>\n",
              "      <td>43</td>\n",
              "      <td>7</td>\n",
              "      <td>3</td>\n",
              "      <td>4</td>\n",
              "      <td>3</td>\n",
              "      <td>2</td>\n",
              "      <td>5800.0</td>\n",
              "    </tr>\n",
              "    <tr>\n",
              "      <th>...</th>\n",
              "      <td>...</td>\n",
              "      <td>...</td>\n",
              "      <td>...</td>\n",
              "      <td>...</td>\n",
              "      <td>...</td>\n",
              "      <td>...</td>\n",
              "      <td>...</td>\n",
              "      <td>...</td>\n",
              "      <td>...</td>\n",
              "      <td>...</td>\n",
              "      <td>...</td>\n",
              "      <td>...</td>\n",
              "      <td>...</td>\n",
              "      <td>...</td>\n",
              "      <td>...</td>\n",
              "      <td>...</td>\n",
              "      <td>...</td>\n",
              "      <td>...</td>\n",
              "      <td>...</td>\n",
              "      <td>...</td>\n",
              "      <td>...</td>\n",
              "      <td>...</td>\n",
              "      <td>...</td>\n",
              "      <td>...</td>\n",
              "      <td>...</td>\n",
              "      <td>...</td>\n",
              "      <td>...</td>\n",
              "    </tr>\n",
              "    <tr>\n",
              "      <th>11995</th>\n",
              "      <td>14</td>\n",
              "      <td>8.0</td>\n",
              "      <td>256.0</td>\n",
              "      <td>39</td>\n",
              "      <td>0</td>\n",
              "      <td>5</td>\n",
              "      <td>1</td>\n",
              "      <td>15.6</td>\n",
              "      <td>1.1</td>\n",
              "      <td>1</td>\n",
              "      <td>NaN</td>\n",
              "      <td>2</td>\n",
              "      <td>2.0</td>\n",
              "      <td>0</td>\n",
              "      <td>12</td>\n",
              "      <td>5</td>\n",
              "      <td>7</td>\n",
              "      <td>1</td>\n",
              "      <td>6.0</td>\n",
              "      <td>1</td>\n",
              "      <td>6</td>\n",
              "      <td>2</td>\n",
              "      <td>3</td>\n",
              "      <td>4</td>\n",
              "      <td>3</td>\n",
              "      <td>2</td>\n",
              "      <td>8778.0</td>\n",
              "    </tr>\n",
              "    <tr>\n",
              "      <th>11996</th>\n",
              "      <td>7</td>\n",
              "      <td>16.0</td>\n",
              "      <td>512.0</td>\n",
              "      <td>4</td>\n",
              "      <td>0</td>\n",
              "      <td>5</td>\n",
              "      <td>4</td>\n",
              "      <td>16.0</td>\n",
              "      <td>NaN</td>\n",
              "      <td>0</td>\n",
              "      <td>512.0</td>\n",
              "      <td>2</td>\n",
              "      <td>NaN</td>\n",
              "      <td>1</td>\n",
              "      <td>13</td>\n",
              "      <td>5</td>\n",
              "      <td>4</td>\n",
              "      <td>11</td>\n",
              "      <td>NaN</td>\n",
              "      <td>1</td>\n",
              "      <td>95</td>\n",
              "      <td>7</td>\n",
              "      <td>3</td>\n",
              "      <td>4</td>\n",
              "      <td>3</td>\n",
              "      <td>2</td>\n",
              "      <td>10449.0</td>\n",
              "    </tr>\n",
              "    <tr>\n",
              "      <th>11997</th>\n",
              "      <td>19</td>\n",
              "      <td>4.0</td>\n",
              "      <td>256.0</td>\n",
              "      <td>69</td>\n",
              "      <td>0</td>\n",
              "      <td>5</td>\n",
              "      <td>0</td>\n",
              "      <td>15.6</td>\n",
              "      <td>2.0</td>\n",
              "      <td>0</td>\n",
              "      <td>256.0</td>\n",
              "      <td>5</td>\n",
              "      <td>NaN</td>\n",
              "      <td>0</td>\n",
              "      <td>3</td>\n",
              "      <td>5</td>\n",
              "      <td>0</td>\n",
              "      <td>12</td>\n",
              "      <td>NaN</td>\n",
              "      <td>1</td>\n",
              "      <td>45</td>\n",
              "      <td>7</td>\n",
              "      <td>1</td>\n",
              "      <td>4</td>\n",
              "      <td>3</td>\n",
              "      <td>2</td>\n",
              "      <td>6999.0</td>\n",
              "    </tr>\n",
              "    <tr>\n",
              "      <th>11998</th>\n",
              "      <td>15</td>\n",
              "      <td>16.0</td>\n",
              "      <td>500.0</td>\n",
              "      <td>54</td>\n",
              "      <td>0</td>\n",
              "      <td>1</td>\n",
              "      <td>2</td>\n",
              "      <td>15.6</td>\n",
              "      <td>NaN</td>\n",
              "      <td>1</td>\n",
              "      <td>NaN</td>\n",
              "      <td>5</td>\n",
              "      <td>4.0</td>\n",
              "      <td>0</td>\n",
              "      <td>13</td>\n",
              "      <td>4</td>\n",
              "      <td>9</td>\n",
              "      <td>12</td>\n",
              "      <td>NaN</td>\n",
              "      <td>1</td>\n",
              "      <td>31</td>\n",
              "      <td>7</td>\n",
              "      <td>0</td>\n",
              "      <td>4</td>\n",
              "      <td>0</td>\n",
              "      <td>0</td>\n",
              "      <td>16899.0</td>\n",
              "    </tr>\n",
              "    <tr>\n",
              "      <th>11999</th>\n",
              "      <td>8</td>\n",
              "      <td>16.0</td>\n",
              "      <td>512.0</td>\n",
              "      <td>2</td>\n",
              "      <td>0</td>\n",
              "      <td>1</td>\n",
              "      <td>1</td>\n",
              "      <td>14.0</td>\n",
              "      <td>NaN</td>\n",
              "      <td>0</td>\n",
              "      <td>NaN</td>\n",
              "      <td>5</td>\n",
              "      <td>NaN</td>\n",
              "      <td>1</td>\n",
              "      <td>9</td>\n",
              "      <td>0</td>\n",
              "      <td>10</td>\n",
              "      <td>12</td>\n",
              "      <td>NaN</td>\n",
              "      <td>1</td>\n",
              "      <td>62</td>\n",
              "      <td>7</td>\n",
              "      <td>3</td>\n",
              "      <td>4</td>\n",
              "      <td>3</td>\n",
              "      <td>2</td>\n",
              "      <td>12907.0</td>\n",
              "    </tr>\n",
              "  </tbody>\n",
              "</table>\n",
              "<p>12000 rows × 27 columns</p>\n",
              "</div>\n",
              "      <button class=\"colab-df-convert\" onclick=\"convertToInteractive('df-29af7156-0670-46f6-b60f-e66f281cfae5')\"\n",
              "              title=\"Convert this dataframe to an interactive table.\"\n",
              "              style=\"display:none;\">\n",
              "        \n",
              "  <svg xmlns=\"http://www.w3.org/2000/svg\" height=\"24px\"viewBox=\"0 0 24 24\"\n",
              "       width=\"24px\">\n",
              "    <path d=\"M0 0h24v24H0V0z\" fill=\"none\"/>\n",
              "    <path d=\"M18.56 5.44l.94 2.06.94-2.06 2.06-.94-2.06-.94-.94-2.06-.94 2.06-2.06.94zm-11 1L8.5 8.5l.94-2.06 2.06-.94-2.06-.94L8.5 2.5l-.94 2.06-2.06.94zm10 10l.94 2.06.94-2.06 2.06-.94-2.06-.94-.94-2.06-.94 2.06-2.06.94z\"/><path d=\"M17.41 7.96l-1.37-1.37c-.4-.4-.92-.59-1.43-.59-.52 0-1.04.2-1.43.59L10.3 9.45l-7.72 7.72c-.78.78-.78 2.05 0 2.83L4 21.41c.39.39.9.59 1.41.59.51 0 1.02-.2 1.41-.59l7.78-7.78 2.81-2.81c.8-.78.8-2.07 0-2.86zM5.41 20L4 18.59l7.72-7.72 1.47 1.35L5.41 20z\"/>\n",
              "  </svg>\n",
              "      </button>\n",
              "      \n",
              "  <style>\n",
              "    .colab-df-container {\n",
              "      display:flex;\n",
              "      flex-wrap:wrap;\n",
              "      gap: 12px;\n",
              "    }\n",
              "\n",
              "    .colab-df-convert {\n",
              "      background-color: #E8F0FE;\n",
              "      border: none;\n",
              "      border-radius: 50%;\n",
              "      cursor: pointer;\n",
              "      display: none;\n",
              "      fill: #1967D2;\n",
              "      height: 32px;\n",
              "      padding: 0 0 0 0;\n",
              "      width: 32px;\n",
              "    }\n",
              "\n",
              "    .colab-df-convert:hover {\n",
              "      background-color: #E2EBFA;\n",
              "      box-shadow: 0px 1px 2px rgba(60, 64, 67, 0.3), 0px 1px 3px 1px rgba(60, 64, 67, 0.15);\n",
              "      fill: #174EA6;\n",
              "    }\n",
              "\n",
              "    [theme=dark] .colab-df-convert {\n",
              "      background-color: #3B4455;\n",
              "      fill: #D2E3FC;\n",
              "    }\n",
              "\n",
              "    [theme=dark] .colab-df-convert:hover {\n",
              "      background-color: #434B5C;\n",
              "      box-shadow: 0px 1px 3px 1px rgba(0, 0, 0, 0.15);\n",
              "      filter: drop-shadow(0px 1px 2px rgba(0, 0, 0, 0.3));\n",
              "      fill: #FFFFFF;\n",
              "    }\n",
              "  </style>\n",
              "\n",
              "      <script>\n",
              "        const buttonEl =\n",
              "          document.querySelector('#df-29af7156-0670-46f6-b60f-e66f281cfae5 button.colab-df-convert');\n",
              "        buttonEl.style.display =\n",
              "          google.colab.kernel.accessAllowed ? 'block' : 'none';\n",
              "\n",
              "        async function convertToInteractive(key) {\n",
              "          const element = document.querySelector('#df-29af7156-0670-46f6-b60f-e66f281cfae5');\n",
              "          const dataTable =\n",
              "            await google.colab.kernel.invokeFunction('convertToInteractive',\n",
              "                                                     [key], {});\n",
              "          if (!dataTable) return;\n",
              "\n",
              "          const docLinkHtml = 'Like what you see? Visit the ' +\n",
              "            '<a target=\"_blank\" href=https://colab.research.google.com/notebooks/data_table.ipynb>data table notebook</a>'\n",
              "            + ' to learn more about interactive tables.';\n",
              "          element.innerHTML = '';\n",
              "          dataTable['output_type'] = 'display_data';\n",
              "          await google.colab.output.renderOutput(dataTable, element);\n",
              "          const docLink = document.createElement('div');\n",
              "          docLink.innerHTML = docLinkHtml;\n",
              "          element.appendChild(docLink);\n",
              "        }\n",
              "      </script>\n",
              "    </div>\n",
              "  </div>\n",
              "  "
            ],
            "text/plain": [
              "       İşlemci Tipi  Ram (Sistem Belleği)  ...  Görüntü Kalitesi  Ürün Fiyatı\n",
              "0                15                   8.0  ...                 2      14788.0\n",
              "1                14                  16.0  ...                 2      11009.0\n",
              "2                14                   8.0  ...                 2       9000.0\n",
              "3                12                   4.0  ...                 2       2499.0\n",
              "4                19                   4.0  ...                 2       5800.0\n",
              "...             ...                   ...  ...               ...          ...\n",
              "11995            14                   8.0  ...                 2       8778.0\n",
              "11996             7                  16.0  ...                 2      10449.0\n",
              "11997            19                   4.0  ...                 2       6999.0\n",
              "11998            15                  16.0  ...                 0      16899.0\n",
              "11999             8                  16.0  ...                 2      12907.0\n",
              "\n",
              "[12000 rows x 27 columns]"
            ]
          },
          "metadata": {},
          "execution_count": 38
        }
      ]
    },
    {
      "cell_type": "code",
      "source": [
        "df.isnull().sum()"
      ],
      "metadata": {
        "colab": {
          "base_uri": "https://localhost:8080/"
        },
        "id": "xELeByWsvQZq",
        "outputId": "7127b15b-745c-4236-8146-d0c8daa2734e"
      },
      "execution_count": null,
      "outputs": [
        {
          "output_type": "execute_result",
          "data": {
            "text/plain": [
              "İşlemci Tipi                    0\n",
              "Ram (Sistem Belleği)            6\n",
              "SSD Kapasitesi                 32\n",
              "Ekran Kartı                     0\n",
              "Garanti Tipi                    0\n",
              "İşletim Sistemi                 0\n",
              "Kullanım Amacı                  0\n",
              "Ekran Boyutu                    1\n",
              "Temel İşlemci Hızı (GHz)     6844\n",
              "Ekran Kartı Tipi                0\n",
              "Kapasite                     8835\n",
              "Ram (Sistem Belleği) Tipi       0\n",
              "Ekran Kartı Hafızası         5890\n",
              "Cihaz Ağırlığı                  0\n",
              "Renk                            0\n",
              "Klavye                          0\n",
              "Ekran Kartı Bellek Tipi         0\n",
              "İşlemci Nesli                   0\n",
              "İşlemci Çekirdek Sayısı      4150\n",
              "Çözünürlük Standartı            0\n",
              "İşlemci Modeli                  0\n",
              "Çözünürlük                      0\n",
              "Bağlantılar                     0\n",
              "Panel Tipi                      0\n",
              "Şarjlı Kullanım Süresi          0\n",
              "Görüntü Kalitesi                0\n",
              "Ürün Fiyatı                     0\n",
              "dtype: int64"
            ]
          },
          "metadata": {},
          "execution_count": 39
        }
      ]
    },
    {
      "cell_type": "code",
      "source": [
        "df['Temel İşlemci Hızı (GHz)'].value_counts()\n",
        "df.isnull().sum()"
      ],
      "metadata": {
        "colab": {
          "base_uri": "https://localhost:8080/"
        },
        "id": "-fBJWhzxK7Ji",
        "outputId": "45dac588-3bf6-4dc7-e065-c31be04ca21e"
      },
      "execution_count": null,
      "outputs": [
        {
          "output_type": "execute_result",
          "data": {
            "text/plain": [
              "İşlemci Tipi                    0\n",
              "Ram (Sistem Belleği)            6\n",
              "SSD Kapasitesi                 32\n",
              "Ekran Kartı                     0\n",
              "Garanti Tipi                    0\n",
              "İşletim Sistemi                 0\n",
              "Kullanım Amacı                  0\n",
              "Ekran Boyutu                    1\n",
              "Temel İşlemci Hızı (GHz)     6844\n",
              "Ekran Kartı Tipi                0\n",
              "Kapasite                     8835\n",
              "Ram (Sistem Belleği) Tipi       0\n",
              "Ekran Kartı Hafızası         5890\n",
              "Cihaz Ağırlığı                  0\n",
              "Renk                            0\n",
              "Klavye                          0\n",
              "Ekran Kartı Bellek Tipi         0\n",
              "İşlemci Nesli                   0\n",
              "İşlemci Çekirdek Sayısı      4150\n",
              "Çözünürlük Standartı            0\n",
              "İşlemci Modeli                  0\n",
              "Çözünürlük                      0\n",
              "Bağlantılar                     0\n",
              "Panel Tipi                      0\n",
              "Şarjlı Kullanım Süresi          0\n",
              "Görüntü Kalitesi                0\n",
              "Ürün Fiyatı                     0\n",
              "dtype: int64"
            ]
          },
          "metadata": {},
          "execution_count": 40
        }
      ]
    },
    {
      "cell_type": "markdown",
      "source": [
        "#Pre Regression"
      ],
      "metadata": {
        "id": "-lkG4_8lKIfu"
      }
    },
    {
      "cell_type": "code",
      "source": [
        "df = df.drop(df.columns[np.isnan(df).any()], axis=1)\n",
        "df.isnull().sum()"
      ],
      "metadata": {
        "colab": {
          "base_uri": "https://localhost:8080/"
        },
        "id": "qs1cQdSdPwma",
        "outputId": "48031b41-1c0d-4363-941d-d4fd0a04e957"
      },
      "execution_count": null,
      "outputs": [
        {
          "output_type": "execute_result",
          "data": {
            "text/plain": [
              "İşlemci Tipi                 0\n",
              "Ekran Kartı                  0\n",
              "Garanti Tipi                 0\n",
              "İşletim Sistemi              0\n",
              "Kullanım Amacı               0\n",
              "Ekran Kartı Tipi             0\n",
              "Ram (Sistem Belleği) Tipi    0\n",
              "Cihaz Ağırlığı               0\n",
              "Renk                         0\n",
              "Klavye                       0\n",
              "Ekran Kartı Bellek Tipi      0\n",
              "İşlemci Nesli                0\n",
              "Çözünürlük Standartı         0\n",
              "İşlemci Modeli               0\n",
              "Çözünürlük                   0\n",
              "Bağlantılar                  0\n",
              "Panel Tipi                   0\n",
              "Şarjlı Kullanım Süresi       0\n",
              "Görüntü Kalitesi             0\n",
              "Ürün Fiyatı                  0\n",
              "dtype: int64"
            ]
          },
          "metadata": {},
          "execution_count": 41
        }
      ]
    },
    {
      "cell_type": "code",
      "source": [
        "df"
      ],
      "metadata": {
        "colab": {
          "base_uri": "https://localhost:8080/",
          "height": 540
        },
        "id": "KkyopWEh9q9q",
        "outputId": "99a3650f-a863-49a6-b0f9-92e07931b2b9"
      },
      "execution_count": null,
      "outputs": [
        {
          "output_type": "execute_result",
          "data": {
            "text/html": [
              "\n",
              "  <div id=\"df-d74ec548-d228-40f4-9cd7-eefac5b7d88a\">\n",
              "    <div class=\"colab-df-container\">\n",
              "      <div>\n",
              "<style scoped>\n",
              "    .dataframe tbody tr th:only-of-type {\n",
              "        vertical-align: middle;\n",
              "    }\n",
              "\n",
              "    .dataframe tbody tr th {\n",
              "        vertical-align: top;\n",
              "    }\n",
              "\n",
              "    .dataframe thead th {\n",
              "        text-align: right;\n",
              "    }\n",
              "</style>\n",
              "<table border=\"1\" class=\"dataframe\">\n",
              "  <thead>\n",
              "    <tr style=\"text-align: right;\">\n",
              "      <th></th>\n",
              "      <th>İşlemci Tipi</th>\n",
              "      <th>Ekran Kartı</th>\n",
              "      <th>Garanti Tipi</th>\n",
              "      <th>İşletim Sistemi</th>\n",
              "      <th>Kullanım Amacı</th>\n",
              "      <th>Ekran Kartı Tipi</th>\n",
              "      <th>Ram (Sistem Belleği) Tipi</th>\n",
              "      <th>Cihaz Ağırlığı</th>\n",
              "      <th>Renk</th>\n",
              "      <th>Klavye</th>\n",
              "      <th>Ekran Kartı Bellek Tipi</th>\n",
              "      <th>İşlemci Nesli</th>\n",
              "      <th>Çözünürlük Standartı</th>\n",
              "      <th>İşlemci Modeli</th>\n",
              "      <th>Çözünürlük</th>\n",
              "      <th>Bağlantılar</th>\n",
              "      <th>Panel Tipi</th>\n",
              "      <th>Şarjlı Kullanım Süresi</th>\n",
              "      <th>Görüntü Kalitesi</th>\n",
              "      <th>Ürün Fiyatı</th>\n",
              "    </tr>\n",
              "  </thead>\n",
              "  <tbody>\n",
              "    <tr>\n",
              "      <th>0</th>\n",
              "      <td>15</td>\n",
              "      <td>69</td>\n",
              "      <td>0</td>\n",
              "      <td>4</td>\n",
              "      <td>1</td>\n",
              "      <td>0</td>\n",
              "      <td>2</td>\n",
              "      <td>1</td>\n",
              "      <td>9</td>\n",
              "      <td>5</td>\n",
              "      <td>7</td>\n",
              "      <td>2</td>\n",
              "      <td>1</td>\n",
              "      <td>29</td>\n",
              "      <td>2</td>\n",
              "      <td>3</td>\n",
              "      <td>4</td>\n",
              "      <td>3</td>\n",
              "      <td>2</td>\n",
              "      <td>14788.0</td>\n",
              "    </tr>\n",
              "    <tr>\n",
              "      <th>1</th>\n",
              "      <td>14</td>\n",
              "      <td>42</td>\n",
              "      <td>0</td>\n",
              "      <td>5</td>\n",
              "      <td>0</td>\n",
              "      <td>1</td>\n",
              "      <td>2</td>\n",
              "      <td>0</td>\n",
              "      <td>9</td>\n",
              "      <td>5</td>\n",
              "      <td>7</td>\n",
              "      <td>2</td>\n",
              "      <td>1</td>\n",
              "      <td>26</td>\n",
              "      <td>2</td>\n",
              "      <td>3</td>\n",
              "      <td>4</td>\n",
              "      <td>3</td>\n",
              "      <td>2</td>\n",
              "      <td>11009.0</td>\n",
              "    </tr>\n",
              "    <tr>\n",
              "      <th>2</th>\n",
              "      <td>14</td>\n",
              "      <td>18</td>\n",
              "      <td>0</td>\n",
              "      <td>5</td>\n",
              "      <td>1</td>\n",
              "      <td>0</td>\n",
              "      <td>2</td>\n",
              "      <td>1</td>\n",
              "      <td>4</td>\n",
              "      <td>5</td>\n",
              "      <td>4</td>\n",
              "      <td>2</td>\n",
              "      <td>1</td>\n",
              "      <td>26</td>\n",
              "      <td>2</td>\n",
              "      <td>0</td>\n",
              "      <td>3</td>\n",
              "      <td>1</td>\n",
              "      <td>2</td>\n",
              "      <td>9000.0</td>\n",
              "    </tr>\n",
              "    <tr>\n",
              "      <th>3</th>\n",
              "      <td>12</td>\n",
              "      <td>69</td>\n",
              "      <td>0</td>\n",
              "      <td>5</td>\n",
              "      <td>1</td>\n",
              "      <td>0</td>\n",
              "      <td>2</td>\n",
              "      <td>1</td>\n",
              "      <td>3</td>\n",
              "      <td>5</td>\n",
              "      <td>10</td>\n",
              "      <td>12</td>\n",
              "      <td>2</td>\n",
              "      <td>89</td>\n",
              "      <td>1</td>\n",
              "      <td>3</td>\n",
              "      <td>4</td>\n",
              "      <td>3</td>\n",
              "      <td>2</td>\n",
              "      <td>2499.0</td>\n",
              "    </tr>\n",
              "    <tr>\n",
              "      <th>4</th>\n",
              "      <td>19</td>\n",
              "      <td>11</td>\n",
              "      <td>2</td>\n",
              "      <td>5</td>\n",
              "      <td>1</td>\n",
              "      <td>0</td>\n",
              "      <td>5</td>\n",
              "      <td>1</td>\n",
              "      <td>3</td>\n",
              "      <td>5</td>\n",
              "      <td>4</td>\n",
              "      <td>1</td>\n",
              "      <td>2</td>\n",
              "      <td>43</td>\n",
              "      <td>7</td>\n",
              "      <td>3</td>\n",
              "      <td>4</td>\n",
              "      <td>3</td>\n",
              "      <td>2</td>\n",
              "      <td>5800.0</td>\n",
              "    </tr>\n",
              "    <tr>\n",
              "      <th>...</th>\n",
              "      <td>...</td>\n",
              "      <td>...</td>\n",
              "      <td>...</td>\n",
              "      <td>...</td>\n",
              "      <td>...</td>\n",
              "      <td>...</td>\n",
              "      <td>...</td>\n",
              "      <td>...</td>\n",
              "      <td>...</td>\n",
              "      <td>...</td>\n",
              "      <td>...</td>\n",
              "      <td>...</td>\n",
              "      <td>...</td>\n",
              "      <td>...</td>\n",
              "      <td>...</td>\n",
              "      <td>...</td>\n",
              "      <td>...</td>\n",
              "      <td>...</td>\n",
              "      <td>...</td>\n",
              "      <td>...</td>\n",
              "    </tr>\n",
              "    <tr>\n",
              "      <th>11995</th>\n",
              "      <td>14</td>\n",
              "      <td>39</td>\n",
              "      <td>0</td>\n",
              "      <td>5</td>\n",
              "      <td>1</td>\n",
              "      <td>1</td>\n",
              "      <td>2</td>\n",
              "      <td>0</td>\n",
              "      <td>12</td>\n",
              "      <td>5</td>\n",
              "      <td>7</td>\n",
              "      <td>1</td>\n",
              "      <td>1</td>\n",
              "      <td>6</td>\n",
              "      <td>2</td>\n",
              "      <td>3</td>\n",
              "      <td>4</td>\n",
              "      <td>3</td>\n",
              "      <td>2</td>\n",
              "      <td>8778.0</td>\n",
              "    </tr>\n",
              "    <tr>\n",
              "      <th>11996</th>\n",
              "      <td>7</td>\n",
              "      <td>4</td>\n",
              "      <td>0</td>\n",
              "      <td>5</td>\n",
              "      <td>4</td>\n",
              "      <td>0</td>\n",
              "      <td>2</td>\n",
              "      <td>1</td>\n",
              "      <td>13</td>\n",
              "      <td>5</td>\n",
              "      <td>4</td>\n",
              "      <td>11</td>\n",
              "      <td>1</td>\n",
              "      <td>95</td>\n",
              "      <td>7</td>\n",
              "      <td>3</td>\n",
              "      <td>4</td>\n",
              "      <td>3</td>\n",
              "      <td>2</td>\n",
              "      <td>10449.0</td>\n",
              "    </tr>\n",
              "    <tr>\n",
              "      <th>11997</th>\n",
              "      <td>19</td>\n",
              "      <td>69</td>\n",
              "      <td>0</td>\n",
              "      <td>5</td>\n",
              "      <td>0</td>\n",
              "      <td>0</td>\n",
              "      <td>5</td>\n",
              "      <td>0</td>\n",
              "      <td>3</td>\n",
              "      <td>5</td>\n",
              "      <td>0</td>\n",
              "      <td>12</td>\n",
              "      <td>1</td>\n",
              "      <td>45</td>\n",
              "      <td>7</td>\n",
              "      <td>1</td>\n",
              "      <td>4</td>\n",
              "      <td>3</td>\n",
              "      <td>2</td>\n",
              "      <td>6999.0</td>\n",
              "    </tr>\n",
              "    <tr>\n",
              "      <th>11998</th>\n",
              "      <td>15</td>\n",
              "      <td>54</td>\n",
              "      <td>0</td>\n",
              "      <td>1</td>\n",
              "      <td>2</td>\n",
              "      <td>1</td>\n",
              "      <td>5</td>\n",
              "      <td>0</td>\n",
              "      <td>13</td>\n",
              "      <td>4</td>\n",
              "      <td>9</td>\n",
              "      <td>12</td>\n",
              "      <td>1</td>\n",
              "      <td>31</td>\n",
              "      <td>7</td>\n",
              "      <td>0</td>\n",
              "      <td>4</td>\n",
              "      <td>0</td>\n",
              "      <td>0</td>\n",
              "      <td>16899.0</td>\n",
              "    </tr>\n",
              "    <tr>\n",
              "      <th>11999</th>\n",
              "      <td>8</td>\n",
              "      <td>2</td>\n",
              "      <td>0</td>\n",
              "      <td>1</td>\n",
              "      <td>1</td>\n",
              "      <td>0</td>\n",
              "      <td>5</td>\n",
              "      <td>1</td>\n",
              "      <td>9</td>\n",
              "      <td>0</td>\n",
              "      <td>10</td>\n",
              "      <td>12</td>\n",
              "      <td>1</td>\n",
              "      <td>62</td>\n",
              "      <td>7</td>\n",
              "      <td>3</td>\n",
              "      <td>4</td>\n",
              "      <td>3</td>\n",
              "      <td>2</td>\n",
              "      <td>12907.0</td>\n",
              "    </tr>\n",
              "  </tbody>\n",
              "</table>\n",
              "<p>12000 rows × 20 columns</p>\n",
              "</div>\n",
              "      <button class=\"colab-df-convert\" onclick=\"convertToInteractive('df-d74ec548-d228-40f4-9cd7-eefac5b7d88a')\"\n",
              "              title=\"Convert this dataframe to an interactive table.\"\n",
              "              style=\"display:none;\">\n",
              "        \n",
              "  <svg xmlns=\"http://www.w3.org/2000/svg\" height=\"24px\"viewBox=\"0 0 24 24\"\n",
              "       width=\"24px\">\n",
              "    <path d=\"M0 0h24v24H0V0z\" fill=\"none\"/>\n",
              "    <path d=\"M18.56 5.44l.94 2.06.94-2.06 2.06-.94-2.06-.94-.94-2.06-.94 2.06-2.06.94zm-11 1L8.5 8.5l.94-2.06 2.06-.94-2.06-.94L8.5 2.5l-.94 2.06-2.06.94zm10 10l.94 2.06.94-2.06 2.06-.94-2.06-.94-.94-2.06-.94 2.06-2.06.94z\"/><path d=\"M17.41 7.96l-1.37-1.37c-.4-.4-.92-.59-1.43-.59-.52 0-1.04.2-1.43.59L10.3 9.45l-7.72 7.72c-.78.78-.78 2.05 0 2.83L4 21.41c.39.39.9.59 1.41.59.51 0 1.02-.2 1.41-.59l7.78-7.78 2.81-2.81c.8-.78.8-2.07 0-2.86zM5.41 20L4 18.59l7.72-7.72 1.47 1.35L5.41 20z\"/>\n",
              "  </svg>\n",
              "      </button>\n",
              "      \n",
              "  <style>\n",
              "    .colab-df-container {\n",
              "      display:flex;\n",
              "      flex-wrap:wrap;\n",
              "      gap: 12px;\n",
              "    }\n",
              "\n",
              "    .colab-df-convert {\n",
              "      background-color: #E8F0FE;\n",
              "      border: none;\n",
              "      border-radius: 50%;\n",
              "      cursor: pointer;\n",
              "      display: none;\n",
              "      fill: #1967D2;\n",
              "      height: 32px;\n",
              "      padding: 0 0 0 0;\n",
              "      width: 32px;\n",
              "    }\n",
              "\n",
              "    .colab-df-convert:hover {\n",
              "      background-color: #E2EBFA;\n",
              "      box-shadow: 0px 1px 2px rgba(60, 64, 67, 0.3), 0px 1px 3px 1px rgba(60, 64, 67, 0.15);\n",
              "      fill: #174EA6;\n",
              "    }\n",
              "\n",
              "    [theme=dark] .colab-df-convert {\n",
              "      background-color: #3B4455;\n",
              "      fill: #D2E3FC;\n",
              "    }\n",
              "\n",
              "    [theme=dark] .colab-df-convert:hover {\n",
              "      background-color: #434B5C;\n",
              "      box-shadow: 0px 1px 3px 1px rgba(0, 0, 0, 0.15);\n",
              "      filter: drop-shadow(0px 1px 2px rgba(0, 0, 0, 0.3));\n",
              "      fill: #FFFFFF;\n",
              "    }\n",
              "  </style>\n",
              "\n",
              "      <script>\n",
              "        const buttonEl =\n",
              "          document.querySelector('#df-d74ec548-d228-40f4-9cd7-eefac5b7d88a button.colab-df-convert');\n",
              "        buttonEl.style.display =\n",
              "          google.colab.kernel.accessAllowed ? 'block' : 'none';\n",
              "\n",
              "        async function convertToInteractive(key) {\n",
              "          const element = document.querySelector('#df-d74ec548-d228-40f4-9cd7-eefac5b7d88a');\n",
              "          const dataTable =\n",
              "            await google.colab.kernel.invokeFunction('convertToInteractive',\n",
              "                                                     [key], {});\n",
              "          if (!dataTable) return;\n",
              "\n",
              "          const docLinkHtml = 'Like what you see? Visit the ' +\n",
              "            '<a target=\"_blank\" href=https://colab.research.google.com/notebooks/data_table.ipynb>data table notebook</a>'\n",
              "            + ' to learn more about interactive tables.';\n",
              "          element.innerHTML = '';\n",
              "          dataTable['output_type'] = 'display_data';\n",
              "          await google.colab.output.renderOutput(dataTable, element);\n",
              "          const docLink = document.createElement('div');\n",
              "          docLink.innerHTML = docLinkHtml;\n",
              "          element.appendChild(docLink);\n",
              "        }\n",
              "      </script>\n",
              "    </div>\n",
              "  </div>\n",
              "  "
            ],
            "text/plain": [
              "       İşlemci Tipi  Ekran Kartı  ...  Görüntü Kalitesi  Ürün Fiyatı\n",
              "0                15           69  ...                 2      14788.0\n",
              "1                14           42  ...                 2      11009.0\n",
              "2                14           18  ...                 2       9000.0\n",
              "3                12           69  ...                 2       2499.0\n",
              "4                19           11  ...                 2       5800.0\n",
              "...             ...          ...  ...               ...          ...\n",
              "11995            14           39  ...                 2       8778.0\n",
              "11996             7            4  ...                 2      10449.0\n",
              "11997            19           69  ...                 2       6999.0\n",
              "11998            15           54  ...                 0      16899.0\n",
              "11999             8            2  ...                 2      12907.0\n",
              "\n",
              "[12000 rows x 20 columns]"
            ]
          },
          "metadata": {},
          "execution_count": 179
        }
      ]
    },
    {
      "cell_type": "markdown",
      "source": [
        "#All feature"
      ],
      "metadata": {
        "id": "gNCgz0WTmO2i"
      }
    },
    {
      "cell_type": "markdown",
      "source": [
        "##Linear Regression"
      ],
      "metadata": {
        "id": "LbIhnWVYmVmV"
      }
    },
    {
      "cell_type": "code",
      "source": [
        "X = df.drop([ 'Ürün Fiyatı'], axis = 1)\n",
        "y = df['Ürün Fiyatı']"
      ],
      "metadata": {
        "id": "nv9-ib1PnHLF"
      },
      "execution_count": null,
      "outputs": []
    },
    {
      "cell_type": "code",
      "source": [
        "from sklearn.model_selection import train_test_split\n",
        "X_train, X_test, y_train, y_test = train_test_split(X,y, test_size = 0.3, random_state = 4)"
      ],
      "metadata": {
        "id": "8esXHOYGnUeu"
      },
      "execution_count": null,
      "outputs": []
    },
    {
      "cell_type": "code",
      "source": [
        "# Import library for Linear Regression\n",
        "from sklearn.linear_model import LinearRegression\n",
        "\n",
        "# Create a Linear regressor\n",
        "lm = LinearRegression()\n",
        "\n",
        "# Train the model using the training sets \n",
        "lm.fit(X_train, y_train)"
      ],
      "metadata": {
        "colab": {
          "base_uri": "https://localhost:8080/"
        },
        "id": "YxiU8G55nXfU",
        "outputId": "42977248-180c-4fc6-bc3b-507879bc8f1b"
      },
      "execution_count": null,
      "outputs": [
        {
          "output_type": "execute_result",
          "data": {
            "text/plain": [
              "LinearRegression()"
            ]
          },
          "metadata": {},
          "execution_count": 44
        }
      ]
    },
    {
      "cell_type": "code",
      "source": [
        "# Value of y intercept\n",
        "lm.intercept_"
      ],
      "metadata": {
        "colab": {
          "base_uri": "https://localhost:8080/"
        },
        "id": "myqHVmrTnZyN",
        "outputId": "f8535785-ff22-48f5-ff4b-d3877afe516f"
      },
      "execution_count": null,
      "outputs": [
        {
          "output_type": "execute_result",
          "data": {
            "text/plain": [
              "-3730.691075719027"
            ]
          },
          "metadata": {},
          "execution_count": 45
        }
      ]
    },
    {
      "cell_type": "code",
      "source": [
        "#Converting the coefficient values to a dataframe\n",
        "coeffcients = pd.DataFrame([X_train.columns,lm.coef_]).T\n",
        "coeffcients = coeffcients.rename(columns={0: 'Attribute', 1: 'Coefficients'})\n",
        "coeffcients"
      ],
      "metadata": {
        "colab": {
          "base_uri": "https://localhost:8080/",
          "height": 645
        },
        "id": "Fk0rvBl7nbbR",
        "outputId": "43f9657b-578d-4b86-f4a7-c3e00e71097a"
      },
      "execution_count": null,
      "outputs": [
        {
          "output_type": "execute_result",
          "data": {
            "text/html": [
              "\n",
              "  <div id=\"df-8c0f18d6-f0db-4c51-8d0a-cbaae2b16220\">\n",
              "    <div class=\"colab-df-container\">\n",
              "      <div>\n",
              "<style scoped>\n",
              "    .dataframe tbody tr th:only-of-type {\n",
              "        vertical-align: middle;\n",
              "    }\n",
              "\n",
              "    .dataframe tbody tr th {\n",
              "        vertical-align: top;\n",
              "    }\n",
              "\n",
              "    .dataframe thead th {\n",
              "        text-align: right;\n",
              "    }\n",
              "</style>\n",
              "<table border=\"1\" class=\"dataframe\">\n",
              "  <thead>\n",
              "    <tr style=\"text-align: right;\">\n",
              "      <th></th>\n",
              "      <th>Attribute</th>\n",
              "      <th>Coefficients</th>\n",
              "    </tr>\n",
              "  </thead>\n",
              "  <tbody>\n",
              "    <tr>\n",
              "      <th>0</th>\n",
              "      <td>İşlemci Tipi</td>\n",
              "      <td>663.955</td>\n",
              "    </tr>\n",
              "    <tr>\n",
              "      <th>1</th>\n",
              "      <td>Ekran Kartı</td>\n",
              "      <td>59.2659</td>\n",
              "    </tr>\n",
              "    <tr>\n",
              "      <th>2</th>\n",
              "      <td>Garanti Tipi</td>\n",
              "      <td>-1134.97</td>\n",
              "    </tr>\n",
              "    <tr>\n",
              "      <th>3</th>\n",
              "      <td>İşletim Sistemi</td>\n",
              "      <td>55.049</td>\n",
              "    </tr>\n",
              "    <tr>\n",
              "      <th>4</th>\n",
              "      <td>Kullanım Amacı</td>\n",
              "      <td>-1130.8</td>\n",
              "    </tr>\n",
              "    <tr>\n",
              "      <th>5</th>\n",
              "      <td>Ekran Kartı Tipi</td>\n",
              "      <td>4557.43</td>\n",
              "    </tr>\n",
              "    <tr>\n",
              "      <th>6</th>\n",
              "      <td>Ram (Sistem Belleği) Tipi</td>\n",
              "      <td>4.25777</td>\n",
              "    </tr>\n",
              "    <tr>\n",
              "      <th>7</th>\n",
              "      <td>Cihaz Ağırlığı</td>\n",
              "      <td>-1469.87</td>\n",
              "    </tr>\n",
              "    <tr>\n",
              "      <th>8</th>\n",
              "      <td>Renk</td>\n",
              "      <td>169.961</td>\n",
              "    </tr>\n",
              "    <tr>\n",
              "      <th>9</th>\n",
              "      <td>Klavye</td>\n",
              "      <td>-1047.22</td>\n",
              "    </tr>\n",
              "    <tr>\n",
              "      <th>10</th>\n",
              "      <td>Ekran Kartı Bellek Tipi</td>\n",
              "      <td>1362.66</td>\n",
              "    </tr>\n",
              "    <tr>\n",
              "      <th>11</th>\n",
              "      <td>İşlemci Nesli</td>\n",
              "      <td>-344.373</td>\n",
              "    </tr>\n",
              "    <tr>\n",
              "      <th>12</th>\n",
              "      <td>Çözünürlük Standartı</td>\n",
              "      <td>1404.03</td>\n",
              "    </tr>\n",
              "    <tr>\n",
              "      <th>13</th>\n",
              "      <td>İşlemci Modeli</td>\n",
              "      <td>31.5218</td>\n",
              "    </tr>\n",
              "    <tr>\n",
              "      <th>14</th>\n",
              "      <td>Çözünürlük</td>\n",
              "      <td>630.284</td>\n",
              "    </tr>\n",
              "    <tr>\n",
              "      <th>15</th>\n",
              "      <td>Bağlantılar</td>\n",
              "      <td>288.579</td>\n",
              "    </tr>\n",
              "    <tr>\n",
              "      <th>16</th>\n",
              "      <td>Panel Tipi</td>\n",
              "      <td>-2016.9</td>\n",
              "    </tr>\n",
              "    <tr>\n",
              "      <th>17</th>\n",
              "      <td>Şarjlı Kullanım Süresi</td>\n",
              "      <td>416.412</td>\n",
              "    </tr>\n",
              "    <tr>\n",
              "      <th>18</th>\n",
              "      <td>Görüntü Kalitesi</td>\n",
              "      <td>2546.35</td>\n",
              "    </tr>\n",
              "  </tbody>\n",
              "</table>\n",
              "</div>\n",
              "      <button class=\"colab-df-convert\" onclick=\"convertToInteractive('df-8c0f18d6-f0db-4c51-8d0a-cbaae2b16220')\"\n",
              "              title=\"Convert this dataframe to an interactive table.\"\n",
              "              style=\"display:none;\">\n",
              "        \n",
              "  <svg xmlns=\"http://www.w3.org/2000/svg\" height=\"24px\"viewBox=\"0 0 24 24\"\n",
              "       width=\"24px\">\n",
              "    <path d=\"M0 0h24v24H0V0z\" fill=\"none\"/>\n",
              "    <path d=\"M18.56 5.44l.94 2.06.94-2.06 2.06-.94-2.06-.94-.94-2.06-.94 2.06-2.06.94zm-11 1L8.5 8.5l.94-2.06 2.06-.94-2.06-.94L8.5 2.5l-.94 2.06-2.06.94zm10 10l.94 2.06.94-2.06 2.06-.94-2.06-.94-.94-2.06-.94 2.06-2.06.94z\"/><path d=\"M17.41 7.96l-1.37-1.37c-.4-.4-.92-.59-1.43-.59-.52 0-1.04.2-1.43.59L10.3 9.45l-7.72 7.72c-.78.78-.78 2.05 0 2.83L4 21.41c.39.39.9.59 1.41.59.51 0 1.02-.2 1.41-.59l7.78-7.78 2.81-2.81c.8-.78.8-2.07 0-2.86zM5.41 20L4 18.59l7.72-7.72 1.47 1.35L5.41 20z\"/>\n",
              "  </svg>\n",
              "      </button>\n",
              "      \n",
              "  <style>\n",
              "    .colab-df-container {\n",
              "      display:flex;\n",
              "      flex-wrap:wrap;\n",
              "      gap: 12px;\n",
              "    }\n",
              "\n",
              "    .colab-df-convert {\n",
              "      background-color: #E8F0FE;\n",
              "      border: none;\n",
              "      border-radius: 50%;\n",
              "      cursor: pointer;\n",
              "      display: none;\n",
              "      fill: #1967D2;\n",
              "      height: 32px;\n",
              "      padding: 0 0 0 0;\n",
              "      width: 32px;\n",
              "    }\n",
              "\n",
              "    .colab-df-convert:hover {\n",
              "      background-color: #E2EBFA;\n",
              "      box-shadow: 0px 1px 2px rgba(60, 64, 67, 0.3), 0px 1px 3px 1px rgba(60, 64, 67, 0.15);\n",
              "      fill: #174EA6;\n",
              "    }\n",
              "\n",
              "    [theme=dark] .colab-df-convert {\n",
              "      background-color: #3B4455;\n",
              "      fill: #D2E3FC;\n",
              "    }\n",
              "\n",
              "    [theme=dark] .colab-df-convert:hover {\n",
              "      background-color: #434B5C;\n",
              "      box-shadow: 0px 1px 3px 1px rgba(0, 0, 0, 0.15);\n",
              "      filter: drop-shadow(0px 1px 2px rgba(0, 0, 0, 0.3));\n",
              "      fill: #FFFFFF;\n",
              "    }\n",
              "  </style>\n",
              "\n",
              "      <script>\n",
              "        const buttonEl =\n",
              "          document.querySelector('#df-8c0f18d6-f0db-4c51-8d0a-cbaae2b16220 button.colab-df-convert');\n",
              "        buttonEl.style.display =\n",
              "          google.colab.kernel.accessAllowed ? 'block' : 'none';\n",
              "\n",
              "        async function convertToInteractive(key) {\n",
              "          const element = document.querySelector('#df-8c0f18d6-f0db-4c51-8d0a-cbaae2b16220');\n",
              "          const dataTable =\n",
              "            await google.colab.kernel.invokeFunction('convertToInteractive',\n",
              "                                                     [key], {});\n",
              "          if (!dataTable) return;\n",
              "\n",
              "          const docLinkHtml = 'Like what you see? Visit the ' +\n",
              "            '<a target=\"_blank\" href=https://colab.research.google.com/notebooks/data_table.ipynb>data table notebook</a>'\n",
              "            + ' to learn more about interactive tables.';\n",
              "          element.innerHTML = '';\n",
              "          dataTable['output_type'] = 'display_data';\n",
              "          await google.colab.output.renderOutput(dataTable, element);\n",
              "          const docLink = document.createElement('div');\n",
              "          docLink.innerHTML = docLinkHtml;\n",
              "          element.appendChild(docLink);\n",
              "        }\n",
              "      </script>\n",
              "    </div>\n",
              "  </div>\n",
              "  "
            ],
            "text/plain": [
              "                    Attribute Coefficients\n",
              "0                İşlemci Tipi      663.955\n",
              "1                 Ekran Kartı      59.2659\n",
              "2                Garanti Tipi     -1134.97\n",
              "3             İşletim Sistemi       55.049\n",
              "4              Kullanım Amacı      -1130.8\n",
              "5            Ekran Kartı Tipi      4557.43\n",
              "6   Ram (Sistem Belleği) Tipi      4.25777\n",
              "7              Cihaz Ağırlığı     -1469.87\n",
              "8                        Renk      169.961\n",
              "9                      Klavye     -1047.22\n",
              "10    Ekran Kartı Bellek Tipi      1362.66\n",
              "11              İşlemci Nesli     -344.373\n",
              "12       Çözünürlük Standartı      1404.03\n",
              "13             İşlemci Modeli      31.5218\n",
              "14                 Çözünürlük      630.284\n",
              "15                Bağlantılar      288.579\n",
              "16                 Panel Tipi      -2016.9\n",
              "17     Şarjlı Kullanım Süresi      416.412\n",
              "18           Görüntü Kalitesi      2546.35"
            ]
          },
          "metadata": {},
          "execution_count": 46
        }
      ]
    },
    {
      "cell_type": "code",
      "source": [
        "# Model prediction on test data\n",
        "y_pred = lm.predict(X_test)"
      ],
      "metadata": {
        "id": "gSdfffPPnd2p"
      },
      "execution_count": null,
      "outputs": []
    },
    {
      "cell_type": "code",
      "source": [
        "from sklearn import metrics\n",
        "print('R^2:',metrics.r2_score(y_test, y_pred))\n",
        "print('Adjusted R^2:',1 - (1-metrics.r2_score(y_test, y_pred))*(len(y_test)-1)/(len(y_test)-X_test.shape[1]-1))\n",
        "print('MAE:',metrics.mean_absolute_error(y_test, y_pred))\n",
        "print('MSE:',metrics.mean_squared_error(y_test, y_pred))\n",
        "print('RMSE:',np.sqrt(metrics.mean_squared_error(y_test, y_pred)))"
      ],
      "metadata": {
        "colab": {
          "base_uri": "https://localhost:8080/"
        },
        "id": "MpKs9V3WniN4",
        "outputId": "4abf19f7-c11c-462e-e8af-7dd072631f47"
      },
      "execution_count": null,
      "outputs": [
        {
          "output_type": "stream",
          "name": "stdout",
          "text": [
            "R^2: 0.5865319556010575\n",
            "Adjusted R^2: 0.5843375721251972\n",
            "MAE: 3908.6192454501415\n",
            "MSE: 38485938.85342258\n",
            "RMSE: 6203.703640038149\n"
          ]
        }
      ]
    },
    {
      "cell_type": "code",
      "source": [
        "# Visualizing the differences between actual prices and predicted values\n",
        "plt.scatter(y_test, y_pred)\n",
        "plt.xlabel(\"Prices\")\n",
        "plt.ylabel(\"Predicted prices\")\n",
        "plt.title(\"Prices vs Predicted prices\")\n",
        "plt.show()"
      ],
      "metadata": {
        "colab": {
          "base_uri": "https://localhost:8080/",
          "height": 295
        },
        "id": "qAdR5x_9nnn4",
        "outputId": "137480b1-0919-459f-8210-90005981ec3f"
      },
      "execution_count": null,
      "outputs": [
        {
          "output_type": "display_data",
          "data": {
            "image/png": "[encoded data removed]",
            "text/plain": [
              "<Figure size 432x288 with 1 Axes>"
            ]
          },
          "metadata": {
            "needs_background": "light"
          }
        }
      ]
    },
    {
      "cell_type": "code",
      "source": [
        "# Checking residuals\n",
        "plt.scatter(y_pred,y_test-y_pred)\n",
        "plt.title(\"Predicted vs residuals\")\n",
        "plt.xlabel(\"Predicted\")\n",
        "plt.ylabel(\"Residuals\")\n",
        "plt.show()"
      ],
      "metadata": {
        "colab": {
          "base_uri": "https://localhost:8080/",
          "height": 295
        },
        "id": "WlkrRl3Onq9A",
        "outputId": "9c6071c3-9b21-40ee-f061-6057f17fe0e1"
      },
      "execution_count": null,
      "outputs": [
        {
          "output_type": "display_data",
          "data": {
            "image/png": "[encoded data removed]",
            "text/plain": [
              "<Figure size 432x288 with 1 Axes>"
            ]
          },
          "metadata": {
            "needs_background": "light"
          }
        }
      ]
    },
    {
      "cell_type": "code",
      "source": [
        "import seaborn as sns\n",
        "# Checking Normality of errors\n",
        "sns.distplot(y_test-y_pred)\n",
        "plt.title(\"Histogram of Residuals\")\n",
        "plt.xlabel(\"Residuals\")\n",
        "plt.ylabel(\"Frequency\")\n",
        "plt.show()"
      ],
      "metadata": {
        "colab": {
          "base_uri": "https://localhost:8080/",
          "height": 352
        },
        "id": "5jIZOdtVnvpY",
        "outputId": "0d72d3e8-6759-4cc5-9d3f-5651125a1451"
      },
      "execution_count": null,
      "outputs": [
        {
          "output_type": "stream",
          "name": "stderr",
          "text": [
            "/usr/local/lib/python3.7/dist-packages/seaborn/distributions.py:2619: FutureWarning: `distplot` is a deprecated function and will be removed in a future version. Please adapt your code to use either `displot` (a figure-level function with similar flexibility) or `histplot` (an axes-level function for histograms).\n",
            "  warnings.warn(msg, FutureWarning)\n"
          ]
        },
        {
          "output_type": "display_data",
          "data": {
            "image/png": "[encoded data removed]",
            "text/plain": [
              "<Figure size 432x288 with 1 Axes>"
            ]
          },
          "metadata": {
            "needs_background": "light"
          }
        }
      ]
    },
    {
      "cell_type": "markdown",
      "source": [
        "###For the train data"
      ],
      "metadata": {
        "id": "nLFCp2Uqn27V"
      }
    },
    {
      "cell_type": "code",
      "source": [
        "# Predicting Train data with the model\n",
        "y_train_pred = lm.predict(X_train)"
      ],
      "metadata": {
        "id": "DExm82N7nxKA"
      },
      "execution_count": null,
      "outputs": []
    },
    {
      "cell_type": "code",
      "source": [
        "# Model Evaluation\n",
        "acc_linreg = metrics.r2_score(y_train, y_train_pred)\n",
        "print('R^2:', acc_linreg)\n",
        "print('Adjusted R^2:',1 - (1-metrics.r2_score(y_train, y_train_pred))*(len(y_train)-1)/(len(y_train)-X_test.shape[1]-1))\n",
        "print('MAE:',metrics.mean_absolute_error(y_train, y_train_pred))\n",
        "print('MSE:',metrics.mean_squared_error(y_train, y_train_pred))\n",
        "print('RMSE:',np.sqrt(metrics.mean_squared_error(y_train, y_train_pred)))"
      ],
      "metadata": {
        "colab": {
          "base_uri": "https://localhost:8080/"
        },
        "id": "fgU5rhxVoHuF",
        "outputId": "8a425734-3d02-4589-95e4-9b04891aa0f1"
      },
      "execution_count": null,
      "outputs": [
        {
          "output_type": "stream",
          "name": "stdout",
          "text": [
            "R^2: 0.5882699539581795\n",
            "Adjusted R^2: 0.5873364371473448\n",
            "MAE: 3871.7228639227\n",
            "MSE: 34727155.46756417\n",
            "RMSE: 5892.975094768701\n"
          ]
        }
      ]
    },
    {
      "cell_type": "markdown",
      "source": [
        "### Yüzdelik hata oranı"
      ],
      "metadata": {
        "id": "JCr5bg-coNpk"
      }
    },
    {
      "cell_type": "code",
      "source": [
        "y_test = y_test.values.reshape(3600,1) \n",
        "y_test"
      ],
      "metadata": {
        "colab": {
          "base_uri": "https://localhost:8080/"
        },
        "id": "wL_JsnneoPs0",
        "outputId": "eec7df67-622d-483b-807e-08b8bf0fadd0"
      },
      "execution_count": null,
      "outputs": [
        {
          "output_type": "execute_result",
          "data": {
            "text/plain": [
              "array([[ 4789.  ],\n",
              "       [ 6919.99],\n",
              "       [ 8778.  ],\n",
              "       ...,\n",
              "       [19299.  ],\n",
              "       [ 9239.  ],\n",
              "       [11899.  ]])"
            ]
          },
          "metadata": {},
          "execution_count": 54
        }
      ]
    },
    {
      "cell_type": "code",
      "source": [
        "np.mean(np.divide(abs(y_test-y_pred),y_test))"
      ],
      "metadata": {
        "colab": {
          "base_uri": "https://localhost:8080/"
        },
        "id": "nmL-1a0UoYMc",
        "outputId": "b01ccbca-ae1e-44c0-9811-6284c84eb75f"
      },
      "execution_count": null,
      "outputs": [
        {
          "output_type": "execute_result",
          "data": {
            "text/plain": [
              "0.7375914533039316"
            ]
          },
          "metadata": {},
          "execution_count": 55
        }
      ]
    },
    {
      "cell_type": "code",
      "source": [
        "np.std(np.divide(abs(y_test-y_pred),y_test))"
      ],
      "metadata": {
        "colab": {
          "base_uri": "https://localhost:8080/"
        },
        "id": "jupmRDxxoenv",
        "outputId": "8eafc4e7-29ba-4e59-f34a-c2ba9d2ada76"
      },
      "execution_count": null,
      "outputs": [
        {
          "output_type": "execute_result",
          "data": {
            "text/plain": [
              "0.7525454522022987"
            ]
          },
          "metadata": {},
          "execution_count": 56
        }
      ]
    },
    {
      "cell_type": "markdown",
      "source": [
        "##Random Forest"
      ],
      "metadata": {
        "id": "3DCohsSamYOB"
      }
    },
    {
      "cell_type": "code",
      "source": [
        "X = df.drop([ 'Ürün Fiyatı'], axis = 1)\n",
        "y = df['Ürün Fiyatı']"
      ],
      "metadata": {
        "id": "UQVv8Uyrog4j"
      },
      "execution_count": null,
      "outputs": []
    },
    {
      "cell_type": "code",
      "source": [
        "from sklearn.model_selection import train_test_split\n",
        "X_train, X_test, y_train, y_test = train_test_split(X,y, test_size = 0.3, random_state = 4)"
      ],
      "metadata": {
        "id": "tH_STjtsomGb"
      },
      "execution_count": null,
      "outputs": []
    },
    {
      "cell_type": "code",
      "source": [
        "from sklearn.feature_selection import SelectFromModel\n",
        "# Import Random Forest Regressor\n",
        "from sklearn.ensemble import RandomForestRegressor\n",
        "\n",
        "# Create a Random Forest Regressor\n",
        "reg = RandomForestRegressor()\n",
        "\n",
        "# Train the model using the training sets \n",
        "reg.fit(X_train, y_train)"
      ],
      "metadata": {
        "colab": {
          "base_uri": "https://localhost:8080/"
        },
        "id": "FYOqXf7posH4",
        "outputId": "904767e2-fdc1-4615-abf6-23d4cf683d34"
      },
      "execution_count": null,
      "outputs": [
        {
          "output_type": "execute_result",
          "data": {
            "text/plain": [
              "RandomForestRegressor()"
            ]
          },
          "metadata": {},
          "execution_count": 59
        }
      ]
    },
    {
      "cell_type": "code",
      "source": [
        "y_pred = reg.predict(X_test)"
      ],
      "metadata": {
        "id": "DhRfvPf-o0Mf"
      },
      "execution_count": null,
      "outputs": []
    },
    {
      "cell_type": "code",
      "source": [
        "# Model Evaluation\n",
        "print('R^2:',metrics.r2_score(y_test, y_pred))\n",
        "print('Adjusted R^2:',1 - (1-metrics.r2_score(y_test, y_pred))*(len(y_test)-1)/(len(y_test)-X_train.shape[1]-1))\n",
        "print('MAE:',metrics.mean_absolute_error(y_test, y_pred))\n",
        "print('MSE:',metrics.mean_squared_error(y_test, y_pred))\n",
        "print('RMSE:',np.sqrt(metrics.mean_squared_error(y_test, y_pred)))"
      ],
      "metadata": {
        "colab": {
          "base_uri": "https://localhost:8080/"
        },
        "id": "lXQxtNnZo5U9",
        "outputId": "052c201d-44e4-4ac7-cf6e-fead0df495f8"
      },
      "execution_count": null,
      "outputs": [
        {
          "output_type": "stream",
          "name": "stdout",
          "text": [
            "R^2: 0.9308795938129177\n",
            "Adjusted R^2: 0.9305127536683494\n",
            "MAE: 652.6752284708989\n",
            "MSE: 6433783.123208118\n",
            "RMSE: 2536.4903160091344\n"
          ]
        }
      ]
    },
    {
      "cell_type": "code",
      "source": [
        "# Visualizing the differences between actual prices and predicted values\n",
        "plt.scatter(y_test, y_pred)\n",
        "plt.xlabel(\"Prices\")\n",
        "plt.ylabel(\"Predicted prices\")\n",
        "plt.title(\"Prices vs Predicted prices\")\n",
        "plt.show()"
      ],
      "metadata": {
        "colab": {
          "base_uri": "https://localhost:8080/",
          "height": 295
        },
        "id": "bshP8hJmo8nv",
        "outputId": "39445cde-372e-4578-c804-81be7869d0a4"
      },
      "execution_count": null,
      "outputs": [
        {
          "output_type": "display_data",
          "data": {
            "image/png": "[encoded data removed]",
            "text/plain": [
              "<Figure size 432x288 with 1 Axes>"
            ]
          },
          "metadata": {
            "needs_background": "light"
          }
        }
      ]
    },
    {
      "cell_type": "code",
      "source": [
        "# Checking residuals\n",
        "plt.scatter(y_pred,y_test-y_pred)\n",
        "plt.title(\"Predicted vs residuals\")\n",
        "plt.xlabel(\"Predicted\")\n",
        "plt.ylabel(\"Residuals\")\n",
        "plt.show()"
      ],
      "metadata": {
        "colab": {
          "base_uri": "https://localhost:8080/",
          "height": 295
        },
        "id": "o58RQL1GpE5D",
        "outputId": "4fe44e80-1b57-4c89-f8d0-10271b6e13b2"
      },
      "execution_count": null,
      "outputs": [
        {
          "output_type": "display_data",
          "data": {
            "image/png": "[encoded data removed]",
            "text/plain": [
              "<Figure size 432x288 with 1 Axes>"
            ]
          },
          "metadata": {
            "needs_background": "light"
          }
        }
      ]
    },
    {
      "cell_type": "markdown",
      "source": [
        "###For the train data"
      ],
      "metadata": {
        "id": "IwJQmO87pKIy"
      }
    },
    {
      "cell_type": "code",
      "source": [
        "# Predicting Train data with the model\n",
        "y_train_pred = reg.predict(X_train)"
      ],
      "metadata": {
        "id": "ewEz0TQmpM_2"
      },
      "execution_count": null,
      "outputs": []
    },
    {
      "cell_type": "code",
      "source": [
        "# Model Evaluation\n",
        "acc_rf = metrics.r2_score(y_train, y_train_pred)\n",
        "print('R^2:', acc_rf)\n",
        "print('Adjusted R^2:',1 - (1-metrics.r2_score(y_train, y_train_pred))*(len(y_train)-1)/(len(y_train)-X_train.shape[1]-1))\n",
        "print('MAE:',metrics.mean_absolute_error(y_train,y_train_pred))\n",
        "print('MSE:',metrics.mean_squared_error(y_train, y_train_pred))\n",
        "print('RMSE:',np.sqrt(metrics.mean_squared_error(y_train, y_train_pred)))"
      ],
      "metadata": {
        "colab": {
          "base_uri": "https://localhost:8080/"
        },
        "id": "FG5TSQL0pUH2",
        "outputId": "e0bb74f5-5c84-4b30-da52-dd64c6524b16"
      },
      "execution_count": null,
      "outputs": [
        {
          "output_type": "stream",
          "name": "stdout",
          "text": [
            "R^2: 0.984638791480015\n",
            "Adjusted R^2: 0.9846039629642775\n",
            "MAE: 419.02157683504663\n",
            "MSE: 1295633.1012796797\n",
            "RMSE: 1138.2588024169545\n"
          ]
        }
      ]
    },
    {
      "cell_type": "markdown",
      "source": [
        "###Yüzdelik hata oranı"
      ],
      "metadata": {
        "id": "mjk002kkpXW_"
      }
    },
    {
      "cell_type": "code",
      "source": [
        "y_test = y_test.values.reshape(3600,1) \n",
        "y_test"
      ],
      "metadata": {
        "colab": {
          "base_uri": "https://localhost:8080/"
        },
        "id": "LzTzSPlAqDc0",
        "outputId": "5ea536ea-0133-4382-ad74-d5d5a2183424"
      },
      "execution_count": null,
      "outputs": [
        {
          "output_type": "execute_result",
          "data": {
            "text/plain": [
              "array([[ 4789.  ],\n",
              "       [ 6919.99],\n",
              "       [ 8778.  ],\n",
              "       ...,\n",
              "       [19299.  ],\n",
              "       [ 9239.  ],\n",
              "       [11899.  ]])"
            ]
          },
          "metadata": {},
          "execution_count": 66
        }
      ]
    },
    {
      "cell_type": "code",
      "source": [
        "#y_test = y_test.values.reshape(3600,1) \n",
        "np.mean(np.divide(abs(y_test-y_pred),y_test))"
      ],
      "metadata": {
        "colab": {
          "base_uri": "https://localhost:8080/"
        },
        "id": "Mqq1AAQTpemn",
        "outputId": "4b1a8da1-963f-4083-bbd3-65438a9c8aec"
      },
      "execution_count": null,
      "outputs": [
        {
          "output_type": "execute_result",
          "data": {
            "text/plain": [
              "0.751424288341926"
            ]
          },
          "metadata": {},
          "execution_count": 67
        }
      ]
    },
    {
      "cell_type": "code",
      "source": [
        "np.std(np.divide(abs(y_test-y_pred),y_test))"
      ],
      "metadata": {
        "colab": {
          "base_uri": "https://localhost:8080/"
        },
        "id": "xE51tqlGqGiu",
        "outputId": "264214f0-044a-4529-ee6f-ce29f2aff668"
      },
      "execution_count": null,
      "outputs": [
        {
          "output_type": "execute_result",
          "data": {
            "text/plain": [
              "0.9474666253540264"
            ]
          },
          "metadata": {},
          "execution_count": 68
        }
      ]
    },
    {
      "cell_type": "markdown",
      "source": [
        "##XG Boost"
      ],
      "metadata": {
        "id": "3FTRtGemmaj1"
      }
    },
    {
      "cell_type": "code",
      "source": [
        "X = df.drop([ 'Ürün Fiyatı'], axis = 1)\n",
        "y = df['Ürün Fiyatı']"
      ],
      "metadata": {
        "id": "68OkQcDGqTHN"
      },
      "execution_count": null,
      "outputs": []
    },
    {
      "cell_type": "code",
      "source": [
        "from sklearn.model_selection import train_test_split\n",
        "X_train, X_test, y_train, y_test = train_test_split(X,y, test_size = 0.3, random_state = 4)"
      ],
      "metadata": {
        "id": "PGGvfq2xqXN9"
      },
      "execution_count": null,
      "outputs": []
    },
    {
      "cell_type": "code",
      "source": [
        "# Import XGBoost Regressor\n",
        "from xgboost import XGBRegressor\n",
        "\n",
        "#Create a XGBoost Regressor\n",
        "reg = XGBRegressor()\n",
        "\n",
        "# Train the model using the training sets \n",
        "reg.fit(X_train, y_train)"
      ],
      "metadata": {
        "colab": {
          "base_uri": "https://localhost:8080/"
        },
        "id": "FA8XOU-Pqawa",
        "outputId": "87d4b3be-0ff3-49d3-eb8d-647a5ba19886"
      },
      "execution_count": null,
      "outputs": [
        {
          "output_type": "stream",
          "name": "stdout",
          "text": [
            "[14:10:35] WARNING: /workspace/src/objective/regression_obj.cu:152: reg:linear is now deprecated in favor of reg:squarederror.\n"
          ]
        },
        {
          "output_type": "execute_result",
          "data": {
            "text/plain": [
              "XGBRegressor()"
            ]
          },
          "metadata": {},
          "execution_count": 71
        }
      ]
    },
    {
      "cell_type": "code",
      "source": [
        "# Model prediction on test data\n",
        "y_pred = reg.predict(X_test)"
      ],
      "metadata": {
        "id": "jAhsalOmqgeF"
      },
      "execution_count": null,
      "outputs": []
    },
    {
      "cell_type": "code",
      "source": [
        "# Model Evaluation\n",
        "print('R^2:',metrics.r2_score(y_test, y_pred))\n",
        "print('Adjusted R^2:',1 - (1-metrics.r2_score(y_test, y_pred))*(len(y_test)-1)/(len(y_test)-X_test.shape[1]-1))\n",
        "print('MAE:',metrics.mean_absolute_error(y_test, y_pred))\n",
        "print('MSE:',metrics.mean_squared_error(y_test, y_pred))\n",
        "print('RMSE:',np.sqrt(metrics.mean_squared_error(y_test, y_pred)))"
      ],
      "metadata": {
        "colab": {
          "base_uri": "https://localhost:8080/"
        },
        "id": "xR-zTkUIqhOd",
        "outputId": "5696dfd8-a5b5-4811-dfed-670639fed04d"
      },
      "execution_count": null,
      "outputs": [
        {
          "output_type": "stream",
          "name": "stdout",
          "text": [
            "R^2: 0.8963371529160239\n",
            "Adjusted R^2: 0.8957869869678129\n",
            "MAE: 1195.486813894314\n",
            "MSE: 9649021.365230815\n",
            "RMSE: 3106.2873925686295\n"
          ]
        }
      ]
    },
    {
      "cell_type": "code",
      "source": [
        "# Visualizing the differences between actual prices and predicted values\n",
        "plt.scatter(y_test, y_pred)\n",
        "plt.xlabel(\"Prices\")\n",
        "plt.ylabel(\"Predicted prices\")\n",
        "plt.title(\"Prices vs Predicted prices\")\n",
        "plt.show()"
      ],
      "metadata": {
        "colab": {
          "base_uri": "https://localhost:8080/",
          "height": 295
        },
        "id": "NoJbjxTfqrzi",
        "outputId": "45ffdf67-bb84-4b45-a977-426e49e4436f"
      },
      "execution_count": null,
      "outputs": [
        {
          "output_type": "display_data",
          "data": {
            "image/png": "[encoded data removed]",
            "text/plain": [
              "<Figure size 432x288 with 1 Axes>"
            ]
          },
          "metadata": {
            "needs_background": "light"
          }
        }
      ]
    },
    {
      "cell_type": "code",
      "source": [
        "# Checking residuals\n",
        "plt.scatter(y_pred,y_test-y_pred)\n",
        "plt.title(\"Predicted vs residuals\")\n",
        "plt.xlabel(\"Predicted\")\n",
        "plt.ylabel(\"Residuals\")\n",
        "plt.show()"
      ],
      "metadata": {
        "colab": {
          "base_uri": "https://localhost:8080/",
          "height": 295
        },
        "id": "BzWVcnBFqwzR",
        "outputId": "d964c789-e536-4634-9e0c-9093efba85fc"
      },
      "execution_count": null,
      "outputs": [
        {
          "output_type": "display_data",
          "data": {
            "image/png": "[encoded data removed]",
            "text/plain": [
              "<Figure size 432x288 with 1 Axes>"
            ]
          },
          "metadata": {
            "needs_background": "light"
          }
        }
      ]
    },
    {
      "cell_type": "markdown",
      "source": [
        "###For the train data"
      ],
      "metadata": {
        "id": "VqAY8steq2Vv"
      }
    },
    {
      "cell_type": "code",
      "source": [
        "#Predicting Train data with the model\n",
        "y_train_pred = reg.predict(X_train)"
      ],
      "metadata": {
        "id": "69zQgRRiq6GZ"
      },
      "execution_count": null,
      "outputs": []
    },
    {
      "cell_type": "code",
      "source": [
        "# Model Evaluation\n",
        "acc_xgb = metrics.r2_score(y_train, y_train_pred)\n",
        "print('R^2:', acc_xgb)\n",
        "print('Adjusted R^2:',1 - (1-metrics.r2_score(y_train,y_train_pred))*(len(y_test)-1)/(len(y_train)-X_train.shape[1]-1))\n",
        "print('MAE:',metrics.mean_absolute_error(y_train, y_train_pred))\n",
        "print('MSE:',metrics.mean_squared_error(y_train, y_train_pred))\n",
        "print('RMSE:',np.sqrt(metrics.mean_squared_error(y_train, y_train_pred)))"
      ],
      "metadata": {
        "colab": {
          "base_uri": "https://localhost:8080/"
        },
        "id": "Ey3GodnTq9LJ",
        "outputId": "0d65c947-6a87-44c1-d395-84b3aba218c8"
      },
      "execution_count": null,
      "outputs": [
        {
          "output_type": "stream",
          "name": "stdout",
          "text": [
            "R^2: 0.9289566979228441\n",
            "Adjusted R^2: 0.969488682079274\n",
            "MAE: 1090.634228622582\n",
            "MSE: 5992110.169953268\n",
            "RMSE: 2447.8787081784235\n"
          ]
        }
      ]
    },
    {
      "cell_type": "markdown",
      "source": [
        "### Yüzdelik hata oranı"
      ],
      "metadata": {
        "id": "0PEgEdQbq-HM"
      }
    },
    {
      "cell_type": "code",
      "source": [
        "y_test = y_test.values.reshape(3600,1) \n",
        "y_test"
      ],
      "metadata": {
        "colab": {
          "base_uri": "https://localhost:8080/"
        },
        "id": "Ts4FAZ7SrFZI",
        "outputId": "ba1361d3-c993-4c4c-fef5-b831c15e4090"
      },
      "execution_count": null,
      "outputs": [
        {
          "output_type": "execute_result",
          "data": {
            "text/plain": [
              "array([[ 4789.  ],\n",
              "       [ 6919.99],\n",
              "       [ 8778.  ],\n",
              "       ...,\n",
              "       [19299.  ],\n",
              "       [ 9239.  ],\n",
              "       [11899.  ]])"
            ]
          },
          "metadata": {},
          "execution_count": 78
        }
      ]
    },
    {
      "cell_type": "code",
      "source": [
        "np.mean(np.divide(abs(y_test-y_pred),y_test))"
      ],
      "metadata": {
        "colab": {
          "base_uri": "https://localhost:8080/"
        },
        "id": "wQ74-OgrrBDt",
        "outputId": "36295ded-172b-4b94-9665-3b3300418d19"
      },
      "execution_count": null,
      "outputs": [
        {
          "output_type": "execute_result",
          "data": {
            "text/plain": [
              "0.7431810801292769"
            ]
          },
          "metadata": {},
          "execution_count": 79
        }
      ]
    },
    {
      "cell_type": "code",
      "source": [
        "np.std(np.divide(abs(y_test-y_pred),y_test))"
      ],
      "metadata": {
        "colab": {
          "base_uri": "https://localhost:8080/"
        },
        "id": "2FmTGOqfrLcs",
        "outputId": "6db306a3-f59d-4f66-f17f-caefcfb3f3a2"
      },
      "execution_count": null,
      "outputs": [
        {
          "output_type": "execute_result",
          "data": {
            "text/plain": [
              "0.909676331954674"
            ]
          },
          "metadata": {},
          "execution_count": 80
        }
      ]
    },
    {
      "cell_type": "markdown",
      "source": [
        "##SVM Regressor"
      ],
      "metadata": {
        "id": "g0dL2psQmdlN"
      }
    },
    {
      "cell_type": "code",
      "source": [
        "X = df.drop([ 'Ürün Fiyatı'], axis = 1)\n",
        "y = df['Ürün Fiyatı']"
      ],
      "metadata": {
        "id": "l_TVak0wrPVB"
      },
      "execution_count": null,
      "outputs": []
    },
    {
      "cell_type": "code",
      "source": [
        "from sklearn.model_selection import train_test_split\n",
        "X_train, X_test, y_train, y_test = train_test_split(X,y, test_size = 0.3, random_state = 4)"
      ],
      "metadata": {
        "id": "JQFjEYYArP0g"
      },
      "execution_count": null,
      "outputs": []
    },
    {
      "cell_type": "code",
      "source": [
        "# Creating scaled set to be used in model to improve our results\n",
        "from sklearn.preprocessing import StandardScaler\n",
        "sc = StandardScaler()\n",
        "X_train = sc.fit_transform(X_train)\n",
        "X_test = sc.transform(X_test)"
      ],
      "metadata": {
        "id": "HVws1FMmrVMo"
      },
      "execution_count": null,
      "outputs": []
    },
    {
      "cell_type": "code",
      "source": [
        "# Import SVM Regressor\n",
        "from sklearn import svm\n",
        "\n",
        "# Create a SVM Regressor\n",
        "reg = svm.SVR()"
      ],
      "metadata": {
        "id": "_mHnEt-psmws"
      },
      "execution_count": null,
      "outputs": []
    },
    {
      "cell_type": "code",
      "source": [
        "# Train the model using the training sets \n",
        "reg.fit(X_train, y_train)"
      ],
      "metadata": {
        "colab": {
          "base_uri": "https://localhost:8080/"
        },
        "id": "YR5d58Nqserm",
        "outputId": "d52c4604-8e3b-4507-aa89-380baed9ba2b"
      },
      "execution_count": null,
      "outputs": [
        {
          "output_type": "execute_result",
          "data": {
            "text/plain": [
              "SVR()"
            ]
          },
          "metadata": {},
          "execution_count": 85
        }
      ]
    },
    {
      "cell_type": "code",
      "source": [
        "# Model prediction on test data\n",
        "y_pred = reg.predict(X_test)"
      ],
      "metadata": {
        "id": "WS3Vs_cIsjFw"
      },
      "execution_count": null,
      "outputs": []
    },
    {
      "cell_type": "code",
      "source": [
        "# Model Evaluation\n",
        "print('R^2:',metrics.r2_score(y_test, y_pred))\n",
        "print('Adjusted R^2:',1 - (1-metrics.r2_score(y_test, y_pred))*(len(y_test)-1)/(len(y_test)-X_train.shape[1]-1))\n",
        "print('MAE:',metrics.mean_absolute_error(y_test, y_pred))\n",
        "print('MSE:',metrics.mean_squared_error(y_test, y_pred))\n",
        "print('RMSE:',np.sqrt(metrics.mean_squared_error(y_test, y_pred)))"
      ],
      "metadata": {
        "colab": {
          "base_uri": "https://localhost:8080/"
        },
        "id": "uaweGPDSsoib",
        "outputId": "0e6c4ed2-22a9-4fd4-b57f-04609790df06"
      },
      "execution_count": null,
      "outputs": [
        {
          "output_type": "stream",
          "name": "stdout",
          "text": [
            "R^2: -0.004886732128183802\n",
            "Adjusted R^2: -0.010219929868528821\n",
            "MAE: 6023.2312988824\n",
            "MSE: 93535667.02723357\n",
            "RMSE: 9671.38392512848\n"
          ]
        }
      ]
    },
    {
      "cell_type": "code",
      "source": [
        "# Visualizing the differences between actual prices and predicted values\n",
        "plt.scatter(y_test, y_pred)\n",
        "plt.xlabel(\"Prices\")\n",
        "plt.ylabel(\"Predicted prices\")\n",
        "plt.title(\"Prices vs Predicted prices\")\n",
        "plt.show()"
      ],
      "metadata": {
        "colab": {
          "base_uri": "https://localhost:8080/",
          "height": 295
        },
        "id": "yTT3v7Hjwb6I",
        "outputId": "e2fc1eed-007e-4895-fdf9-bbb1bf10f870"
      },
      "execution_count": null,
      "outputs": [
        {
          "output_type": "display_data",
          "data": {
            "image/png": "[encoded data removed]",
            "text/plain": [
              "<Figure size 432x288 with 1 Axes>"
            ]
          },
          "metadata": {
            "needs_background": "light"
          }
        }
      ]
    },
    {
      "cell_type": "code",
      "source": [
        "# Checking residuals\n",
        "plt.scatter(y_pred,y_test-y_pred)\n",
        "plt.title(\"Predicted vs residuals\")\n",
        "plt.xlabel(\"Predicted\")\n",
        "plt.ylabel(\"Residuals\")\n",
        "plt.show()"
      ],
      "metadata": {
        "colab": {
          "base_uri": "https://localhost:8080/",
          "height": 295
        },
        "id": "IxXCvYzPweRH",
        "outputId": "cebee3f9-a368-458e-a2f9-c9fa7aeab053"
      },
      "execution_count": null,
      "outputs": [
        {
          "output_type": "display_data",
          "data": {
            "image/png": "[encoded data removed]",
            "text/plain": [
              "<Figure size 432x288 with 1 Axes>"
            ]
          },
          "metadata": {
            "needs_background": "light"
          }
        }
      ]
    },
    {
      "cell_type": "markdown",
      "source": [
        "###For the train data"
      ],
      "metadata": {
        "id": "gumN0WUXwjZv"
      }
    },
    {
      "cell_type": "code",
      "source": [
        "# Predicting Train data with the model\n",
        "y_train_pred = reg.predict(X_train)"
      ],
      "metadata": {
        "id": "c6Jjyg_QwkR7"
      },
      "execution_count": null,
      "outputs": []
    },
    {
      "cell_type": "code",
      "source": [
        "# Model Evaluation\n",
        "acc_svm = metrics.r2_score(y_train, y_train_pred)\n",
        "print('R^2:', acc_svm)\n",
        "print('Adjusted R^2:',1 - (1-metrics.r2_score(y_train, y_train_pred))*(len(y_train)-1)/(len(y_train)-X_test.shape[1]-1))\n",
        "print('MAE:',metrics.mean_absolute_error(y_train, y_train_pred))\n",
        "print('MSE:',metrics.mean_squared_error(y_train, y_train_pred))\n",
        "print('RMSE:',np.sqrt(metrics.mean_squared_error(y_train, y_train_pred)))"
      ],
      "metadata": {
        "id": "-tStNI2AxCdL",
        "colab": {
          "base_uri": "https://localhost:8080/"
        },
        "outputId": "26f0be55-01f3-488d-a867-a6aa98858d83"
      },
      "execution_count": null,
      "outputs": [
        {
          "output_type": "stream",
          "name": "stdout",
          "text": [
            "R^2: 0.003479912270376584\n",
            "Adjusted R^2: 0.0012204991836387569\n",
            "MAE: 5789.162604943984\n",
            "MSE: 84050965.78650534\n",
            "RMSE: 9167.931379897285\n"
          ]
        }
      ]
    },
    {
      "cell_type": "markdown",
      "source": [
        "###Yüzdelik hata oranı"
      ],
      "metadata": {
        "id": "QA3J-7mixMn3"
      }
    },
    {
      "cell_type": "code",
      "source": [
        "y_test = y_test.values.reshape(3600,1) \n",
        "y_test"
      ],
      "metadata": {
        "colab": {
          "base_uri": "https://localhost:8080/"
        },
        "id": "H9T1AN-xxO-r",
        "outputId": "c4f94383-7b97-4a11-ce54-66474ac5b5cc"
      },
      "execution_count": null,
      "outputs": [
        {
          "output_type": "execute_result",
          "data": {
            "text/plain": [
              "array([[ 4789.  ],\n",
              "       [ 6919.99],\n",
              "       [ 8778.  ],\n",
              "       ...,\n",
              "       [19299.  ],\n",
              "       [ 9239.  ],\n",
              "       [11899.  ]])"
            ]
          },
          "metadata": {},
          "execution_count": 92
        }
      ]
    },
    {
      "cell_type": "code",
      "source": [
        "np.mean(np.divide(abs(y_test-y_pred),y_test))"
      ],
      "metadata": {
        "colab": {
          "base_uri": "https://localhost:8080/"
        },
        "id": "6c-8cbBYxTmr",
        "outputId": "f305aa84-ac01-4dd9-a364-39cd91d63b03"
      },
      "execution_count": null,
      "outputs": [
        {
          "output_type": "execute_result",
          "data": {
            "text/plain": [
              "0.46808718238728264"
            ]
          },
          "metadata": {},
          "execution_count": 93
        }
      ]
    },
    {
      "cell_type": "code",
      "source": [
        "np.std(np.divide(abs(y_test-y_pred),y_test))"
      ],
      "metadata": {
        "colab": {
          "base_uri": "https://localhost:8080/"
        },
        "id": "AsE6QiXrxV5S",
        "outputId": "798e490e-3550-4082-aa02-37adc2740a88"
      },
      "execution_count": null,
      "outputs": [
        {
          "output_type": "execute_result",
          "data": {
            "text/plain": [
              "0.38526651339339635"
            ]
          },
          "metadata": {},
          "execution_count": 94
        }
      ]
    },
    {
      "cell_type": "markdown",
      "source": [
        "##Models evaluation"
      ],
      "metadata": {
        "id": "VSQTukAnxEJx"
      }
    },
    {
      "cell_type": "code",
      "source": [
        "models = pd.DataFrame({\n",
        "    'Model': ['Linear Regression', 'Random Forest', 'XGBoost', 'Support Vector Machines'],\n",
        "    'R-squared Score': [acc_linreg*100, acc_rf*100, acc_xgb*100, acc_svm*100]})\n",
        "models.sort_values(by='R-squared Score', ascending=False)"
      ],
      "metadata": {
        "colab": {
          "base_uri": "https://localhost:8080/"
        },
        "id": "iA9al1MkxIo7",
        "outputId": "77ed5828-d140-4f9d-8ce3-adbaa525314e"
      },
      "execution_count": null,
      "outputs": [
        {
          "output_type": "execute_result",
          "data": {
            "text/html": [
              "\n",
              "  <div id=\"df-9deafc0a-1861-4ee4-837a-e2538d74f0bc\">\n",
              "    <div class=\"colab-df-container\">\n",
              "      <div>\n",
              "<style scoped>\n",
              "    .dataframe tbody tr th:only-of-type {\n",
              "        vertical-align: middle;\n",
              "    }\n",
              "\n",
              "    .dataframe tbody tr th {\n",
              "        vertical-align: top;\n",
              "    }\n",
              "\n",
              "    .dataframe thead th {\n",
              "        text-align: right;\n",
              "    }\n",
              "</style>\n",
              "<table border=\"1\" class=\"dataframe\">\n",
              "  <thead>\n",
              "    <tr style=\"text-align: right;\">\n",
              "      <th></th>\n",
              "      <th>Model</th>\n",
              "      <th>R-squared Score</th>\n",
              "    </tr>\n",
              "  </thead>\n",
              "  <tbody>\n",
              "    <tr>\n",
              "      <th>1</th>\n",
              "      <td>Random Forest</td>\n",
              "      <td>98.463879</td>\n",
              "    </tr>\n",
              "    <tr>\n",
              "      <th>2</th>\n",
              "      <td>XGBoost</td>\n",
              "      <td>92.895670</td>\n",
              "    </tr>\n",
              "    <tr>\n",
              "      <th>0</th>\n",
              "      <td>Linear Regression</td>\n",
              "      <td>58.826995</td>\n",
              "    </tr>\n",
              "    <tr>\n",
              "      <th>3</th>\n",
              "      <td>Support Vector Machines</td>\n",
              "      <td>0.347991</td>\n",
              "    </tr>\n",
              "  </tbody>\n",
              "</table>\n",
              "</div>\n",
              "      <button class=\"colab-df-convert\" onclick=\"convertToInteractive('df-9deafc0a-1861-4ee4-837a-e2538d74f0bc')\"\n",
              "              title=\"Convert this dataframe to an interactive table.\"\n",
              "              style=\"display:none;\">\n",
              "        \n",
              "  <svg xmlns=\"http://www.w3.org/2000/svg\" height=\"24px\"viewBox=\"0 0 24 24\"\n",
              "       width=\"24px\">\n",
              "    <path d=\"M0 0h24v24H0V0z\" fill=\"none\"/>\n",
              "    <path d=\"M18.56 5.44l.94 2.06.94-2.06 2.06-.94-2.06-.94-.94-2.06-.94 2.06-2.06.94zm-11 1L8.5 8.5l.94-2.06 2.06-.94-2.06-.94L8.5 2.5l-.94 2.06-2.06.94zm10 10l.94 2.06.94-2.06 2.06-.94-2.06-.94-.94-2.06-.94 2.06-2.06.94z\"/><path d=\"M17.41 7.96l-1.37-1.37c-.4-.4-.92-.59-1.43-.59-.52 0-1.04.2-1.43.59L10.3 9.45l-7.72 7.72c-.78.78-.78 2.05 0 2.83L4 21.41c.39.39.9.59 1.41.59.51 0 1.02-.2 1.41-.59l7.78-7.78 2.81-2.81c.8-.78.8-2.07 0-2.86zM5.41 20L4 18.59l7.72-7.72 1.47 1.35L5.41 20z\"/>\n",
              "  </svg>\n",
              "      </button>\n",
              "      \n",
              "  <style>\n",
              "    .colab-df-container {\n",
              "      display:flex;\n",
              "      flex-wrap:wrap;\n",
              "      gap: 12px;\n",
              "    }\n",
              "\n",
              "    .colab-df-convert {\n",
              "      background-color: #E8F0FE;\n",
              "      border: none;\n",
              "      border-radius: 50%;\n",
              "      cursor: pointer;\n",
              "      display: none;\n",
              "      fill: #1967D2;\n",
              "      height: 32px;\n",
              "      padding: 0 0 0 0;\n",
              "      width: 32px;\n",
              "    }\n",
              "\n",
              "    .colab-df-convert:hover {\n",
              "      background-color: #E2EBFA;\n",
              "      box-shadow: 0px 1px 2px rgba(60, 64, 67, 0.3), 0px 1px 3px 1px rgba(60, 64, 67, 0.15);\n",
              "      fill: #174EA6;\n",
              "    }\n",
              "\n",
              "    [theme=dark] .colab-df-convert {\n",
              "      background-color: #3B4455;\n",
              "      fill: #D2E3FC;\n",
              "    }\n",
              "\n",
              "    [theme=dark] .colab-df-convert:hover {\n",
              "      background-color: #434B5C;\n",
              "      box-shadow: 0px 1px 3px 1px rgba(0, 0, 0, 0.15);\n",
              "      filter: drop-shadow(0px 1px 2px rgba(0, 0, 0, 0.3));\n",
              "      fill: #FFFFFF;\n",
              "    }\n",
              "  </style>\n",
              "\n",
              "      <script>\n",
              "        const buttonEl =\n",
              "          document.querySelector('#df-9deafc0a-1861-4ee4-837a-e2538d74f0bc button.colab-df-convert');\n",
              "        buttonEl.style.display =\n",
              "          google.colab.kernel.accessAllowed ? 'block' : 'none';\n",
              "\n",
              "        async function convertToInteractive(key) {\n",
              "          const element = document.querySelector('#df-9deafc0a-1861-4ee4-837a-e2538d74f0bc');\n",
              "          const dataTable =\n",
              "            await google.colab.kernel.invokeFunction('convertToInteractive',\n",
              "                                                     [key], {});\n",
              "          if (!dataTable) return;\n",
              "\n",
              "          const docLinkHtml = 'Like what you see? Visit the ' +\n",
              "            '<a target=\"_blank\" href=https://colab.research.google.com/notebooks/data_table.ipynb>data table notebook</a>'\n",
              "            + ' to learn more about interactive tables.';\n",
              "          element.innerHTML = '';\n",
              "          dataTable['output_type'] = 'display_data';\n",
              "          await google.colab.output.renderOutput(dataTable, element);\n",
              "          const docLink = document.createElement('div');\n",
              "          docLink.innerHTML = docLinkHtml;\n",
              "          element.appendChild(docLink);\n",
              "        }\n",
              "      </script>\n",
              "    </div>\n",
              "  </div>\n",
              "  "
            ],
            "text/plain": [
              "                     Model  R-squared Score\n",
              "1            Random Forest        98.463879\n",
              "2                  XGBoost        92.895670\n",
              "0        Linear Regression        58.826995\n",
              "3  Support Vector Machines         0.347991"
            ]
          },
          "metadata": {},
          "execution_count": 95
        }
      ]
    },
    {
      "cell_type": "markdown",
      "source": [
        "#Study of feature importance"
      ],
      "metadata": {
        "id": "09CWnH_eP5bU"
      }
    },
    {
      "cell_type": "code",
      "source": [
        "X = df.drop(['Ürün Fiyatı'], axis = 1)\n",
        "y = df['Ürün Fiyatı']"
      ],
      "metadata": {
        "id": "wLe5TCd7QFRa"
      },
      "execution_count": null,
      "outputs": []
    },
    {
      "cell_type": "code",
      "source": [
        "from sklearn.ensemble import RandomForestRegressor\n",
        "from sklearn.model_selection import train_test_split\n",
        "X_train, X_test, y_train, y_test = train_test_split(X,y, test_size = 0.3, random_state = 4)"
      ],
      "metadata": {
        "id": "jvk_0UY6QIpa"
      },
      "execution_count": null,
      "outputs": []
    },
    {
      "cell_type": "code",
      "source": [
        "rf = RandomForestRegressor(n_estimators=100)\n",
        "rf.fit(X_train, y_train)"
      ],
      "metadata": {
        "colab": {
          "base_uri": "https://localhost:8080/"
        },
        "id": "KssVSrfHP-jH",
        "outputId": "876b061e-8ccd-4b94-9207-de896fca3127"
      },
      "execution_count": null,
      "outputs": [
        {
          "output_type": "execute_result",
          "data": {
            "text/plain": [
              "RandomForestRegressor()"
            ]
          },
          "metadata": {},
          "execution_count": 98
        }
      ]
    },
    {
      "cell_type": "code",
      "source": [
        "rf.feature_importances_"
      ],
      "metadata": {
        "colab": {
          "base_uri": "https://localhost:8080/"
        },
        "id": "wsPMLdkiQZOa",
        "outputId": "32da1c6e-b7ff-4d0c-a008-560b48c2b426"
      },
      "execution_count": null,
      "outputs": [
        {
          "output_type": "execute_result",
          "data": {
            "text/plain": [
              "array([0.18503446, 0.06146099, 0.00302347, 0.02432882, 0.00880866,\n",
              "       0.15251172, 0.00263855, 0.00585851, 0.01509337, 0.04522115,\n",
              "       0.23682286, 0.00915741, 0.01479267, 0.04405164, 0.00562762,\n",
              "       0.00457126, 0.02400392, 0.15498104, 0.00201189])"
            ]
          },
          "metadata": {},
          "execution_count": 99
        }
      ]
    },
    {
      "cell_type": "code",
      "source": [
        "plt.barh(X.columns, rf.feature_importances_)"
      ],
      "metadata": {
        "colab": {
          "base_uri": "https://localhost:8080/",
          "height": 284
        },
        "id": "AB_9Rq9oQfDl",
        "outputId": "ae1b10b2-06f9-4e0d-a707-2c24a74bf04a"
      },
      "execution_count": null,
      "outputs": [
        {
          "output_type": "execute_result",
          "data": {
            "text/plain": [
              "<BarContainer object of 19 artists>"
            ]
          },
          "metadata": {},
          "execution_count": 100
        },
        {
          "output_type": "display_data",
          "data": {
            "image/png": "[encoded data removed]",
            "text/plain": [
              "<Figure size 432x288 with 1 Axes>"
            ]
          },
          "metadata": {
            "needs_background": "light"
          }
        }
      ]
    },
    {
      "cell_type": "code",
      "source": [
        "sorted_idx = rf.feature_importances_.argsort()\n",
        "plt.barh(X.columns[sorted_idx], rf.feature_importances_[sorted_idx])\n",
        "plt.xlabel(\"Random Forest Feature Importance\")"
      ],
      "metadata": {
        "colab": {
          "base_uri": "https://localhost:8080/",
          "height": 297
        },
        "id": "tnE_FfF5Q0j6",
        "outputId": "2bbad7aa-f1f3-4819-ef65-22d93fe724d0"
      },
      "execution_count": null,
      "outputs": [
        {
          "output_type": "execute_result",
          "data": {
            "text/plain": [
              "Text(0.5, 0, 'Random Forest Feature Importance')"
            ]
          },
          "metadata": {},
          "execution_count": 101
        },
        {
          "output_type": "display_data",
          "data": {
            "image/png": "[encoded data removed]",
            "text/plain": [
              "<Figure size 432x288 with 1 Axes>"
            ]
          },
          "metadata": {
            "needs_background": "light"
          }
        }
      ]
    },
    {
      "cell_type": "markdown",
      "source": [
        "##models"
      ],
      "metadata": {
        "id": "K2EkBxFVTlhr"
      }
    },
    {
      "cell_type": "code",
      "source": [
        "random_state = 7\n",
        "r1 = LinearRegression()\n",
        "r2 = RandomForestRegressor(random_state=random_state)\n",
        "r3 = XGBRegressor(random_state=random_state)\n",
        "r4 = svm.SVR()\n",
        "models = []\n",
        "models.append(('LR', LinearRegression()))\n",
        "models.append(('RF',RandomForestRegressor(random_state=random_state)))\n",
        "models.append(('XGB', XGBRegressor(random_state=random_state)))\n",
        "models.append(('SVM',svm.SVR()))"
      ],
      "metadata": {
        "id": "QJFGcT6zTlC_"
      },
      "execution_count": null,
      "outputs": []
    },
    {
      "cell_type": "code",
      "source": [
        "from sklearn.preprocessing import MinMaxScaler\n",
        "scaler = MinMaxScaler()\n",
        "#Learn scaler from train data and apply it to train and test data\n",
        "X_train = scaler.fit_transform(X_train)\n",
        "X_test = scaler.transform(X_test)"
      ],
      "metadata": {
        "id": "LxCtj4sBUR5i"
      },
      "execution_count": null,
      "outputs": []
    },
    {
      "cell_type": "code",
      "source": [
        "from numpy import sort\n",
        "chosed_model = rf\n",
        "feature_names = X.columns\n",
        "chosed_model.fit(X_train,y_train)\n",
        "sorted_idx = chosed_model.feature_importances_.argsort()\n",
        "y_ticks = np.arange(0, len(feature_names))\n",
        "sorted_feature_names = np.empty_like(feature_names)\n",
        "t = 0\n",
        "for i in sorted_idx:\n",
        "  sorted_feature_names[t] = feature_names[i]\n",
        "  t = t+1\n",
        "fig, ax = plt.subplots(figsize=(20, 10))\n",
        "ax.bar(y_ticks, chosed_model.feature_importances_[sorted_idx])\n",
        "ax.set_xticklabels(sorted_feature_names)\n",
        "ax.set_yticklabels('Feature Importance Value')\n",
        "ax.set_xticks(y_ticks)\n",
        "#ax.set_title(\"Random Forest Algorithm Feature Importances\")\n",
        "plt.rc('font', size=20) \n",
        "plt.setp(ax.get_xticklabels(), rotation=30, horizontalalignment='right')\n",
        "\n",
        "\n",
        "plt.show()"
      ],
      "metadata": {
        "colab": {
          "base_uri": "https://localhost:8080/",
          "height": 653
        },
        "id": "w1yE4WDaRIHN",
        "outputId": "087d79bb-c2e6-452a-b635-13f28f105d67"
      },
      "execution_count": null,
      "outputs": [
        {
          "output_type": "display_data",
          "data": {
            "image/png": "[encoded data removed]",
            "text/plain": [
              "<Figure size 1440x720 with 1 Axes>"
            ]
          },
          "metadata": {
            "needs_background": "light"
          }
        }
      ]
    },
    {
      "cell_type": "code",
      "source": [
        "from sklearn.feature_selection import SelectFromModel\n",
        "thresholds = sort(chosed_model.feature_importances_)\n",
        "k = len(X_train[0])\n",
        "column_names = ['LR', 'RF', 'XGB','SVM']\n",
        "thresholds_df_mae = pd.DataFrame(np.nan, index=range(0,k), columns=column_names)\n",
        "thresholds_df_mse = pd.DataFrame(np.nan, index=range(0,k), columns=column_names)\n",
        "thresholds_df_r2 = pd.DataFrame(np.nan, index=range(0,k), columns=column_names)\n",
        "t = []\n",
        "for thresh in thresholds:\n",
        "    t.append(k)\n",
        "    k = k - 1    \n",
        "    selection = SelectFromModel(chosed_model, threshold=thresh, prefit=True)\n",
        "    select_X_train = selection.transform(X_train)\n",
        "    select_X_test = selection.transform(X_test)\n",
        "\n",
        "    results_on_test_feature_imp = pd.DataFrame(np.nan,index = [0],columns = column_names)\n",
        "    results_on_test_feature_imp_MSE = pd.DataFrame(np.nan,index = [0],columns = column_names)\n",
        "    results_on_test_feature_imp_R2 = pd.DataFrame(np.nan,index = [0],columns = column_names)\n",
        "    for name,model in models:\n",
        "        model.fit(select_X_train,y_train)\n",
        "        y_pred = model.predict(select_X_test)\n",
        "        results_on_test_feature_imp[name] = metrics.mean_absolute_error(y_test,y_pred)\n",
        "        results_on_test_feature_imp_MSE[name] = metrics.mean_squared_error(y_test,y_pred)\n",
        "        results_on_test_feature_imp_R2[name] = metrics.r2_score(y_test,y_pred)\n",
        "        thresholds_df_mae.loc[k] = np.array(results_on_test_feature_imp)\n",
        "        thresholds_df_mse.loc[k] = np.array(results_on_test_feature_imp_MSE)\n",
        "        thresholds_df_r2.loc[k] = np.array(results_on_test_feature_imp_R2)"
      ],
      "metadata": {
        "colab": {
          "base_uri": "https://localhost:8080/"
        },
        "id": "N4IZjTktS1qj",
        "outputId": "dd391e23-5b7e-4237-c45a-041af86f110f"
      },
      "execution_count": null,
      "outputs": [
        {
          "output_type": "stream",
          "name": "stdout",
          "text": [
            "[14:10:53] WARNING: /workspace/src/objective/regression_obj.cu:152: reg:linear is now deprecated in favor of reg:squarederror.\n",
            "[14:11:02] WARNING: /workspace/src/objective/regression_obj.cu:152: reg:linear is now deprecated in favor of reg:squarederror.\n",
            "[14:11:10] WARNING: /workspace/src/objective/regression_obj.cu:152: reg:linear is now deprecated in favor of reg:squarederror.\n",
            "[14:11:18] WARNING: /workspace/src/objective/regression_obj.cu:152: reg:linear is now deprecated in favor of reg:squarederror.\n",
            "[14:11:26] WARNING: /workspace/src/objective/regression_obj.cu:152: reg:linear is now deprecated in favor of reg:squarederror.\n",
            "[14:11:35] WARNING: /workspace/src/objective/regression_obj.cu:152: reg:linear is now deprecated in favor of reg:squarederror.\n",
            "[14:11:43] WARNING: /workspace/src/objective/regression_obj.cu:152: reg:linear is now deprecated in favor of reg:squarederror.\n",
            "[14:11:52] WARNING: /workspace/src/objective/regression_obj.cu:152: reg:linear is now deprecated in favor of reg:squarederror.\n",
            "[14:12:00] WARNING: /workspace/src/objective/regression_obj.cu:152: reg:linear is now deprecated in favor of reg:squarederror.\n",
            "[14:12:08] WARNING: /workspace/src/objective/regression_obj.cu:152: reg:linear is now deprecated in favor of reg:squarederror.\n",
            "[14:12:15] WARNING: /workspace/src/objective/regression_obj.cu:152: reg:linear is now deprecated in favor of reg:squarederror.\n",
            "[14:12:23] WARNING: /workspace/src/objective/regression_obj.cu:152: reg:linear is now deprecated in favor of reg:squarederror.\n",
            "[14:12:30] WARNING: /workspace/src/objective/regression_obj.cu:152: reg:linear is now deprecated in favor of reg:squarederror.\n",
            "[14:12:37] WARNING: /workspace/src/objective/regression_obj.cu:152: reg:linear is now deprecated in favor of reg:squarederror.\n",
            "[14:12:44] WARNING: /workspace/src/objective/regression_obj.cu:152: reg:linear is now deprecated in favor of reg:squarederror.\n",
            "[14:12:51] WARNING: /workspace/src/objective/regression_obj.cu:152: reg:linear is now deprecated in favor of reg:squarederror.\n",
            "[14:12:58] WARNING: /workspace/src/objective/regression_obj.cu:152: reg:linear is now deprecated in favor of reg:squarederror.\n",
            "[14:13:04] WARNING: /workspace/src/objective/regression_obj.cu:152: reg:linear is now deprecated in favor of reg:squarederror.\n",
            "[14:13:10] WARNING: /workspace/src/objective/regression_obj.cu:152: reg:linear is now deprecated in favor of reg:squarederror.\n"
          ]
        }
      ]
    },
    {
      "cell_type": "code",
      "source": [
        "import matplotlib.pyplot as plt\n",
        "plt.figure(figsize=(150,150))\n",
        "plt.rc('font',size=12)\n",
        "thresholds_df_mae.plot.line()\n",
        "plt.xlabel('Number of Features')\n",
        "plt.ylabel('MAE')\n",
        "plt.xticks(np.arange(0, 20, 2.0))"
      ],
      "metadata": {
        "colab": {
          "base_uri": "https://localhost:8080/",
          "height": 504
        },
        "id": "P6SySm9iVbXR",
        "outputId": "3165504a-f2cf-4109-f6ec-92b71f26da15"
      },
      "execution_count": null,
      "outputs": [
        {
          "output_type": "execute_result",
          "data": {
            "text/plain": [
              "([<matplotlib.axis.XTick at 0x7fbc41d786d0>,\n",
              "  <matplotlib.axis.XTick at 0x7fbc41d78690>,\n",
              "  <matplotlib.axis.XTick at 0x7fbc41d9f4d0>,\n",
              "  <matplotlib.axis.XTick at 0x7fbc41d65890>,\n",
              "  <matplotlib.axis.XTick at 0x7fbc41d65c90>,\n",
              "  <matplotlib.axis.XTick at 0x7fbc41d70290>,\n",
              "  <matplotlib.axis.XTick at 0x7fbc41d70790>,\n",
              "  <matplotlib.axis.XTick at 0x7fbc41d70cd0>,\n",
              "  <matplotlib.axis.XTick at 0x7fbc41cf92d0>,\n",
              "  <matplotlib.axis.XTick at 0x7fbc41cf9790>],\n",
              " <a list of 10 Text major ticklabel objects>)"
            ]
          },
          "metadata": {},
          "execution_count": 106
        },
        {
          "output_type": "display_data",
          "data": {
            "text/plain": [
              "<Figure size 10800x10800 with 0 Axes>"
            ]
          },
          "metadata": {}
        },
        {
          "output_type": "display_data",
          "data": {
            "image/png": "[encoded data removed]",
            "text/plain": [
              "<Figure size 432x288 with 1 Axes>"
            ]
          },
          "metadata": {
            "needs_background": "light"
          }
        }
      ]
    },
    {
      "cell_type": "code",
      "source": [
        "plt.figure(figsize=(20,10))\n",
        "plt.rc('font',size=12)\n",
        "\n",
        "thresholds_df_mse.plot.line()\n",
        "plt.xlabel('Number of Features')\n",
        "plt.ylabel('MSE')\n",
        "plt.xticks(np.arange(0, 20, 2.0))"
      ],
      "metadata": {
        "colab": {
          "base_uri": "https://localhost:8080/",
          "height": 516
        },
        "id": "eK4e1voar9Xl",
        "outputId": "953775c4-2c65-422d-ccd7-e350d31ffcee"
      },
      "execution_count": null,
      "outputs": [
        {
          "output_type": "execute_result",
          "data": {
            "text/plain": [
              "([<matplotlib.axis.XTick at 0x7fbc41d2b250>,\n",
              "  <matplotlib.axis.XTick at 0x7fbc41d2b0d0>,\n",
              "  <matplotlib.axis.XTick at 0x7fbc41ce95d0>,\n",
              "  <matplotlib.axis.XTick at 0x7fbc41c793d0>,\n",
              "  <matplotlib.axis.XTick at 0x7fbc41c82c10>,\n",
              "  <matplotlib.axis.XTick at 0x7fbc41c8b090>,\n",
              "  <matplotlib.axis.XTick at 0x7fbc41c8b710>,\n",
              "  <matplotlib.axis.XTick at 0x7fbc41c8bc50>,\n",
              "  <matplotlib.axis.XTick at 0x7fbc41c94210>,\n",
              "  <matplotlib.axis.XTick at 0x7fbc41c94710>],\n",
              " <a list of 10 Text major ticklabel objects>)"
            ]
          },
          "metadata": {},
          "execution_count": 107
        },
        {
          "output_type": "display_data",
          "data": {
            "text/plain": [
              "<Figure size 1440x720 with 0 Axes>"
            ]
          },
          "metadata": {}
        },
        {
          "output_type": "display_data",
          "data": {
            "image/png": "[encoded data removed]",
            "text/plain": [
              "<Figure size 432x288 with 1 Axes>"
            ]
          },
          "metadata": {
            "needs_background": "light"
          }
        }
      ]
    },
    {
      "cell_type": "code",
      "source": [
        "plt.figure(figsize=(20,10))\n",
        "plt.rc('font',size=12)\n",
        "\n",
        "thresholds_df_r2.plot.line()\n",
        "plt.xlabel('Number of Features')\n",
        "plt.ylabel('R2')\n",
        "plt.xticks(np.arange(0, 20, 2.0))"
      ],
      "metadata": {
        "colab": {
          "base_uri": "https://localhost:8080/",
          "height": 504
        },
        "id": "QGvzjdfMr9wR",
        "outputId": "65a35c80-0326-488a-a45e-75163e44d3d0"
      },
      "execution_count": null,
      "outputs": [
        {
          "output_type": "execute_result",
          "data": {
            "text/plain": [
              "([<matplotlib.axis.XTick at 0x7fbc41f84850>,\n",
              "  <matplotlib.axis.XTick at 0x7fbc41d2a110>,\n",
              "  <matplotlib.axis.XTick at 0x7fbc41bf3610>,\n",
              "  <matplotlib.axis.XTick at 0x7fbc41bffd10>,\n",
              "  <matplotlib.axis.XTick at 0x7fbc41c0fc50>,\n",
              "  <matplotlib.axis.XTick at 0x7fbc41c1a210>,\n",
              "  <matplotlib.axis.XTick at 0x7fbc41c1a750>,\n",
              "  <matplotlib.axis.XTick at 0x7fbc41c1ac90>,\n",
              "  <matplotlib.axis.XTick at 0x7fbc41c20290>,\n",
              "  <matplotlib.axis.XTick at 0x7fbc41c20750>],\n",
              " <a list of 10 Text major ticklabel objects>)"
            ]
          },
          "metadata": {},
          "execution_count": 108
        },
        {
          "output_type": "display_data",
          "data": {
            "text/plain": [
              "<Figure size 1440x720 with 0 Axes>"
            ]
          },
          "metadata": {}
        },
        {
          "output_type": "display_data",
          "data": {
            "image/png": "[encoded data removed]",
            "text/plain": [
              "<Figure size 432x288 with 1 Axes>"
            ]
          },
          "metadata": {
            "needs_background": "light"
          }
        }
      ]
    },
    {
      "cell_type": "code",
      "source": [
        "np.argmin(thresholds_df_mae['RF'])"
      ],
      "metadata": {
        "colab": {
          "base_uri": "https://localhost:8080/"
        },
        "id": "7_zHyJ6hSXay",
        "outputId": "d84e11ec-2e0e-49ea-c28f-e6846db7e7d8"
      },
      "execution_count": null,
      "outputs": [
        {
          "output_type": "execute_result",
          "data": {
            "text/plain": [
              "12"
            ]
          },
          "metadata": {},
          "execution_count": 109
        }
      ]
    },
    {
      "cell_type": "code",
      "source": [
        "thresholds_df_mae['RF']"
      ],
      "metadata": {
        "colab": {
          "base_uri": "https://localhost:8080/"
        },
        "id": "yjxtVy3vTjkX",
        "outputId": "25311d78-edd0-4e21-f6f0-168af4c9f315"
      },
      "execution_count": null,
      "outputs": [
        {
          "output_type": "execute_result",
          "data": {
            "text/plain": [
              "0     4725.650501\n",
              "1     3072.246877\n",
              "2     2979.301897\n",
              "3     1807.037082\n",
              "4      967.645798\n",
              "5      861.826286\n",
              "6      735.306650\n",
              "7      724.231106\n",
              "8      708.282226\n",
              "9      657.396207\n",
              "10     646.652150\n",
              "11     640.934746\n",
              "12     639.665557\n",
              "13     642.035439\n",
              "14     644.074103\n",
              "15     649.701683\n",
              "16     650.092516\n",
              "17     644.616588\n",
              "18     646.406382\n",
              "Name: RF, dtype: float64"
            ]
          },
          "metadata": {},
          "execution_count": 110
        }
      ]
    },
    {
      "cell_type": "code",
      "source": [
        "df.columns"
      ],
      "metadata": {
        "colab": {
          "base_uri": "https://localhost:8080/"
        },
        "id": "jFLAjIAlsuz4",
        "outputId": "d1feb773-ed15-477b-c79c-eb586810e867"
      },
      "execution_count": null,
      "outputs": [
        {
          "output_type": "execute_result",
          "data": {
            "text/plain": [
              "Index(['İşlemci Tipi', 'Ekran Kartı', 'Garanti Tipi', 'İşletim Sistemi',\n",
              "       'Kullanım Amacı', 'Ekran Kartı Tipi', 'Ram (Sistem Belleği) Tipi',\n",
              "       'Cihaz Ağırlığı', 'Renk', 'Klavye', 'Ekran Kartı Bellek Tipi',\n",
              "       'İşlemci Nesli', 'Çözünürlük Standartı', 'İşlemci Modeli', 'Çözünürlük',\n",
              "       'Bağlantılar', 'Panel Tipi', 'Şarjlı Kullanım Süresi',\n",
              "       'Görüntü Kalitesi', 'Ürün Fiyatı'],\n",
              "      dtype='object')"
            ]
          },
          "metadata": {},
          "execution_count": 111
        }
      ]
    },
    {
      "cell_type": "code",
      "source": [
        "sorted_idx[0:13]"
      ],
      "metadata": {
        "colab": {
          "base_uri": "https://localhost:8080/"
        },
        "id": "HMh-m4ugFWxm",
        "outputId": "778ec4b0-5b7d-4150-ad82-122ccef7e082"
      },
      "execution_count": null,
      "outputs": [
        {
          "output_type": "execute_result",
          "data": {
            "text/plain": [
              "array([18,  6,  2, 15, 14,  7,  4, 11,  8, 12,  3, 16, 13])"
            ]
          },
          "metadata": {},
          "execution_count": 112
        }
      ]
    },
    {
      "cell_type": "markdown",
      "source": [
        "#Linear Regression"
      ],
      "metadata": {
        "id": "jCdIKMhfgLvv"
      }
    },
    {
      "cell_type": "code",
      "source": [
        "sorted_feature_names[0:np.argmin(thresholds_df_mae['LR'])]"
      ],
      "metadata": {
        "colab": {
          "base_uri": "https://localhost:8080/"
        },
        "id": "RlqGxQa4G--W",
        "outputId": "edaffd68-e498-45aa-af9b-b5f726b314be"
      },
      "execution_count": null,
      "outputs": [
        {
          "output_type": "execute_result",
          "data": {
            "text/plain": [
              "array(['Görüntü Kalitesi', 'Ram (Sistem Belleği) Tipi', 'Garanti Tipi',\n",
              "       'Bağlantılar', 'Çözünürlük', 'Cihaz Ağırlığı', 'Kullanım Amacı',\n",
              "       'İşlemci Nesli', 'Renk', 'Çözünürlük Standartı', 'İşletim Sistemi',\n",
              "       'Panel Tipi', 'İşlemci Modeli', 'Klavye', 'Ekran Kartı',\n",
              "       'Şarjlı Kullanım Süresi', 'Ekran Kartı Tipi', 'İşlemci Tipi'],\n",
              "      dtype=object)"
            ]
          },
          "metadata": {},
          "execution_count": 182
        }
      ]
    },
    {
      "cell_type": "code",
      "source": [
        "X = df.drop(sorted_feature_names[0:np.argmin(thresholds_df_mae['LR'])], axis = 1)\n",
        "y = df['Ürün Fiyatı']"
      ],
      "metadata": {
        "id": "EEwv_JotMYl6"
      },
      "execution_count": null,
      "outputs": []
    },
    {
      "cell_type": "code",
      "source": [
        "#X = df[sorted_feature_names[0:13]]\n",
        "#y = df['Ürün Fiyatı']"
      ],
      "metadata": {
        "id": "TeiOaRyEskdx"
      },
      "execution_count": null,
      "outputs": []
    },
    {
      "cell_type": "code",
      "source": [
        "#X = df.drop([ 'İşlemci Nesli','Çözünürlük','Bağlantılar', 'Panel Tipi', 'Şarjlı Kullanım Süresi','Görüntü Kalitesi', 'Ürün Fiyatı', 'Çözünürlük Standartı', 'Klavye','Cihaz Ağırlığı'], axis = 1)\n",
        "#y = df['Ürün Fiyatı']"
      ],
      "metadata": {
        "id": "-YaLIJK-KKBd"
      },
      "execution_count": null,
      "outputs": []
    },
    {
      "cell_type": "code",
      "source": [
        "from sklearn.model_selection import train_test_split\n",
        "X_train, X_test, y_train, y_test = train_test_split(X,y, test_size = 0.3, random_state = 4)"
      ],
      "metadata": {
        "id": "4BfLODD2KTlv"
      },
      "execution_count": null,
      "outputs": []
    },
    {
      "cell_type": "code",
      "source": [
        "# Import library for Linear Regression\n",
        "from sklearn.linear_model import LinearRegression\n",
        "\n",
        "# Create a Linear regressor\n",
        "lm = LinearRegression()\n",
        "\n",
        "# Train the model using the training sets \n",
        "lm.fit(X_train, y_train)"
      ],
      "metadata": {
        "colab": {
          "base_uri": "https://localhost:8080/"
        },
        "id": "fRCUsRigKV-v",
        "outputId": "43802891-2025-4195-e6a7-7beebb2db0c8"
      },
      "execution_count": null,
      "outputs": [
        {
          "output_type": "execute_result",
          "data": {
            "text/plain": [
              "LinearRegression()"
            ]
          },
          "metadata": {},
          "execution_count": 117
        }
      ]
    },
    {
      "cell_type": "code",
      "source": [
        "# Value of y intercept\n",
        "lm.intercept_"
      ],
      "metadata": {
        "colab": {
          "base_uri": "https://localhost:8080/"
        },
        "id": "UwkUU9J7eAFi",
        "outputId": "73940376-dd5d-4be1-c74a-299dae28b51c"
      },
      "execution_count": null,
      "outputs": [
        {
          "output_type": "execute_result",
          "data": {
            "text/plain": [
              "3.637978807091713e-12"
            ]
          },
          "metadata": {},
          "execution_count": 118
        }
      ]
    },
    {
      "cell_type": "code",
      "source": [
        "#Converting the coefficient values to a dataframe\n",
        "coeffcients = pd.DataFrame([X_train.columns,lm.coef_]).T\n",
        "coeffcients = coeffcients.rename(columns={0: 'Attribute', 1: 'Coefficients'})\n",
        "coeffcients"
      ],
      "metadata": {
        "colab": {
          "base_uri": "https://localhost:8080/",
          "height": 112
        },
        "id": "ny4McJ1AeDSp",
        "outputId": "4cc5e901-1654-4038-bc31-9786b0498a08"
      },
      "execution_count": null,
      "outputs": [
        {
          "output_type": "execute_result",
          "data": {
            "text/html": [
              "\n",
              "  <div id=\"df-ac20ee54-ba5b-4b13-9acc-1199a0667607\">\n",
              "    <div class=\"colab-df-container\">\n",
              "      <div>\n",
              "<style scoped>\n",
              "    .dataframe tbody tr th:only-of-type {\n",
              "        vertical-align: middle;\n",
              "    }\n",
              "\n",
              "    .dataframe tbody tr th {\n",
              "        vertical-align: top;\n",
              "    }\n",
              "\n",
              "    .dataframe thead th {\n",
              "        text-align: right;\n",
              "    }\n",
              "</style>\n",
              "<table border=\"1\" class=\"dataframe\">\n",
              "  <thead>\n",
              "    <tr style=\"text-align: right;\">\n",
              "      <th></th>\n",
              "      <th>Attribute</th>\n",
              "      <th>Coefficients</th>\n",
              "    </tr>\n",
              "  </thead>\n",
              "  <tbody>\n",
              "    <tr>\n",
              "      <th>0</th>\n",
              "      <td>Ekran Kartı Bellek Tipi</td>\n",
              "      <td>1.63537e-12</td>\n",
              "    </tr>\n",
              "    <tr>\n",
              "      <th>1</th>\n",
              "      <td>Ürün Fiyatı</td>\n",
              "      <td>1</td>\n",
              "    </tr>\n",
              "  </tbody>\n",
              "</table>\n",
              "</div>\n",
              "      <button class=\"colab-df-convert\" onclick=\"convertToInteractive('df-ac20ee54-ba5b-4b13-9acc-1199a0667607')\"\n",
              "              title=\"Convert this dataframe to an interactive table.\"\n",
              "              style=\"display:none;\">\n",
              "        \n",
              "  <svg xmlns=\"http://www.w3.org/2000/svg\" height=\"24px\"viewBox=\"0 0 24 24\"\n",
              "       width=\"24px\">\n",
              "    <path d=\"M0 0h24v24H0V0z\" fill=\"none\"/>\n",
              "    <path d=\"M18.56 5.44l.94 2.06.94-2.06 2.06-.94-2.06-.94-.94-2.06-.94 2.06-2.06.94zm-11 1L8.5 8.5l.94-2.06 2.06-.94-2.06-.94L8.5 2.5l-.94 2.06-2.06.94zm10 10l.94 2.06.94-2.06 2.06-.94-2.06-.94-.94-2.06-.94 2.06-2.06.94z\"/><path d=\"M17.41 7.96l-1.37-1.37c-.4-.4-.92-.59-1.43-.59-.52 0-1.04.2-1.43.59L10.3 9.45l-7.72 7.72c-.78.78-.78 2.05 0 2.83L4 21.41c.39.39.9.59 1.41.59.51 0 1.02-.2 1.41-.59l7.78-7.78 2.81-2.81c.8-.78.8-2.07 0-2.86zM5.41 20L4 18.59l7.72-7.72 1.47 1.35L5.41 20z\"/>\n",
              "  </svg>\n",
              "      </button>\n",
              "      \n",
              "  <style>\n",
              "    .colab-df-container {\n",
              "      display:flex;\n",
              "      flex-wrap:wrap;\n",
              "      gap: 12px;\n",
              "    }\n",
              "\n",
              "    .colab-df-convert {\n",
              "      background-color: #E8F0FE;\n",
              "      border: none;\n",
              "      border-radius: 50%;\n",
              "      cursor: pointer;\n",
              "      display: none;\n",
              "      fill: #1967D2;\n",
              "      height: 32px;\n",
              "      padding: 0 0 0 0;\n",
              "      width: 32px;\n",
              "    }\n",
              "\n",
              "    .colab-df-convert:hover {\n",
              "      background-color: #E2EBFA;\n",
              "      box-shadow: 0px 1px 2px rgba(60, 64, 67, 0.3), 0px 1px 3px 1px rgba(60, 64, 67, 0.15);\n",
              "      fill: #174EA6;\n",
              "    }\n",
              "\n",
              "    [theme=dark] .colab-df-convert {\n",
              "      background-color: #3B4455;\n",
              "      fill: #D2E3FC;\n",
              "    }\n",
              "\n",
              "    [theme=dark] .colab-df-convert:hover {\n",
              "      background-color: #434B5C;\n",
              "      box-shadow: 0px 1px 3px 1px rgba(0, 0, 0, 0.15);\n",
              "      filter: drop-shadow(0px 1px 2px rgba(0, 0, 0, 0.3));\n",
              "      fill: #FFFFFF;\n",
              "    }\n",
              "  </style>\n",
              "\n",
              "      <script>\n",
              "        const buttonEl =\n",
              "          document.querySelector('#df-ac20ee54-ba5b-4b13-9acc-1199a0667607 button.colab-df-convert');\n",
              "        buttonEl.style.display =\n",
              "          google.colab.kernel.accessAllowed ? 'block' : 'none';\n",
              "\n",
              "        async function convertToInteractive(key) {\n",
              "          const element = document.querySelector('#df-ac20ee54-ba5b-4b13-9acc-1199a0667607');\n",
              "          const dataTable =\n",
              "            await google.colab.kernel.invokeFunction('convertToInteractive',\n",
              "                                                     [key], {});\n",
              "          if (!dataTable) return;\n",
              "\n",
              "          const docLinkHtml = 'Like what you see? Visit the ' +\n",
              "            '<a target=\"_blank\" href=https://colab.research.google.com/notebooks/data_table.ipynb>data table notebook</a>'\n",
              "            + ' to learn more about interactive tables.';\n",
              "          element.innerHTML = '';\n",
              "          dataTable['output_type'] = 'display_data';\n",
              "          await google.colab.output.renderOutput(dataTable, element);\n",
              "          const docLink = document.createElement('div');\n",
              "          docLink.innerHTML = docLinkHtml;\n",
              "          element.appendChild(docLink);\n",
              "        }\n",
              "      </script>\n",
              "    </div>\n",
              "  </div>\n",
              "  "
            ],
            "text/plain": [
              "                 Attribute Coefficients\n",
              "0  Ekran Kartı Bellek Tipi  1.63537e-12\n",
              "1              Ürün Fiyatı            1"
            ]
          },
          "metadata": {},
          "execution_count": 119
        }
      ]
    },
    {
      "cell_type": "code",
      "source": [
        "# Model prediction on test data\n",
        "y_pred = lm.predict(X_test)"
      ],
      "metadata": {
        "id": "as_KPhKjeL8R"
      },
      "execution_count": null,
      "outputs": []
    },
    {
      "cell_type": "code",
      "source": [
        "from sklearn import metrics\n",
        "print('R^2:',metrics.r2_score(y_test, y_pred))\n",
        "print('Adjusted R^2:',1 - (1-metrics.r2_score(y_test, y_pred))*(len(y_test)-1)/(len(y_test)-X_test.shape[1]-1))\n",
        "print('MAE:',metrics.mean_absolute_error(y_test, y_pred))\n",
        "print('MSE:',metrics.mean_squared_error(y_test, y_pred))\n",
        "print('RMSE:',np.sqrt(metrics.mean_squared_error(y_test, y_pred)))"
      ],
      "metadata": {
        "colab": {
          "base_uri": "https://localhost:8080/"
        },
        "id": "jBXW99rheOZN",
        "outputId": "daa0c566-fa36-4701-8ae1-36ee2c997f90"
      },
      "execution_count": null,
      "outputs": [
        {
          "output_type": "stream",
          "name": "stdout",
          "text": [
            "R^2: 1.0\n",
            "Adjusted R^2: 1.0\n",
            "MAE: 5.7423221733188254e-12\n",
            "MSE: 6.496498457387388e-23\n",
            "RMSE: 8.060085891221872e-12\n"
          ]
        }
      ]
    },
    {
      "cell_type": "code",
      "source": [
        "# Visualizing the differences between actual prices and predicted values\n",
        "plt.scatter(y_test, y_pred)\n",
        "plt.xlabel(\"Prices\")\n",
        "plt.ylabel(\"Predicted prices\")\n",
        "plt.title(\"Prices vs Predicted prices for Linear Regression\")\n",
        "plt.show()"
      ],
      "metadata": {
        "colab": {
          "base_uri": "https://localhost:8080/",
          "height": 302
        },
        "id": "a_X1h_R8eaO6",
        "outputId": "63b59f8d-b6b6-4622-80f1-b2e58622d8eb"
      },
      "execution_count": null,
      "outputs": [
        {
          "output_type": "display_data",
          "data": {
            "image/png": "[encoded data removed]",
            "text/plain": [
              "<Figure size 432x288 with 1 Axes>"
            ]
          },
          "metadata": {
            "needs_background": "light"
          }
        }
      ]
    },
    {
      "cell_type": "code",
      "source": [
        "# Checking residuals\n",
        "plt.scatter(y_pred,y_test-y_pred)\n",
        "plt.title(\"Predicted vs residuals\")\n",
        "plt.xlabel(\"Predicted\")\n",
        "plt.ylabel(\"Residuals\")\n",
        "plt.show()"
      ],
      "metadata": {
        "id": "HRkQPhaSedoP",
        "colab": {
          "base_uri": "https://localhost:8080/",
          "height": 302
        },
        "outputId": "aaa7a224-a038-4633-f269-64ec4051a78c"
      },
      "execution_count": null,
      "outputs": [
        {
          "output_type": "display_data",
          "data": {
            "image/png": "[encoded data removed]",
            "text/plain": [
              "<Figure size 432x288 with 1 Axes>"
            ]
          },
          "metadata": {
            "needs_background": "light"
          }
        }
      ]
    },
    {
      "cell_type": "code",
      "source": [
        "import seaborn as sns\n",
        "# Checking Normality of errors\n",
        "sns.distplot(y_test-y_pred)\n",
        "plt.title(\"Histogram of Residuals\")\n",
        "plt.xlabel(\"Residuals\")\n",
        "plt.ylabel(\"Frequency\")\n",
        "plt.show()"
      ],
      "metadata": {
        "id": "-praUf6qekSr",
        "colab": {
          "base_uri": "https://localhost:8080/",
          "height": 359
        },
        "outputId": "64c5374d-2518-48a6-ac8b-5bea55613722"
      },
      "execution_count": null,
      "outputs": [
        {
          "output_type": "stream",
          "name": "stderr",
          "text": [
            "/usr/local/lib/python3.7/dist-packages/seaborn/distributions.py:2619: FutureWarning: `distplot` is a deprecated function and will be removed in a future version. Please adapt your code to use either `displot` (a figure-level function with similar flexibility) or `histplot` (an axes-level function for histograms).\n",
            "  warnings.warn(msg, FutureWarning)\n"
          ]
        },
        {
          "output_type": "display_data",
          "data": {
            "image/png": "[encoded data removed]",
            "text/plain": [
              "<Figure size 432x288 with 1 Axes>"
            ]
          },
          "metadata": {
            "needs_background": "light"
          }
        }
      ]
    },
    {
      "cell_type": "markdown",
      "source": [
        "## For the train data"
      ],
      "metadata": {
        "id": "HKsX8pfhf3Gy"
      }
    },
    {
      "cell_type": "code",
      "source": [
        "# Predicting Test data with the model\n",
        "y_train_pred = lm.predict(X_train)"
      ],
      "metadata": {
        "id": "KX_WS9Fnf5v1"
      },
      "execution_count": null,
      "outputs": []
    },
    {
      "cell_type": "code",
      "source": [
        "# Model Evaluation\n",
        "acc_linreg = metrics.r2_score(y_train, y_train_pred)\n",
        "print('R^2:', acc_linreg)\n",
        "print('Adjusted R^2:',1 - (1-metrics.r2_score(y_train, y_train_pred))*(len(y_train)-1)/(len(y_train)-X_test.shape[1]-1))\n",
        "print('MAE:',metrics.mean_absolute_error(y_train, y_train_pred))\n",
        "print('MSE:',metrics.mean_squared_error(y_train, y_train_pred))\n",
        "print('RMSE:',np.sqrt(metrics.mean_squared_error(y_train, y_train_pred)))"
      ],
      "metadata": {
        "id": "5JZnXkWCf7zp",
        "colab": {
          "base_uri": "https://localhost:8080/"
        },
        "outputId": "3b17eb38-cd88-4683-e174-6d4cec1589e7"
      },
      "execution_count": null,
      "outputs": [
        {
          "output_type": "stream",
          "name": "stdout",
          "text": [
            "R^2: 1.0\n",
            "Adjusted R^2: 1.0\n",
            "MAE: 5.645715429550147e-12\n",
            "MSE: 5.952978222993911e-23\n",
            "RMSE: 7.715554563992086e-12\n"
          ]
        }
      ]
    },
    {
      "cell_type": "markdown",
      "source": [
        "## Yüzdelik hata oranı"
      ],
      "metadata": {
        "id": "OtZ0DEciXdzq"
      }
    },
    {
      "cell_type": "code",
      "source": [
        "y_test = y_test.values.reshape(3600,1) \n",
        "y_test"
      ],
      "metadata": {
        "colab": {
          "base_uri": "https://localhost:8080/"
        },
        "id": "IdmKsoJ1pCsh",
        "outputId": "ccc1d014-2bfd-4b1c-b0aa-e123ede2eb88"
      },
      "execution_count": null,
      "outputs": [
        {
          "output_type": "execute_result",
          "data": {
            "text/plain": [
              "array([[ 4789.  ],\n",
              "       [ 6919.99],\n",
              "       [ 8778.  ],\n",
              "       ...,\n",
              "       [19299.  ],\n",
              "       [ 9239.  ],\n",
              "       [11899.  ]])"
            ]
          },
          "metadata": {},
          "execution_count": 127
        }
      ]
    },
    {
      "cell_type": "code",
      "source": [
        "abs(y_test[0]-y_pred[0])/y_test[0]"
      ],
      "metadata": {
        "colab": {
          "base_uri": "https://localhost:8080/"
        },
        "id": "8xKyv5u9rG4n",
        "outputId": "bbd155a9-1780-4611-a14a-42ccf3b64a4b"
      },
      "execution_count": null,
      "outputs": [
        {
          "output_type": "execute_result",
          "data": {
            "text/plain": [
              "array([1.89913281e-16])"
            ]
          },
          "metadata": {},
          "execution_count": 128
        }
      ]
    },
    {
      "cell_type": "code",
      "source": [
        "np.mean(np.divide(abs(y_test-y_pred),y_test))"
      ],
      "metadata": {
        "colab": {
          "base_uri": "https://localhost:8080/"
        },
        "id": "PtEN1-97pTeQ",
        "outputId": "c3ad48bf-d872-410e-95dd-3bb1447150a6"
      },
      "execution_count": null,
      "outputs": [
        {
          "output_type": "execute_result",
          "data": {
            "text/plain": [
              "0.7626331424557932"
            ]
          },
          "metadata": {},
          "execution_count": 129
        }
      ]
    },
    {
      "cell_type": "code",
      "source": [
        "np.std(np.divide(abs(y_test-y_pred),y_test))"
      ],
      "metadata": {
        "colab": {
          "base_uri": "https://localhost:8080/"
        },
        "id": "r3N3vCgGOUoS",
        "outputId": "4f82dff4-2ed6-43cd-b2e6-2df867338528"
      },
      "execution_count": null,
      "outputs": [
        {
          "output_type": "execute_result",
          "data": {
            "text/plain": [
              "1.0022016248180907"
            ]
          },
          "metadata": {},
          "execution_count": 130
        }
      ]
    },
    {
      "cell_type": "markdown",
      "source": [
        "#Random Forest"
      ],
      "metadata": {
        "id": "cgPcFGtFgR3W"
      }
    },
    {
      "cell_type": "code",
      "source": [
        "sorted_feature_names[0:14]"
      ],
      "metadata": {
        "colab": {
          "base_uri": "https://localhost:8080/"
        },
        "id": "n2SUPnr8GLyH",
        "outputId": "577a5e5c-b8f2-40d6-b4f6-3e4c49a3325f"
      },
      "execution_count": null,
      "outputs": [
        {
          "output_type": "execute_result",
          "data": {
            "text/plain": [
              "array(['Görüntü Kalitesi', 'Ram (Sistem Belleği) Tipi', 'Garanti Tipi',\n",
              "       'Bağlantılar', 'Çözünürlük', 'Cihaz Ağırlığı', 'Kullanım Amacı',\n",
              "       'İşlemci Nesli', 'Renk', 'Çözünürlük Standartı', 'İşletim Sistemi',\n",
              "       'Panel Tipi', 'İşlemci Modeli', 'Klavye'], dtype=object)"
            ]
          },
          "metadata": {},
          "execution_count": 131
        }
      ]
    },
    {
      "cell_type": "code",
      "source": [
        "np.argmin(thresholds_df_mae['RF'])"
      ],
      "metadata": {
        "colab": {
          "base_uri": "https://localhost:8080/"
        },
        "id": "KbvGYX6bTyzQ",
        "outputId": "c87ef8f5-7327-4a42-c54b-711b130a8895"
      },
      "execution_count": null,
      "outputs": [
        {
          "output_type": "execute_result",
          "data": {
            "text/plain": [
              "12"
            ]
          },
          "metadata": {},
          "execution_count": 132
        }
      ]
    },
    {
      "cell_type": "code",
      "source": [
        "X = df.drop(sorted_feature_names[0:np.argmin(thresholds_df_mae['RF'])], axis = 1)\n",
        "y = df['Ürün Fiyatı']"
      ],
      "metadata": {
        "id": "Ss7DURbgt6j4"
      },
      "execution_count": null,
      "outputs": []
    },
    {
      "cell_type": "code",
      "source": [
        "X"
      ],
      "metadata": {
        "colab": {
          "base_uri": "https://localhost:8080/",
          "height": 423
        },
        "id": "-D89gFhjCxnJ",
        "outputId": "9d86fa3b-4540-4b74-f43d-1ede53aa8459"
      },
      "execution_count": null,
      "outputs": [
        {
          "output_type": "execute_result",
          "data": {
            "text/html": [
              "\n",
              "  <div id=\"df-abdf1278-357c-4d02-83d8-65ccfcb099a4\">\n",
              "    <div class=\"colab-df-container\">\n",
              "      <div>\n",
              "<style scoped>\n",
              "    .dataframe tbody tr th:only-of-type {\n",
              "        vertical-align: middle;\n",
              "    }\n",
              "\n",
              "    .dataframe tbody tr th {\n",
              "        vertical-align: top;\n",
              "    }\n",
              "\n",
              "    .dataframe thead th {\n",
              "        text-align: right;\n",
              "    }\n",
              "</style>\n",
              "<table border=\"1\" class=\"dataframe\">\n",
              "  <thead>\n",
              "    <tr style=\"text-align: right;\">\n",
              "      <th></th>\n",
              "      <th>Ekran Kartı Bellek Tipi</th>\n",
              "      <th>Ürün Fiyatı</th>\n",
              "    </tr>\n",
              "  </thead>\n",
              "  <tbody>\n",
              "    <tr>\n",
              "      <th>0</th>\n",
              "      <td>7</td>\n",
              "      <td>14788.0</td>\n",
              "    </tr>\n",
              "    <tr>\n",
              "      <th>1</th>\n",
              "      <td>7</td>\n",
              "      <td>11009.0</td>\n",
              "    </tr>\n",
              "    <tr>\n",
              "      <th>2</th>\n",
              "      <td>4</td>\n",
              "      <td>9000.0</td>\n",
              "    </tr>\n",
              "    <tr>\n",
              "      <th>3</th>\n",
              "      <td>10</td>\n",
              "      <td>2499.0</td>\n",
              "    </tr>\n",
              "    <tr>\n",
              "      <th>4</th>\n",
              "      <td>4</td>\n",
              "      <td>5800.0</td>\n",
              "    </tr>\n",
              "    <tr>\n",
              "      <th>...</th>\n",
              "      <td>...</td>\n",
              "      <td>...</td>\n",
              "    </tr>\n",
              "    <tr>\n",
              "      <th>11995</th>\n",
              "      <td>7</td>\n",
              "      <td>8778.0</td>\n",
              "    </tr>\n",
              "    <tr>\n",
              "      <th>11996</th>\n",
              "      <td>4</td>\n",
              "      <td>10449.0</td>\n",
              "    </tr>\n",
              "    <tr>\n",
              "      <th>11997</th>\n",
              "      <td>0</td>\n",
              "      <td>6999.0</td>\n",
              "    </tr>\n",
              "    <tr>\n",
              "      <th>11998</th>\n",
              "      <td>9</td>\n",
              "      <td>16899.0</td>\n",
              "    </tr>\n",
              "    <tr>\n",
              "      <th>11999</th>\n",
              "      <td>10</td>\n",
              "      <td>12907.0</td>\n",
              "    </tr>\n",
              "  </tbody>\n",
              "</table>\n",
              "<p>12000 rows × 2 columns</p>\n",
              "</div>\n",
              "      <button class=\"colab-df-convert\" onclick=\"convertToInteractive('df-abdf1278-357c-4d02-83d8-65ccfcb099a4')\"\n",
              "              title=\"Convert this dataframe to an interactive table.\"\n",
              "              style=\"display:none;\">\n",
              "        \n",
              "  <svg xmlns=\"http://www.w3.org/2000/svg\" height=\"24px\"viewBox=\"0 0 24 24\"\n",
              "       width=\"24px\">\n",
              "    <path d=\"M0 0h24v24H0V0z\" fill=\"none\"/>\n",
              "    <path d=\"M18.56 5.44l.94 2.06.94-2.06 2.06-.94-2.06-.94-.94-2.06-.94 2.06-2.06.94zm-11 1L8.5 8.5l.94-2.06 2.06-.94-2.06-.94L8.5 2.5l-.94 2.06-2.06.94zm10 10l.94 2.06.94-2.06 2.06-.94-2.06-.94-.94-2.06-.94 2.06-2.06.94z\"/><path d=\"M17.41 7.96l-1.37-1.37c-.4-.4-.92-.59-1.43-.59-.52 0-1.04.2-1.43.59L10.3 9.45l-7.72 7.72c-.78.78-.78 2.05 0 2.83L4 21.41c.39.39.9.59 1.41.59.51 0 1.02-.2 1.41-.59l7.78-7.78 2.81-2.81c.8-.78.8-2.07 0-2.86zM5.41 20L4 18.59l7.72-7.72 1.47 1.35L5.41 20z\"/>\n",
              "  </svg>\n",
              "      </button>\n",
              "      \n",
              "  <style>\n",
              "    .colab-df-container {\n",
              "      display:flex;\n",
              "      flex-wrap:wrap;\n",
              "      gap: 12px;\n",
              "    }\n",
              "\n",
              "    .colab-df-convert {\n",
              "      background-color: #E8F0FE;\n",
              "      border: none;\n",
              "      border-radius: 50%;\n",
              "      cursor: pointer;\n",
              "      display: none;\n",
              "      fill: #1967D2;\n",
              "      height: 32px;\n",
              "      padding: 0 0 0 0;\n",
              "      width: 32px;\n",
              "    }\n",
              "\n",
              "    .colab-df-convert:hover {\n",
              "      background-color: #E2EBFA;\n",
              "      box-shadow: 0px 1px 2px rgba(60, 64, 67, 0.3), 0px 1px 3px 1px rgba(60, 64, 67, 0.15);\n",
              "      fill: #174EA6;\n",
              "    }\n",
              "\n",
              "    [theme=dark] .colab-df-convert {\n",
              "      background-color: #3B4455;\n",
              "      fill: #D2E3FC;\n",
              "    }\n",
              "\n",
              "    [theme=dark] .colab-df-convert:hover {\n",
              "      background-color: #434B5C;\n",
              "      box-shadow: 0px 1px 3px 1px rgba(0, 0, 0, 0.15);\n",
              "      filter: drop-shadow(0px 1px 2px rgba(0, 0, 0, 0.3));\n",
              "      fill: #FFFFFF;\n",
              "    }\n",
              "  </style>\n",
              "\n",
              "      <script>\n",
              "        const buttonEl =\n",
              "          document.querySelector('#df-abdf1278-357c-4d02-83d8-65ccfcb099a4 button.colab-df-convert');\n",
              "        buttonEl.style.display =\n",
              "          google.colab.kernel.accessAllowed ? 'block' : 'none';\n",
              "\n",
              "        async function convertToInteractive(key) {\n",
              "          const element = document.querySelector('#df-abdf1278-357c-4d02-83d8-65ccfcb099a4');\n",
              "          const dataTable =\n",
              "            await google.colab.kernel.invokeFunction('convertToInteractive',\n",
              "                                                     [key], {});\n",
              "          if (!dataTable) return;\n",
              "\n",
              "          const docLinkHtml = 'Like what you see? Visit the ' +\n",
              "            '<a target=\"_blank\" href=https://colab.research.google.com/notebooks/data_table.ipynb>data table notebook</a>'\n",
              "            + ' to learn more about interactive tables.';\n",
              "          element.innerHTML = '';\n",
              "          dataTable['output_type'] = 'display_data';\n",
              "          await google.colab.output.renderOutput(dataTable, element);\n",
              "          const docLink = document.createElement('div');\n",
              "          docLink.innerHTML = docLinkHtml;\n",
              "          element.appendChild(docLink);\n",
              "        }\n",
              "      </script>\n",
              "    </div>\n",
              "  </div>\n",
              "  "
            ],
            "text/plain": [
              "       Ekran Kartı Bellek Tipi  Ürün Fiyatı\n",
              "0                            7      14788.0\n",
              "1                            7      11009.0\n",
              "2                            4       9000.0\n",
              "3                           10       2499.0\n",
              "4                            4       5800.0\n",
              "...                        ...          ...\n",
              "11995                        7       8778.0\n",
              "11996                        4      10449.0\n",
              "11997                        0       6999.0\n",
              "11998                        9      16899.0\n",
              "11999                       10      12907.0\n",
              "\n",
              "[12000 rows x 2 columns]"
            ]
          },
          "metadata": {},
          "execution_count": 134
        }
      ]
    },
    {
      "cell_type": "code",
      "source": [
        "#X = df[sorted_feature_names[0:14]]\n",
        "#y = df['Ürün Fiyatı']"
      ],
      "metadata": {
        "id": "0czWT5fC3SE2"
      },
      "execution_count": null,
      "outputs": []
    },
    {
      "cell_type": "code",
      "source": [
        "from sklearn.model_selection import train_test_split\n",
        "X_train, X_test, y_train, y_test = train_test_split(X,y, test_size = 0.3, random_state = 4)"
      ],
      "metadata": {
        "id": "tvS0t9BF3Vby"
      },
      "execution_count": null,
      "outputs": []
    },
    {
      "cell_type": "code",
      "source": [
        "from sklearn.feature_selection import SelectFromModel"
      ],
      "metadata": {
        "id": "rYp3AHdv5yIM"
      },
      "execution_count": null,
      "outputs": []
    },
    {
      "cell_type": "code",
      "source": [
        "# Import Random Forest Regressor\n",
        "from sklearn.ensemble import RandomForestRegressor\n",
        "\n",
        "# Create a Random Forest Regressor\n",
        "reg = RandomForestRegressor()\n",
        "\n",
        "# Train the model using the training sets \n",
        "reg.fit(X_train, y_train)"
      ],
      "metadata": {
        "colab": {
          "base_uri": "https://localhost:8080/"
        },
        "id": "Oa8JDpsygUiy",
        "outputId": "ec4e608e-9aa5-4286-e45f-6bf0655a3f44"
      },
      "execution_count": null,
      "outputs": [
        {
          "output_type": "execute_result",
          "data": {
            "text/plain": [
              "RandomForestRegressor()"
            ]
          },
          "metadata": {},
          "execution_count": 187
        }
      ]
    },
    {
      "cell_type": "code",
      "source": [
        "y_pred = reg.predict(X_test)"
      ],
      "metadata": {
        "id": "BPhKdZyy3kLe"
      },
      "execution_count": null,
      "outputs": []
    },
    {
      "cell_type": "code",
      "source": [
        "# Model Evaluation\n",
        "print('R^2:',metrics.r2_score(y_test, y_pred))\n",
        "print('Adjusted R^2:',1 - (1-metrics.r2_score(y_test, y_pred))*(len(y_test)-1)/(len(y_test)-X_train.shape[1]-1))\n",
        "print('MAE:',metrics.mean_absolute_error(y_test, y_pred))\n",
        "print('MSE:',metrics.mean_squared_error(y_test, y_pred))\n",
        "print('RMSE:',np.sqrt(metrics.mean_squared_error(y_test, y_pred)))"
      ],
      "metadata": {
        "id": "A-IFr3hMgYGm",
        "colab": {
          "base_uri": "https://localhost:8080/"
        },
        "outputId": "c72a025e-18dc-401d-d8e8-3d3c79c5352f"
      },
      "execution_count": null,
      "outputs": [
        {
          "output_type": "stream",
          "name": "stdout",
          "text": [
            "R^2: 0.9996516178681901\n",
            "Adjusted R^2: 0.9996508417453679\n",
            "MAE: 10.230057527779335\n",
            "MSE: 32427.68964637036\n",
            "RMSE: 180.07689925798468\n"
          ]
        }
      ]
    },
    {
      "cell_type": "code",
      "source": [
        "# Visualizing the differences between actual prices and predicted values\n",
        "plt.scatter(y_test, y_pred)\n",
        "plt.xlabel(\"Prices\")\n",
        "plt.ylabel(\"Predicted prices\")\n",
        "plt.title(\"Prices vs Predicted prices for Random Forest\")\n",
        "plt.show()"
      ],
      "metadata": {
        "id": "qraWRDR6RLdN",
        "colab": {
          "base_uri": "https://localhost:8080/",
          "height": 302
        },
        "outputId": "92dfa091-f7e9-4536-eb42-04226d1644b3"
      },
      "execution_count": null,
      "outputs": [
        {
          "output_type": "display_data",
          "data": {
            "image/png": "[encoded data removed]",
            "text/plain": [
              "<Figure size 432x288 with 1 Axes>"
            ]
          },
          "metadata": {
            "needs_background": "light"
          }
        }
      ]
    },
    {
      "cell_type": "code",
      "source": [
        "# Checking residuals\n",
        "plt.scatter(y_pred,y_test-y_pred)\n",
        "plt.title(\"Predicted vs residuals\")\n",
        "plt.xlabel(\"Predicted\")\n",
        "plt.ylabel(\"Residuals\")\n",
        "plt.show()"
      ],
      "metadata": {
        "id": "MIPh50FwRPLY",
        "colab": {
          "base_uri": "https://localhost:8080/",
          "height": 302
        },
        "outputId": "cd317725-bba8-4ee9-f6aa-e793c432de31"
      },
      "execution_count": null,
      "outputs": [
        {
          "output_type": "display_data",
          "data": {
            "image/png": "[encoded data removed]",
            "text/plain": [
              "<Figure size 432x288 with 1 Axes>"
            ]
          },
          "metadata": {
            "needs_background": "light"
          }
        }
      ]
    },
    {
      "cell_type": "markdown",
      "source": [
        "##For the train data"
      ],
      "metadata": {
        "id": "epOq50Ojgi6J"
      }
    },
    {
      "cell_type": "code",
      "source": [
        "# Predicting Train data with the model\n",
        "y_train_pred = reg.predict(X_train)"
      ],
      "metadata": {
        "id": "gY7JC6vLgkzj"
      },
      "execution_count": null,
      "outputs": []
    },
    {
      "cell_type": "code",
      "source": [
        "# Model Evaluation\n",
        "acc_rf = metrics.r2_score(y_train, y_train_pred)\n",
        "print('R^2:', acc_rf)\n",
        "print('Adjusted R^2:',1 - (1-metrics.r2_score(y_train, y_train_pred))*(len(y_train)-1)/(len(y_train)-X_train.shape[1]-1))\n",
        "print('MAE:',metrics.mean_absolute_error(y_train,y_train_pred))\n",
        "print('MSE:',metrics.mean_squared_error(y_train, y_train_pred))\n",
        "print('RMSE:',np.sqrt(metrics.mean_squared_error(y_train, y_train_pred)))"
      ],
      "metadata": {
        "id": "dct6ooO4gmqX",
        "colab": {
          "base_uri": "https://localhost:8080/"
        },
        "outputId": "9b45fb0c-214b-43e1-ab48-6002f37ee7e8"
      },
      "execution_count": null,
      "outputs": [
        {
          "output_type": "stream",
          "name": "stdout",
          "text": [
            "R^2: 0.9999785111378394\n",
            "Adjusted R^2: 0.9999785060196157\n",
            "MAE: 2.0993531309542015\n",
            "MSE: 1812.4668438562665\n",
            "RMSE: 42.57307651387514\n"
          ]
        }
      ]
    },
    {
      "cell_type": "markdown",
      "source": [
        "## Yüzdelik hata oranı"
      ],
      "metadata": {
        "id": "nKO3yBAOYBnq"
      }
    },
    {
      "cell_type": "code",
      "source": [
        "#y_test = y_test.values.reshape(3600,1) \n",
        "np.mean(np.divide(abs(y_test-y_pred),y_test))"
      ],
      "metadata": {
        "colab": {
          "base_uri": "https://localhost:8080/"
        },
        "id": "qFoUiP8BwJEQ",
        "outputId": "f66b6a7c-7159-4510-c300-1a37e3139a36"
      },
      "execution_count": null,
      "outputs": [
        {
          "output_type": "execute_result",
          "data": {
            "text/plain": [
              "0.0003398195951386602"
            ]
          },
          "metadata": {},
          "execution_count": 191
        }
      ]
    },
    {
      "cell_type": "markdown",
      "source": [
        "#XG Boost Regressor"
      ],
      "metadata": {
        "id": "p_jOfHCoevCl"
      }
    },
    {
      "cell_type": "code",
      "source": [
        "sorted_feature_names[0:np.argmin(thresholds_df_mae['XGB'])]"
      ],
      "metadata": {
        "colab": {
          "base_uri": "https://localhost:8080/"
        },
        "id": "UhfPVP3EZp2J",
        "outputId": "d8afb870-2e88-4de5-fc91-c3659b1c2844"
      },
      "execution_count": null,
      "outputs": [
        {
          "output_type": "execute_result",
          "data": {
            "text/plain": [
              "array(['Görüntü Kalitesi', 'Ram (Sistem Belleği) Tipi', 'Garanti Tipi',\n",
              "       'Bağlantılar', 'Çözünürlük', 'Cihaz Ağırlığı', 'Kullanım Amacı',\n",
              "       'İşlemci Nesli', 'Renk', 'Çözünürlük Standartı', 'İşletim Sistemi',\n",
              "       'Panel Tipi', 'İşlemci Modeli', 'Klavye', 'Ekran Kartı',\n",
              "       'Şarjlı Kullanım Süresi'], dtype=object)"
            ]
          },
          "metadata": {},
          "execution_count": 146
        }
      ]
    },
    {
      "cell_type": "code",
      "source": [
        "X = df.drop(sorted_feature_names[0:np.argmin(thresholds_df_mae['XGB'])], axis = 1)\n",
        "y = df['Ürün Fiyatı']"
      ],
      "metadata": {
        "id": "zqYf7nbNZXwU"
      },
      "execution_count": null,
      "outputs": []
    },
    {
      "cell_type": "code",
      "source": [
        "from sklearn.model_selection import train_test_split\n",
        "X_train, X_test, y_train, y_test = train_test_split(X,y, test_size = 0.3, random_state = 4)"
      ],
      "metadata": {
        "id": "yKiQD1qZZbky"
      },
      "execution_count": null,
      "outputs": []
    },
    {
      "cell_type": "code",
      "source": [
        "# Import XGBoost Regressor\n",
        "from xgboost import XGBRegressor\n",
        "\n",
        "#Create a XGBoost Regressor\n",
        "reg = XGBRegressor()\n",
        "\n",
        "# Train the model using the training sets \n",
        "reg.fit(X_train, y_train)"
      ],
      "metadata": {
        "id": "ZFa6vHQSeua9",
        "colab": {
          "base_uri": "https://localhost:8080/"
        },
        "outputId": "26cea5f0-a319-4b4c-f600-10a5895606ab"
      },
      "execution_count": null,
      "outputs": [
        {
          "output_type": "stream",
          "name": "stdout",
          "text": [
            "[15:33:46] WARNING: /workspace/src/objective/regression_obj.cu:152: reg:linear is now deprecated in favor of reg:squarederror.\n"
          ]
        },
        {
          "output_type": "execute_result",
          "data": {
            "text/plain": [
              "XGBRegressor()"
            ]
          },
          "metadata": {},
          "execution_count": 195
        }
      ]
    },
    {
      "cell_type": "code",
      "source": [
        "# Model prediction on test data\n",
        "y_pred = reg.predict(X_test)"
      ],
      "metadata": {
        "id": "rCt5Zf1wez7v"
      },
      "execution_count": null,
      "outputs": []
    },
    {
      "cell_type": "code",
      "source": [
        "# Model Evaluation\n",
        "print('R^2:',metrics.r2_score(y_test, y_pred))\n",
        "print('Adjusted R^2:',1 - (1-metrics.r2_score(y_test, y_pred))*(len(y_test)-1)/(len(y_test)-X_test.shape[1]-1))\n",
        "print('MAE:',metrics.mean_absolute_error(y_test, y_pred))\n",
        "print('MSE:',metrics.mean_squared_error(y_test, y_pred))\n",
        "print('RMSE:',np.sqrt(metrics.mean_squared_error(y_test, y_pred)))"
      ],
      "metadata": {
        "id": "QLGD3IAPe2MY",
        "colab": {
          "base_uri": "https://localhost:8080/"
        },
        "outputId": "d16c1653-39a3-4698-a3c4-a9c724019e72"
      },
      "execution_count": null,
      "outputs": [
        {
          "output_type": "stream",
          "name": "stdout",
          "text": [
            "R^2: 0.9998002460678684\n",
            "Adjusted R^2: 0.9998000238103639\n",
            "MAE: 26.421352566189235\n",
            "MSE: 18593.257016807012\n",
            "RMSE: 136.35709375315614\n"
          ]
        }
      ]
    },
    {
      "cell_type": "code",
      "source": [
        "# Visualizing the differences between actual prices and predicted values\n",
        "plt.scatter(y_test, y_pred)\n",
        "plt.xlabel(\"Prices\")\n",
        "plt.ylabel(\"Predicted prices\")\n",
        "plt.title(\"Prices vs Predicted prices for XG Boost Regression\")\n",
        "plt.show()"
      ],
      "metadata": {
        "id": "0M4qkusze4Y4",
        "colab": {
          "base_uri": "https://localhost:8080/",
          "height": 302
        },
        "outputId": "a8b724b0-9296-4d29-8323-c6dafb4c7ded"
      },
      "execution_count": null,
      "outputs": [
        {
          "output_type": "display_data",
          "data": {
            "image/png": "[encoded data removed]",
            "text/plain": [
              "<Figure size 432x288 with 1 Axes>"
            ]
          },
          "metadata": {
            "needs_background": "light"
          }
        }
      ]
    },
    {
      "cell_type": "code",
      "source": [
        "# Checking residuals\n",
        "plt.scatter(y_pred,y_test-y_pred)\n",
        "plt.title(\"Predicted vs residuals\")\n",
        "plt.xlabel(\"Predicted\")\n",
        "plt.ylabel(\"Residuals\")\n",
        "plt.show()"
      ],
      "metadata": {
        "id": "GtByzEUTe7IA",
        "colab": {
          "base_uri": "https://localhost:8080/",
          "height": 302
        },
        "outputId": "abeebc72-9f90-4683-bf97-a63f810ed1b8"
      },
      "execution_count": null,
      "outputs": [
        {
          "output_type": "display_data",
          "data": {
            "image/png": "[encoded data removed]",
            "text/plain": [
              "<Figure size 432x288 with 1 Axes>"
            ]
          },
          "metadata": {
            "needs_background": "light"
          }
        }
      ]
    },
    {
      "cell_type": "markdown",
      "source": [
        "##For the train data"
      ],
      "metadata": {
        "id": "lvDp819gfCG7"
      }
    },
    {
      "cell_type": "code",
      "source": [
        "#Predicting Train data with the model\n",
        "y_train_pred = reg.predict(X_train)"
      ],
      "metadata": {
        "id": "_er8lm4NfEjA"
      },
      "execution_count": null,
      "outputs": []
    },
    {
      "cell_type": "code",
      "source": [
        "# Model Evaluation\n",
        "acc_xgb = metrics.r2_score(y_train, y_train_pred)\n",
        "print('R^2:', acc_xgb)\n",
        "print('Adjusted R^2:',1 - (1-metrics.r2_score(y_train,y_train_pred))*(len(y_test)-1)/(len(y_train)-X_train.shape[1]-1))\n",
        "print('MAE:',metrics.mean_absolute_error(y_train, y_train_pred))\n",
        "print('MSE:',metrics.mean_squared_error(y_train, y_train_pred))\n",
        "print('RMSE:',np.sqrt(metrics.mean_squared_error(y_train, y_train_pred)))"
      ],
      "metadata": {
        "id": "WHuc6mrefFgJ",
        "colab": {
          "base_uri": "https://localhost:8080/"
        },
        "outputId": "678220ba-e3f9-42f4-a471-82fe62275934"
      },
      "execution_count": null,
      "outputs": [
        {
          "output_type": "stream",
          "name": "stdout",
          "text": [
            "R^2: 0.9999593960162851\n",
            "Adjusted R^2: 0.9999825927650519\n",
            "MAE: 19.102682852027534\n",
            "MSE: 3424.7217773530083\n",
            "RMSE: 58.52112248883311\n"
          ]
        }
      ]
    },
    {
      "cell_type": "markdown",
      "source": [
        "## Yüzdelik hata oranı"
      ],
      "metadata": {
        "id": "Av8yrYErYKOU"
      }
    },
    {
      "cell_type": "code",
      "source": [
        "#y_test = y_test.values.reshape(3600,1) \n",
        "np.mean(np.divide(abs(y_test-y_pred),y_test))\n"
      ],
      "metadata": {
        "id": "a--KpqY6wwiM",
        "colab": {
          "base_uri": "https://localhost:8080/"
        },
        "outputId": "dee2494a-c23e-4bf5-b0de-f6b7b6f8717b"
      },
      "execution_count": null,
      "outputs": [
        {
          "output_type": "execute_result",
          "data": {
            "text/plain": [
              "0.0012846941153916182"
            ]
          },
          "metadata": {},
          "execution_count": 199
        }
      ]
    },
    {
      "cell_type": "markdown",
      "source": [
        "#SVM Regressor"
      ],
      "metadata": {
        "id": "3rS_zXBafIoJ"
      }
    },
    {
      "cell_type": "code",
      "source": [
        "X = df.drop(sorted_feature_names[0:np.argmin(thresholds_df_mae['XGB'])], axis = 1)\n",
        "y = df['Ürün Fiyatı']"
      ],
      "metadata": {
        "id": "hpnh7PLlZ9xj"
      },
      "execution_count": null,
      "outputs": []
    },
    {
      "cell_type": "code",
      "source": [
        "from sklearn.model_selection import train_test_split\n",
        "X_train, X_test, y_train, y_test = train_test_split(X,y, test_size = 0.3, random_state = 4)"
      ],
      "metadata": {
        "id": "lmxONdJ9aKDt"
      },
      "execution_count": null,
      "outputs": []
    },
    {
      "cell_type": "code",
      "source": [
        "# Creating scaled set to be used in model to improve our results\n",
        "from sklearn.preprocessing import StandardScaler\n",
        "sc = StandardScaler()\n",
        "X_train = sc.fit_transform(X_train)\n",
        "X_test = sc.transform(X_test)"
      ],
      "metadata": {
        "id": "GgiqmwtafKHV"
      },
      "execution_count": null,
      "outputs": []
    },
    {
      "cell_type": "code",
      "source": [
        "# Import SVM Regressor\n",
        "from sklearn import svm\n",
        "\n",
        "# Create a SVM Regressor\n",
        "reg = svm.SVR()"
      ],
      "metadata": {
        "id": "GYQ2xuFTfN5m"
      },
      "execution_count": null,
      "outputs": []
    },
    {
      "cell_type": "code",
      "source": [
        "# Train the model using the training sets \n",
        "reg.fit(X_train, y_train)"
      ],
      "metadata": {
        "id": "sKbCwub1fPmh",
        "colab": {
          "base_uri": "https://localhost:8080/"
        },
        "outputId": "b8424b4a-485a-440b-a3db-96c4c9856017"
      },
      "execution_count": null,
      "outputs": [
        {
          "output_type": "execute_result",
          "data": {
            "text/plain": [
              "SVR()"
            ]
          },
          "metadata": {},
          "execution_count": 204
        }
      ]
    },
    {
      "cell_type": "code",
      "source": [
        "# Model prediction on test data\n",
        "y_pred = reg.predict(X_test)"
      ],
      "metadata": {
        "id": "P-BJ9TOlfRy2"
      },
      "execution_count": null,
      "outputs": []
    },
    {
      "cell_type": "code",
      "source": [
        "# Model Evaluation\n",
        "print('R^2:',metrics.r2_score(y_test, y_pred))\n",
        "print('Adjusted R^2:',1 - (1-metrics.r2_score(y_test, y_pred))*(len(y_test)-1)/(len(y_test)-X_train.shape[1]-1))\n",
        "print('MAE:',metrics.mean_absolute_error(y_test, y_pred))\n",
        "print('MSE:',metrics.mean_squared_error(y_test, y_pred))\n",
        "print('RMSE:',np.sqrt(metrics.mean_squared_error(y_test, y_pred)))"
      ],
      "metadata": {
        "id": "iOYgRXIrfTui",
        "colab": {
          "base_uri": "https://localhost:8080/"
        },
        "outputId": "42221cec-0ba7-45ce-d21e-34dcf2da6199"
      },
      "execution_count": null,
      "outputs": [
        {
          "output_type": "stream",
          "name": "stdout",
          "text": [
            "R^2: 0.09073242099170187\n",
            "Adjusted R^2: 0.08972071853939778\n",
            "MAE: 5488.606738618359\n",
            "MSE: 84635359.17989421\n",
            "RMSE: 9199.747778058603\n"
          ]
        }
      ]
    },
    {
      "cell_type": "code",
      "source": [
        "# Visualizing the differences between actual prices and predicted values\n",
        "plt.scatter(y_test, y_pred)\n",
        "plt.xlabel(\"Prices\")\n",
        "plt.ylabel(\"Predicted prices\")\n",
        "plt.title(\"Prices vs Predicted prices for SVM Regression\")\n",
        "plt.show()"
      ],
      "metadata": {
        "id": "ESABKr1HfVc2",
        "colab": {
          "base_uri": "https://localhost:8080/",
          "height": 302
        },
        "outputId": "4722f8f3-d4cc-4dcf-a03d-f0bdf00165e7"
      },
      "execution_count": null,
      "outputs": [
        {
          "output_type": "display_data",
          "data": {
            "image/png": "[encoded data removed]",
            "text/plain": [
              "<Figure size 432x288 with 1 Axes>"
            ]
          },
          "metadata": {
            "needs_background": "light"
          }
        }
      ]
    },
    {
      "cell_type": "code",
      "source": [
        "# Checking residuals\n",
        "plt.scatter(y_pred,y_test-y_pred)\n",
        "plt.title(\"Predicted vs residuals\")\n",
        "plt.xlabel(\"Predicted\")\n",
        "plt.ylabel(\"Residuals\")\n",
        "plt.show()"
      ],
      "metadata": {
        "id": "qaSVzeSdfXOS",
        "colab": {
          "base_uri": "https://localhost:8080/",
          "height": 302
        },
        "outputId": "76cddd1f-3075-46b7-a3cc-c12947009643"
      },
      "execution_count": null,
      "outputs": [
        {
          "output_type": "display_data",
          "data": {
            "image/png": "[encoded data removed]",
            "text/plain": [
              "<Figure size 432x288 with 1 Axes>"
            ]
          },
          "metadata": {
            "needs_background": "light"
          }
        }
      ]
    },
    {
      "cell_type": "markdown",
      "source": [
        "\n",
        "\n",
        "## For the train data"
      ],
      "metadata": {
        "id": "rhgaN-6Vfbg0"
      }
    },
    {
      "cell_type": "code",
      "source": [
        "# Predicting Train data with the model\n",
        "y_train_pred = reg.predict(X_train)"
      ],
      "metadata": {
        "id": "a2sNB6pFfd4e"
      },
      "execution_count": null,
      "outputs": []
    },
    {
      "cell_type": "code",
      "source": [
        "# Model Evaluation\n",
        "acc_svm = metrics.r2_score(y_train, y_train_pred)\n",
        "print('R^2:', acc_svm)\n",
        "print('Adjusted R^2:',1 - (1-metrics.r2_score(y_train, y_train_pred))*(len(y_train)-1)/(len(y_train)-X_test.shape[1]-1))\n",
        "print('MAE:',metrics.mean_absolute_error(y_train, y_train_pred))\n",
        "print('MSE:',metrics.mean_squared_error(y_train, y_train_pred))\n",
        "print('RMSE:',np.sqrt(metrics.mean_squared_error(y_train, y_train_pred)))"
      ],
      "metadata": {
        "id": "wfesFbu3ff86",
        "colab": {
          "base_uri": "https://localhost:8080/"
        },
        "outputId": "ebd84fdf-b432-4611-8f78-afa4dd5527d9"
      },
      "execution_count": null,
      "outputs": [
        {
          "output_type": "stream",
          "name": "stdout",
          "text": [
            "R^2: 0.10311129195967705\n",
            "Adjusted R^2: 0.10268394772713851\n",
            "MAE: 5271.625283798759\n",
            "MSE: 75647609.15713072\n",
            "RMSE: 8697.563403455631\n"
          ]
        }
      ]
    },
    {
      "cell_type": "markdown",
      "source": [
        "## Yüzdelik hata oranı"
      ],
      "metadata": {
        "id": "ft5yGDB9YR0-"
      }
    },
    {
      "cell_type": "code",
      "source": [
        "np.mean(np.divide(abs(y_test-y_pred),y_test))"
      ],
      "metadata": {
        "id": "Dx99Pqx1w8h7",
        "colab": {
          "base_uri": "https://localhost:8080/"
        },
        "outputId": "80f6ec44-6160-4edb-a7c4-81db521991ac"
      },
      "execution_count": null,
      "outputs": [
        {
          "output_type": "execute_result",
          "data": {
            "text/plain": [
              "0.37188988304326176"
            ]
          },
          "metadata": {},
          "execution_count": 209
        }
      ]
    },
    {
      "cell_type": "markdown",
      "source": [
        "#AdaBoost Regression"
      ],
      "metadata": {
        "id": "rGG8N-3-tocV"
      }
    },
    {
      "cell_type": "code",
      "source": [
        "from sklearn.ensemble import AdaBoostRegressor"
      ],
      "metadata": {
        "id": "obbeMBJItnEk"
      },
      "execution_count": null,
      "outputs": []
    },
    {
      "cell_type": "code",
      "source": [
        "adaboost_regressor = AdaBoostRegressor(n_estimators=1500, learning_rate = 0.001, loss='exponential')\n",
        "ada_model = adaboost_regressor.fit(X_train, y_train)"
      ],
      "metadata": {
        "id": "VjmFtABbt10M"
      },
      "execution_count": null,
      "outputs": []
    },
    {
      "cell_type": "code",
      "source": [
        "y_pred = ada_model.predict(X_test)"
      ],
      "metadata": {
        "id": "sphwVHqxuEpp"
      },
      "execution_count": null,
      "outputs": []
    },
    {
      "cell_type": "code",
      "source": [
        "# Model Evaluation\n",
        "print('R^2:',metrics.r2_score(y_test, y_pred))\n",
        "print('Adjusted R^2:',1 - (1-metrics.r2_score(y_test, y_pred))*(len(y_test)-1)/(len(y_test)-X_train.shape[1]-1))\n",
        "print('MAE:',metrics.mean_absolute_error(y_test, y_pred))\n",
        "print('MSE:',metrics.mean_squared_error(y_test, y_pred))\n",
        "print('RMSE:',np.sqrt(metrics.mean_squared_error(y_test, y_pred)))"
      ],
      "metadata": {
        "colab": {
          "base_uri": "https://localhost:8080/"
        },
        "id": "VOklMAkRuXjO",
        "outputId": "450a0f6d-0146-4b61-bda9-139df090680c"
      },
      "execution_count": null,
      "outputs": [
        {
          "output_type": "stream",
          "name": "stdout",
          "text": [
            "R^2: 0.979572781021546\n",
            "Adjusted R^2: 0.9795500525442403\n",
            "MAE: 1016.54111269689\n",
            "MSE: 1901382.0081140625\n",
            "RMSE: 1378.906091115005\n"
          ]
        }
      ]
    },
    {
      "cell_type": "code",
      "source": [
        "# Visualizing the differences between actual prices and predicted values\n",
        "plt.scatter(y_test, y_pred)\n",
        "plt.xlabel(\"Prices\")\n",
        "plt.ylabel(\"Predicted prices\")\n",
        "plt.title(\"Prices vs Predicted prices for SVM Regression\")\n",
        "plt.show()"
      ],
      "metadata": {
        "colab": {
          "base_uri": "https://localhost:8080/",
          "height": 302
        },
        "id": "hAH5QqPAudJY",
        "outputId": "d305f148-ec5e-45eb-eb64-2409eb59a02b"
      },
      "execution_count": null,
      "outputs": [
        {
          "output_type": "display_data",
          "data": {
            "image/png": "[encoded data removed]",
            "text/plain": [
              "<Figure size 432x288 with 1 Axes>"
            ]
          },
          "metadata": {
            "needs_background": "light"
          }
        }
      ]
    },
    {
      "cell_type": "code",
      "source": [
        "# Checking residuals\n",
        "plt.scatter(y_pred,y_test-y_pred)\n",
        "plt.title(\"Predicted vs residuals\")\n",
        "plt.xlabel(\"Predicted\")\n",
        "plt.ylabel(\"Residuals\")\n",
        "plt.show()"
      ],
      "metadata": {
        "colab": {
          "base_uri": "https://localhost:8080/",
          "height": 302
        },
        "id": "CVWr8kibuf5T",
        "outputId": "5aa3ddc9-58e2-4e93-ac46-aca8c6cb4f4e"
      },
      "execution_count": null,
      "outputs": [
        {
          "output_type": "display_data",
          "data": {
            "image/png": "[encoded data removed]",
            "text/plain": [
              "<Figure size 432x288 with 1 Axes>"
            ]
          },
          "metadata": {
            "needs_background": "light"
          }
        }
      ]
    },
    {
      "cell_type": "markdown",
      "source": [
        "## For the train data"
      ],
      "metadata": {
        "id": "-3JgQXqYuohd"
      }
    },
    {
      "cell_type": "code",
      "source": [
        "# Predicting Train data with the model\n",
        "y_train_pred = reg.predict(X_train)"
      ],
      "metadata": {
        "id": "36sFdHW9urJh"
      },
      "execution_count": null,
      "outputs": []
    },
    {
      "cell_type": "code",
      "source": [
        "# Model Evaluation\n",
        "acc_svm = metrics.r2_score(y_train, y_train_pred)\n",
        "print('R^2:', acc_svm)\n",
        "print('Adjusted R^2:',1 - (1-metrics.r2_score(y_train, y_train_pred))*(len(y_train)-1)/(len(y_train)-X_test.shape[1]-1))\n",
        "print('MAE:',metrics.mean_absolute_error(y_train, y_train_pred))\n",
        "print('MSE:',metrics.mean_squared_error(y_train, y_train_pred))\n",
        "print('RMSE:',np.sqrt(metrics.mean_squared_error(y_train, y_train_pred)))"
      ],
      "metadata": {
        "colab": {
          "base_uri": "https://localhost:8080/"
        },
        "id": "vUkf0pxHuw5i",
        "outputId": "742a2ad2-1237-4ef0-c17e-d9f50cc1f99b"
      },
      "execution_count": null,
      "outputs": [
        {
          "output_type": "stream",
          "name": "stdout",
          "text": [
            "R^2: 0.10311129195967705\n",
            "Adjusted R^2: 0.10268394772713851\n",
            "MAE: 5271.625283798759\n",
            "MSE: 75647609.15713072\n",
            "RMSE: 8697.563403455631\n"
          ]
        }
      ]
    },
    {
      "cell_type": "markdown",
      "source": [
        "##Yüzdelik hata oranı"
      ],
      "metadata": {
        "id": "01kpkf-4u0_H"
      }
    },
    {
      "cell_type": "code",
      "source": [
        "np.mean(np.divide(abs(y_test-y_pred),y_test))"
      ],
      "metadata": {
        "colab": {
          "base_uri": "https://localhost:8080/"
        },
        "id": "M_dQAQbLuzbI",
        "outputId": "9532261f-7b75-4e24-db97-400513efa7e6"
      },
      "execution_count": null,
      "outputs": [
        {
          "output_type": "execute_result",
          "data": {
            "text/plain": [
              "0.0824205430645768"
            ]
          },
          "metadata": {},
          "execution_count": 215
        }
      ]
    },
    {
      "cell_type": "markdown",
      "source": [
        "#Models evaluation"
      ],
      "metadata": {
        "id": "2VGhIllDYWTZ"
      }
    },
    {
      "cell_type": "code",
      "source": [
        "models = pd.DataFrame({\n",
        "    'Model': ['Linear Regression', 'Random Forest', 'XGBoost', 'Support Vector Machines'],\n",
        "    'R-squared Score': [acc_linreg*100, acc_rf*100, acc_xgb*100, acc_svm*100]})\n",
        "models.sort_values(by='R-squared Score', ascending=False)"
      ],
      "metadata": {
        "id": "avJ5FNZXfiAD",
        "colab": {
          "base_uri": "https://localhost:8080/"
        },
        "outputId": "7c4a2760-7a2b-4d58-c9a6-fcfea3635061"
      },
      "execution_count": null,
      "outputs": [
        {
          "output_type": "execute_result",
          "data": {
            "text/html": [
              "\n",
              "  <div id=\"df-27b7adc3-dfe1-40c6-883a-3adb3f4ae402\">\n",
              "    <div class=\"colab-df-container\">\n",
              "      <div>\n",
              "<style scoped>\n",
              "    .dataframe tbody tr th:only-of-type {\n",
              "        vertical-align: middle;\n",
              "    }\n",
              "\n",
              "    .dataframe tbody tr th {\n",
              "        vertical-align: top;\n",
              "    }\n",
              "\n",
              "    .dataframe thead th {\n",
              "        text-align: right;\n",
              "    }\n",
              "</style>\n",
              "<table border=\"1\" class=\"dataframe\">\n",
              "  <thead>\n",
              "    <tr style=\"text-align: right;\">\n",
              "      <th></th>\n",
              "      <th>Model</th>\n",
              "      <th>R-squared Score</th>\n",
              "    </tr>\n",
              "  </thead>\n",
              "  <tbody>\n",
              "    <tr>\n",
              "      <th>0</th>\n",
              "      <td>Linear Regression</td>\n",
              "      <td>100.000000</td>\n",
              "    </tr>\n",
              "    <tr>\n",
              "      <th>1</th>\n",
              "      <td>Random Forest</td>\n",
              "      <td>99.997851</td>\n",
              "    </tr>\n",
              "    <tr>\n",
              "      <th>2</th>\n",
              "      <td>XGBoost</td>\n",
              "      <td>99.995940</td>\n",
              "    </tr>\n",
              "    <tr>\n",
              "      <th>3</th>\n",
              "      <td>Support Vector Machines</td>\n",
              "      <td>10.311129</td>\n",
              "    </tr>\n",
              "  </tbody>\n",
              "</table>\n",
              "</div>\n",
              "      <button class=\"colab-df-convert\" onclick=\"convertToInteractive('df-27b7adc3-dfe1-40c6-883a-3adb3f4ae402')\"\n",
              "              title=\"Convert this dataframe to an interactive table.\"\n",
              "              style=\"display:none;\">\n",
              "        \n",
              "  <svg xmlns=\"http://www.w3.org/2000/svg\" height=\"24px\"viewBox=\"0 0 24 24\"\n",
              "       width=\"24px\">\n",
              "    <path d=\"M0 0h24v24H0V0z\" fill=\"none\"/>\n",
              "    <path d=\"M18.56 5.44l.94 2.06.94-2.06 2.06-.94-2.06-.94-.94-2.06-.94 2.06-2.06.94zm-11 1L8.5 8.5l.94-2.06 2.06-.94-2.06-.94L8.5 2.5l-.94 2.06-2.06.94zm10 10l.94 2.06.94-2.06 2.06-.94-2.06-.94-.94-2.06-.94 2.06-2.06.94z\"/><path d=\"M17.41 7.96l-1.37-1.37c-.4-.4-.92-.59-1.43-.59-.52 0-1.04.2-1.43.59L10.3 9.45l-7.72 7.72c-.78.78-.78 2.05 0 2.83L4 21.41c.39.39.9.59 1.41.59.51 0 1.02-.2 1.41-.59l7.78-7.78 2.81-2.81c.8-.78.8-2.07 0-2.86zM5.41 20L4 18.59l7.72-7.72 1.47 1.35L5.41 20z\"/>\n",
              "  </svg>\n",
              "      </button>\n",
              "      \n",
              "  <style>\n",
              "    .colab-df-container {\n",
              "      display:flex;\n",
              "      flex-wrap:wrap;\n",
              "      gap: 12px;\n",
              "    }\n",
              "\n",
              "    .colab-df-convert {\n",
              "      background-color: #E8F0FE;\n",
              "      border: none;\n",
              "      border-radius: 50%;\n",
              "      cursor: pointer;\n",
              "      display: none;\n",
              "      fill: #1967D2;\n",
              "      height: 32px;\n",
              "      padding: 0 0 0 0;\n",
              "      width: 32px;\n",
              "    }\n",
              "\n",
              "    .colab-df-convert:hover {\n",
              "      background-color: #E2EBFA;\n",
              "      box-shadow: 0px 1px 2px rgba(60, 64, 67, 0.3), 0px 1px 3px 1px rgba(60, 64, 67, 0.15);\n",
              "      fill: #174EA6;\n",
              "    }\n",
              "\n",
              "    [theme=dark] .colab-df-convert {\n",
              "      background-color: #3B4455;\n",
              "      fill: #D2E3FC;\n",
              "    }\n",
              "\n",
              "    [theme=dark] .colab-df-convert:hover {\n",
              "      background-color: #434B5C;\n",
              "      box-shadow: 0px 1px 3px 1px rgba(0, 0, 0, 0.15);\n",
              "      filter: drop-shadow(0px 1px 2px rgba(0, 0, 0, 0.3));\n",
              "      fill: #FFFFFF;\n",
              "    }\n",
              "  </style>\n",
              "\n",
              "      <script>\n",
              "        const buttonEl =\n",
              "          document.querySelector('#df-27b7adc3-dfe1-40c6-883a-3adb3f4ae402 button.colab-df-convert');\n",
              "        buttonEl.style.display =\n",
              "          google.colab.kernel.accessAllowed ? 'block' : 'none';\n",
              "\n",
              "        async function convertToInteractive(key) {\n",
              "          const element = document.querySelector('#df-27b7adc3-dfe1-40c6-883a-3adb3f4ae402');\n",
              "          const dataTable =\n",
              "            await google.colab.kernel.invokeFunction('convertToInteractive',\n",
              "                                                     [key], {});\n",
              "          if (!dataTable) return;\n",
              "\n",
              "          const docLinkHtml = 'Like what you see? Visit the ' +\n",
              "            '<a target=\"_blank\" href=https://colab.research.google.com/notebooks/data_table.ipynb>data table notebook</a>'\n",
              "            + ' to learn more about interactive tables.';\n",
              "          element.innerHTML = '';\n",
              "          dataTable['output_type'] = 'display_data';\n",
              "          await google.colab.output.renderOutput(dataTable, element);\n",
              "          const docLink = document.createElement('div');\n",
              "          docLink.innerHTML = docLinkHtml;\n",
              "          element.appendChild(docLink);\n",
              "        }\n",
              "      </script>\n",
              "    </div>\n",
              "  </div>\n",
              "  "
            ],
            "text/plain": [
              "                     Model  R-squared Score\n",
              "0        Linear Regression       100.000000\n",
              "1            Random Forest        99.997851\n",
              "2                  XGBoost        99.995940\n",
              "3  Support Vector Machines        10.311129"
            ]
          },
          "metadata": {},
          "execution_count": 178
        }
      ]
    }
  ]
}